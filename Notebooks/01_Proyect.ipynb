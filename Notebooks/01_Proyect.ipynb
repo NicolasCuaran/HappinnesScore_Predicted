{
 "cells": [
  {
   "cell_type": "markdown",
   "id": "f639bd12",
   "metadata": {},
   "source": [
    "## Work Shop #3"
   ]
  },
  {
   "cell_type": "markdown",
   "id": "db2f1119",
   "metadata": {},
   "source": [
    "This proyecto want to predict the happiness score based on the data of the World Happiness Reports in diferents years from 2015 to 2019. The data is from csv documents and the pipeline is the document Wokrshop 3 Machine learnind and data streaming into the Documents folder.\n",
    "\n"
   ]
  },
  {
   "cell_type": "code",
   "execution_count": 1,
   "id": "8f805799",
   "metadata": {},
   "outputs": [],
   "source": [
    "import pandas as pd\n",
    "import country_converter as coco\n",
    "import matplotlib.pyplot as plt\n",
    "import plotly.express as px\n",
    "import seaborn as sns"
   ]
  },
  {
   "cell_type": "markdown",
   "id": "c5101776",
   "metadata": {},
   "source": [
    "# 2015"
   ]
  },
  {
   "cell_type": "code",
   "execution_count": null,
   "id": "01f1dc5c",
   "metadata": {},
   "outputs": [
    {
     "data": {
      "text/html": [
       "<div>\n",
       "<style scoped>\n",
       "    .dataframe tbody tr th:only-of-type {\n",
       "        vertical-align: middle;\n",
       "    }\n",
       "\n",
       "    .dataframe tbody tr th {\n",
       "        vertical-align: top;\n",
       "    }\n",
       "\n",
       "    .dataframe thead th {\n",
       "        text-align: right;\n",
       "    }\n",
       "</style>\n",
       "<table border=\"1\" class=\"dataframe\">\n",
       "  <thead>\n",
       "    <tr style=\"text-align: right;\">\n",
       "      <th></th>\n",
       "      <th>Country</th>\n",
       "      <th>Region</th>\n",
       "      <th>Happiness Rank</th>\n",
       "      <th>Happiness Score</th>\n",
       "      <th>Standard Error</th>\n",
       "      <th>Economy (GDP per Capita)</th>\n",
       "      <th>Family</th>\n",
       "      <th>Health (Life Expectancy)</th>\n",
       "      <th>Freedom</th>\n",
       "      <th>Trust (Government Corruption)</th>\n",
       "      <th>Generosity</th>\n",
       "      <th>Dystopia Residual</th>\n",
       "    </tr>\n",
       "  </thead>\n",
       "  <tbody>\n",
       "    <tr>\n",
       "      <th>0</th>\n",
       "      <td>Switzerland</td>\n",
       "      <td>Western Europe</td>\n",
       "      <td>1</td>\n",
       "      <td>7.587</td>\n",
       "      <td>0.03411</td>\n",
       "      <td>1.39651</td>\n",
       "      <td>1.34951</td>\n",
       "      <td>0.94143</td>\n",
       "      <td>0.66557</td>\n",
       "      <td>0.41978</td>\n",
       "      <td>0.29678</td>\n",
       "      <td>2.51738</td>\n",
       "    </tr>\n",
       "    <tr>\n",
       "      <th>1</th>\n",
       "      <td>Iceland</td>\n",
       "      <td>Western Europe</td>\n",
       "      <td>2</td>\n",
       "      <td>7.561</td>\n",
       "      <td>0.04884</td>\n",
       "      <td>1.30232</td>\n",
       "      <td>1.40223</td>\n",
       "      <td>0.94784</td>\n",
       "      <td>0.62877</td>\n",
       "      <td>0.14145</td>\n",
       "      <td>0.43630</td>\n",
       "      <td>2.70201</td>\n",
       "    </tr>\n",
       "    <tr>\n",
       "      <th>2</th>\n",
       "      <td>Denmark</td>\n",
       "      <td>Western Europe</td>\n",
       "      <td>3</td>\n",
       "      <td>7.527</td>\n",
       "      <td>0.03328</td>\n",
       "      <td>1.32548</td>\n",
       "      <td>1.36058</td>\n",
       "      <td>0.87464</td>\n",
       "      <td>0.64938</td>\n",
       "      <td>0.48357</td>\n",
       "      <td>0.34139</td>\n",
       "      <td>2.49204</td>\n",
       "    </tr>\n",
       "  </tbody>\n",
       "</table>\n",
       "</div>"
      ],
      "text/plain": [
       "       Country          Region  Happiness Rank  Happiness Score  \\\n",
       "0  Switzerland  Western Europe               1            7.587   \n",
       "1      Iceland  Western Europe               2            7.561   \n",
       "2      Denmark  Western Europe               3            7.527   \n",
       "\n",
       "   Standard Error  Economy (GDP per Capita)   Family  \\\n",
       "0         0.03411                   1.39651  1.34951   \n",
       "1         0.04884                   1.30232  1.40223   \n",
       "2         0.03328                   1.32548  1.36058   \n",
       "\n",
       "   Health (Life Expectancy)  Freedom  Trust (Government Corruption)  \\\n",
       "0                   0.94143  0.66557                        0.41978   \n",
       "1                   0.94784  0.62877                        0.14145   \n",
       "2                   0.87464  0.64938                        0.48357   \n",
       "\n",
       "   Generosity  Dystopia Residual  \n",
       "0     0.29678            2.51738  \n",
       "1     0.43630            2.70201  \n",
       "2     0.34139            2.49204  "
      ]
     },
     "execution_count": 2,
     "metadata": {},
     "output_type": "execute_result"
    }
   ],
   "source": [
    "df_2015 = pd.read_csv(\"../Data/2015.csv\")\n",
    "df_2015.head(3)"
   ]
  },
  {
   "cell_type": "code",
   "execution_count": 3,
   "id": "ae1702e6",
   "metadata": {},
   "outputs": [
    {
     "name": "stdout",
     "output_type": "stream",
     "text": [
      "<class 'pandas.core.frame.DataFrame'>\n",
      "RangeIndex: 158 entries, 0 to 157\n",
      "Data columns (total 12 columns):\n",
      " #   Column                         Non-Null Count  Dtype  \n",
      "---  ------                         --------------  -----  \n",
      " 0   Country                        158 non-null    object \n",
      " 1   Region                         158 non-null    object \n",
      " 2   Happiness Rank                 158 non-null    int64  \n",
      " 3   Happiness Score                158 non-null    float64\n",
      " 4   Standard Error                 158 non-null    float64\n",
      " 5   Economy (GDP per Capita)       158 non-null    float64\n",
      " 6   Family                         158 non-null    float64\n",
      " 7   Health (Life Expectancy)       158 non-null    float64\n",
      " 8   Freedom                        158 non-null    float64\n",
      " 9   Trust (Government Corruption)  158 non-null    float64\n",
      " 10  Generosity                     158 non-null    float64\n",
      " 11  Dystopia Residual              158 non-null    float64\n",
      "dtypes: float64(9), int64(1), object(2)\n",
      "memory usage: 14.9+ KB\n"
     ]
    }
   ],
   "source": [
    "df_2015.info()"
   ]
  },
  {
   "cell_type": "markdown",
   "id": "6de14336",
   "metadata": {},
   "source": [
    "## 2016"
   ]
  },
  {
   "cell_type": "code",
   "execution_count": 4,
   "id": "9de60026",
   "metadata": {},
   "outputs": [
    {
     "data": {
      "text/html": [
       "<div>\n",
       "<style scoped>\n",
       "    .dataframe tbody tr th:only-of-type {\n",
       "        vertical-align: middle;\n",
       "    }\n",
       "\n",
       "    .dataframe tbody tr th {\n",
       "        vertical-align: top;\n",
       "    }\n",
       "\n",
       "    .dataframe thead th {\n",
       "        text-align: right;\n",
       "    }\n",
       "</style>\n",
       "<table border=\"1\" class=\"dataframe\">\n",
       "  <thead>\n",
       "    <tr style=\"text-align: right;\">\n",
       "      <th></th>\n",
       "      <th>Country</th>\n",
       "      <th>Region</th>\n",
       "      <th>Happiness Rank</th>\n",
       "      <th>Happiness Score</th>\n",
       "      <th>Lower Confidence Interval</th>\n",
       "      <th>Upper Confidence Interval</th>\n",
       "      <th>Economy (GDP per Capita)</th>\n",
       "      <th>Family</th>\n",
       "      <th>Health (Life Expectancy)</th>\n",
       "      <th>Freedom</th>\n",
       "      <th>Trust (Government Corruption)</th>\n",
       "      <th>Generosity</th>\n",
       "      <th>Dystopia Residual</th>\n",
       "    </tr>\n",
       "  </thead>\n",
       "  <tbody>\n",
       "    <tr>\n",
       "      <th>0</th>\n",
       "      <td>Denmark</td>\n",
       "      <td>Western Europe</td>\n",
       "      <td>1</td>\n",
       "      <td>7.526</td>\n",
       "      <td>7.460</td>\n",
       "      <td>7.592</td>\n",
       "      <td>1.44178</td>\n",
       "      <td>1.16374</td>\n",
       "      <td>0.79504</td>\n",
       "      <td>0.57941</td>\n",
       "      <td>0.44453</td>\n",
       "      <td>0.36171</td>\n",
       "      <td>2.73939</td>\n",
       "    </tr>\n",
       "    <tr>\n",
       "      <th>1</th>\n",
       "      <td>Switzerland</td>\n",
       "      <td>Western Europe</td>\n",
       "      <td>2</td>\n",
       "      <td>7.509</td>\n",
       "      <td>7.428</td>\n",
       "      <td>7.590</td>\n",
       "      <td>1.52733</td>\n",
       "      <td>1.14524</td>\n",
       "      <td>0.86303</td>\n",
       "      <td>0.58557</td>\n",
       "      <td>0.41203</td>\n",
       "      <td>0.28083</td>\n",
       "      <td>2.69463</td>\n",
       "    </tr>\n",
       "    <tr>\n",
       "      <th>2</th>\n",
       "      <td>Iceland</td>\n",
       "      <td>Western Europe</td>\n",
       "      <td>3</td>\n",
       "      <td>7.501</td>\n",
       "      <td>7.333</td>\n",
       "      <td>7.669</td>\n",
       "      <td>1.42666</td>\n",
       "      <td>1.18326</td>\n",
       "      <td>0.86733</td>\n",
       "      <td>0.56624</td>\n",
       "      <td>0.14975</td>\n",
       "      <td>0.47678</td>\n",
       "      <td>2.83137</td>\n",
       "    </tr>\n",
       "  </tbody>\n",
       "</table>\n",
       "</div>"
      ],
      "text/plain": [
       "       Country          Region  Happiness Rank  Happiness Score  \\\n",
       "0      Denmark  Western Europe               1            7.526   \n",
       "1  Switzerland  Western Europe               2            7.509   \n",
       "2      Iceland  Western Europe               3            7.501   \n",
       "\n",
       "   Lower Confidence Interval  Upper Confidence Interval  \\\n",
       "0                      7.460                      7.592   \n",
       "1                      7.428                      7.590   \n",
       "2                      7.333                      7.669   \n",
       "\n",
       "   Economy (GDP per Capita)   Family  Health (Life Expectancy)  Freedom  \\\n",
       "0                   1.44178  1.16374                   0.79504  0.57941   \n",
       "1                   1.52733  1.14524                   0.86303  0.58557   \n",
       "2                   1.42666  1.18326                   0.86733  0.56624   \n",
       "\n",
       "   Trust (Government Corruption)  Generosity  Dystopia Residual  \n",
       "0                        0.44453     0.36171            2.73939  \n",
       "1                        0.41203     0.28083            2.69463  \n",
       "2                        0.14975     0.47678            2.83137  "
      ]
     },
     "execution_count": 4,
     "metadata": {},
     "output_type": "execute_result"
    }
   ],
   "source": [
    "df_2016 = pd.read_csv(\"../Data/2016.csv\")\n",
    "df_2016.head(3)"
   ]
  },
  {
   "cell_type": "code",
   "execution_count": 5,
   "id": "c32ec623",
   "metadata": {},
   "outputs": [
    {
     "name": "stdout",
     "output_type": "stream",
     "text": [
      "<class 'pandas.core.frame.DataFrame'>\n",
      "RangeIndex: 157 entries, 0 to 156\n",
      "Data columns (total 13 columns):\n",
      " #   Column                         Non-Null Count  Dtype  \n",
      "---  ------                         --------------  -----  \n",
      " 0   Country                        157 non-null    object \n",
      " 1   Region                         157 non-null    object \n",
      " 2   Happiness Rank                 157 non-null    int64  \n",
      " 3   Happiness Score                157 non-null    float64\n",
      " 4   Lower Confidence Interval      157 non-null    float64\n",
      " 5   Upper Confidence Interval      157 non-null    float64\n",
      " 6   Economy (GDP per Capita)       157 non-null    float64\n",
      " 7   Family                         157 non-null    float64\n",
      " 8   Health (Life Expectancy)       157 non-null    float64\n",
      " 9   Freedom                        157 non-null    float64\n",
      " 10  Trust (Government Corruption)  157 non-null    float64\n",
      " 11  Generosity                     157 non-null    float64\n",
      " 12  Dystopia Residual              157 non-null    float64\n",
      "dtypes: float64(10), int64(1), object(2)\n",
      "memory usage: 16.1+ KB\n"
     ]
    }
   ],
   "source": [
    "df_2016.info()"
   ]
  },
  {
   "cell_type": "markdown",
   "id": "32c60d6d",
   "metadata": {},
   "source": [
    "## 2017"
   ]
  },
  {
   "cell_type": "code",
   "execution_count": 6,
   "id": "93d2169f",
   "metadata": {},
   "outputs": [
    {
     "data": {
      "text/html": [
       "<div>\n",
       "<style scoped>\n",
       "    .dataframe tbody tr th:only-of-type {\n",
       "        vertical-align: middle;\n",
       "    }\n",
       "\n",
       "    .dataframe tbody tr th {\n",
       "        vertical-align: top;\n",
       "    }\n",
       "\n",
       "    .dataframe thead th {\n",
       "        text-align: right;\n",
       "    }\n",
       "</style>\n",
       "<table border=\"1\" class=\"dataframe\">\n",
       "  <thead>\n",
       "    <tr style=\"text-align: right;\">\n",
       "      <th></th>\n",
       "      <th>Country</th>\n",
       "      <th>Happiness.Rank</th>\n",
       "      <th>Happiness.Score</th>\n",
       "      <th>Whisker.high</th>\n",
       "      <th>Whisker.low</th>\n",
       "      <th>Economy..GDP.per.Capita.</th>\n",
       "      <th>Family</th>\n",
       "      <th>Health..Life.Expectancy.</th>\n",
       "      <th>Freedom</th>\n",
       "      <th>Generosity</th>\n",
       "      <th>Trust..Government.Corruption.</th>\n",
       "      <th>Dystopia.Residual</th>\n",
       "    </tr>\n",
       "  </thead>\n",
       "  <tbody>\n",
       "    <tr>\n",
       "      <th>0</th>\n",
       "      <td>Norway</td>\n",
       "      <td>1</td>\n",
       "      <td>7.537</td>\n",
       "      <td>7.594445</td>\n",
       "      <td>7.479556</td>\n",
       "      <td>1.616463</td>\n",
       "      <td>1.533524</td>\n",
       "      <td>0.796667</td>\n",
       "      <td>0.635423</td>\n",
       "      <td>0.362012</td>\n",
       "      <td>0.315964</td>\n",
       "      <td>2.277027</td>\n",
       "    </tr>\n",
       "    <tr>\n",
       "      <th>1</th>\n",
       "      <td>Denmark</td>\n",
       "      <td>2</td>\n",
       "      <td>7.522</td>\n",
       "      <td>7.581728</td>\n",
       "      <td>7.462272</td>\n",
       "      <td>1.482383</td>\n",
       "      <td>1.551122</td>\n",
       "      <td>0.792566</td>\n",
       "      <td>0.626007</td>\n",
       "      <td>0.355280</td>\n",
       "      <td>0.400770</td>\n",
       "      <td>2.313707</td>\n",
       "    </tr>\n",
       "    <tr>\n",
       "      <th>2</th>\n",
       "      <td>Iceland</td>\n",
       "      <td>3</td>\n",
       "      <td>7.504</td>\n",
       "      <td>7.622030</td>\n",
       "      <td>7.385970</td>\n",
       "      <td>1.480633</td>\n",
       "      <td>1.610574</td>\n",
       "      <td>0.833552</td>\n",
       "      <td>0.627163</td>\n",
       "      <td>0.475540</td>\n",
       "      <td>0.153527</td>\n",
       "      <td>2.322715</td>\n",
       "    </tr>\n",
       "  </tbody>\n",
       "</table>\n",
       "</div>"
      ],
      "text/plain": [
       "   Country  Happiness.Rank  Happiness.Score  Whisker.high  Whisker.low  \\\n",
       "0   Norway               1            7.537      7.594445     7.479556   \n",
       "1  Denmark               2            7.522      7.581728     7.462272   \n",
       "2  Iceland               3            7.504      7.622030     7.385970   \n",
       "\n",
       "   Economy..GDP.per.Capita.    Family  Health..Life.Expectancy.   Freedom  \\\n",
       "0                  1.616463  1.533524                  0.796667  0.635423   \n",
       "1                  1.482383  1.551122                  0.792566  0.626007   \n",
       "2                  1.480633  1.610574                  0.833552  0.627163   \n",
       "\n",
       "   Generosity  Trust..Government.Corruption.  Dystopia.Residual  \n",
       "0    0.362012                       0.315964           2.277027  \n",
       "1    0.355280                       0.400770           2.313707  \n",
       "2    0.475540                       0.153527           2.322715  "
      ]
     },
     "execution_count": 6,
     "metadata": {},
     "output_type": "execute_result"
    }
   ],
   "source": [
    "df_2017 = pd.read_csv(\"../Data/2017.csv\")\n",
    "df_2017.head(3)"
   ]
  },
  {
   "cell_type": "code",
   "execution_count": 7,
   "id": "df7d6b9f",
   "metadata": {},
   "outputs": [
    {
     "name": "stdout",
     "output_type": "stream",
     "text": [
      "<class 'pandas.core.frame.DataFrame'>\n",
      "RangeIndex: 155 entries, 0 to 154\n",
      "Data columns (total 12 columns):\n",
      " #   Column                         Non-Null Count  Dtype  \n",
      "---  ------                         --------------  -----  \n",
      " 0   Country                        155 non-null    object \n",
      " 1   Happiness.Rank                 155 non-null    int64  \n",
      " 2   Happiness.Score                155 non-null    float64\n",
      " 3   Whisker.high                   155 non-null    float64\n",
      " 4   Whisker.low                    155 non-null    float64\n",
      " 5   Economy..GDP.per.Capita.       155 non-null    float64\n",
      " 6   Family                         155 non-null    float64\n",
      " 7   Health..Life.Expectancy.       155 non-null    float64\n",
      " 8   Freedom                        155 non-null    float64\n",
      " 9   Generosity                     155 non-null    float64\n",
      " 10  Trust..Government.Corruption.  155 non-null    float64\n",
      " 11  Dystopia.Residual              155 non-null    float64\n",
      "dtypes: float64(10), int64(1), object(1)\n",
      "memory usage: 14.7+ KB\n"
     ]
    }
   ],
   "source": [
    "df_2017.info()"
   ]
  },
  {
   "cell_type": "markdown",
   "id": "faf8ad4d",
   "metadata": {},
   "source": [
    "## 2018"
   ]
  },
  {
   "cell_type": "code",
   "execution_count": 8,
   "id": "0bb6a49d",
   "metadata": {},
   "outputs": [
    {
     "data": {
      "text/html": [
       "<div>\n",
       "<style scoped>\n",
       "    .dataframe tbody tr th:only-of-type {\n",
       "        vertical-align: middle;\n",
       "    }\n",
       "\n",
       "    .dataframe tbody tr th {\n",
       "        vertical-align: top;\n",
       "    }\n",
       "\n",
       "    .dataframe thead th {\n",
       "        text-align: right;\n",
       "    }\n",
       "</style>\n",
       "<table border=\"1\" class=\"dataframe\">\n",
       "  <thead>\n",
       "    <tr style=\"text-align: right;\">\n",
       "      <th></th>\n",
       "      <th>Overall rank</th>\n",
       "      <th>Country or region</th>\n",
       "      <th>Score</th>\n",
       "      <th>GDP per capita</th>\n",
       "      <th>Social support</th>\n",
       "      <th>Healthy life expectancy</th>\n",
       "      <th>Freedom to make life choices</th>\n",
       "      <th>Generosity</th>\n",
       "      <th>Perceptions of corruption</th>\n",
       "    </tr>\n",
       "  </thead>\n",
       "  <tbody>\n",
       "    <tr>\n",
       "      <th>0</th>\n",
       "      <td>1</td>\n",
       "      <td>Finland</td>\n",
       "      <td>7.632</td>\n",
       "      <td>1.305</td>\n",
       "      <td>1.592</td>\n",
       "      <td>0.874</td>\n",
       "      <td>0.681</td>\n",
       "      <td>0.202</td>\n",
       "      <td>0.393</td>\n",
       "    </tr>\n",
       "    <tr>\n",
       "      <th>1</th>\n",
       "      <td>2</td>\n",
       "      <td>Norway</td>\n",
       "      <td>7.594</td>\n",
       "      <td>1.456</td>\n",
       "      <td>1.582</td>\n",
       "      <td>0.861</td>\n",
       "      <td>0.686</td>\n",
       "      <td>0.286</td>\n",
       "      <td>0.340</td>\n",
       "    </tr>\n",
       "    <tr>\n",
       "      <th>2</th>\n",
       "      <td>3</td>\n",
       "      <td>Denmark</td>\n",
       "      <td>7.555</td>\n",
       "      <td>1.351</td>\n",
       "      <td>1.590</td>\n",
       "      <td>0.868</td>\n",
       "      <td>0.683</td>\n",
       "      <td>0.284</td>\n",
       "      <td>0.408</td>\n",
       "    </tr>\n",
       "  </tbody>\n",
       "</table>\n",
       "</div>"
      ],
      "text/plain": [
       "   Overall rank Country or region  Score  GDP per capita  Social support  \\\n",
       "0             1           Finland  7.632           1.305           1.592   \n",
       "1             2            Norway  7.594           1.456           1.582   \n",
       "2             3           Denmark  7.555           1.351           1.590   \n",
       "\n",
       "   Healthy life expectancy  Freedom to make life choices  Generosity  \\\n",
       "0                    0.874                         0.681       0.202   \n",
       "1                    0.861                         0.686       0.286   \n",
       "2                    0.868                         0.683       0.284   \n",
       "\n",
       "   Perceptions of corruption  \n",
       "0                      0.393  \n",
       "1                      0.340  \n",
       "2                      0.408  "
      ]
     },
     "execution_count": 8,
     "metadata": {},
     "output_type": "execute_result"
    }
   ],
   "source": [
    "df_2018 = pd.read_csv(\"../Data/2018.csv\")\n",
    "df_2018.head(3)"
   ]
  },
  {
   "cell_type": "code",
   "execution_count": 9,
   "id": "3cd08c2f",
   "metadata": {},
   "outputs": [
    {
     "name": "stdout",
     "output_type": "stream",
     "text": [
      "<class 'pandas.core.frame.DataFrame'>\n",
      "RangeIndex: 156 entries, 0 to 155\n",
      "Data columns (total 9 columns):\n",
      " #   Column                        Non-Null Count  Dtype  \n",
      "---  ------                        --------------  -----  \n",
      " 0   Overall rank                  156 non-null    int64  \n",
      " 1   Country or region             156 non-null    object \n",
      " 2   Score                         156 non-null    float64\n",
      " 3   GDP per capita                156 non-null    float64\n",
      " 4   Social support                156 non-null    float64\n",
      " 5   Healthy life expectancy       156 non-null    float64\n",
      " 6   Freedom to make life choices  156 non-null    float64\n",
      " 7   Generosity                    156 non-null    float64\n",
      " 8   Perceptions of corruption     155 non-null    float64\n",
      "dtypes: float64(7), int64(1), object(1)\n",
      "memory usage: 11.1+ KB\n"
     ]
    }
   ],
   "source": [
    "df_2018.info()"
   ]
  },
  {
   "cell_type": "markdown",
   "id": "b746b427",
   "metadata": {},
   "source": [
    "## 2019"
   ]
  },
  {
   "cell_type": "code",
   "execution_count": 10,
   "id": "adeabb7e",
   "metadata": {},
   "outputs": [
    {
     "data": {
      "text/html": [
       "<div>\n",
       "<style scoped>\n",
       "    .dataframe tbody tr th:only-of-type {\n",
       "        vertical-align: middle;\n",
       "    }\n",
       "\n",
       "    .dataframe tbody tr th {\n",
       "        vertical-align: top;\n",
       "    }\n",
       "\n",
       "    .dataframe thead th {\n",
       "        text-align: right;\n",
       "    }\n",
       "</style>\n",
       "<table border=\"1\" class=\"dataframe\">\n",
       "  <thead>\n",
       "    <tr style=\"text-align: right;\">\n",
       "      <th></th>\n",
       "      <th>Overall rank</th>\n",
       "      <th>Country or region</th>\n",
       "      <th>Score</th>\n",
       "      <th>GDP per capita</th>\n",
       "      <th>Social support</th>\n",
       "      <th>Healthy life expectancy</th>\n",
       "      <th>Freedom to make life choices</th>\n",
       "      <th>Generosity</th>\n",
       "      <th>Perceptions of corruption</th>\n",
       "    </tr>\n",
       "  </thead>\n",
       "  <tbody>\n",
       "    <tr>\n",
       "      <th>0</th>\n",
       "      <td>1</td>\n",
       "      <td>Finland</td>\n",
       "      <td>7.769</td>\n",
       "      <td>1.340</td>\n",
       "      <td>1.587</td>\n",
       "      <td>0.986</td>\n",
       "      <td>0.596</td>\n",
       "      <td>0.153</td>\n",
       "      <td>0.393</td>\n",
       "    </tr>\n",
       "    <tr>\n",
       "      <th>1</th>\n",
       "      <td>2</td>\n",
       "      <td>Denmark</td>\n",
       "      <td>7.600</td>\n",
       "      <td>1.383</td>\n",
       "      <td>1.573</td>\n",
       "      <td>0.996</td>\n",
       "      <td>0.592</td>\n",
       "      <td>0.252</td>\n",
       "      <td>0.410</td>\n",
       "    </tr>\n",
       "    <tr>\n",
       "      <th>2</th>\n",
       "      <td>3</td>\n",
       "      <td>Norway</td>\n",
       "      <td>7.554</td>\n",
       "      <td>1.488</td>\n",
       "      <td>1.582</td>\n",
       "      <td>1.028</td>\n",
       "      <td>0.603</td>\n",
       "      <td>0.271</td>\n",
       "      <td>0.341</td>\n",
       "    </tr>\n",
       "  </tbody>\n",
       "</table>\n",
       "</div>"
      ],
      "text/plain": [
       "   Overall rank Country or region  Score  GDP per capita  Social support  \\\n",
       "0             1           Finland  7.769           1.340           1.587   \n",
       "1             2           Denmark  7.600           1.383           1.573   \n",
       "2             3            Norway  7.554           1.488           1.582   \n",
       "\n",
       "   Healthy life expectancy  Freedom to make life choices  Generosity  \\\n",
       "0                    0.986                         0.596       0.153   \n",
       "1                    0.996                         0.592       0.252   \n",
       "2                    1.028                         0.603       0.271   \n",
       "\n",
       "   Perceptions of corruption  \n",
       "0                      0.393  \n",
       "1                      0.410  \n",
       "2                      0.341  "
      ]
     },
     "execution_count": 10,
     "metadata": {},
     "output_type": "execute_result"
    }
   ],
   "source": [
    "df_2019 = pd.read_csv(\"../Data/2019.csv\")\n",
    "df_2019.head(3)"
   ]
  },
  {
   "cell_type": "code",
   "execution_count": 11,
   "id": "907d3c63",
   "metadata": {},
   "outputs": [
    {
     "name": "stdout",
     "output_type": "stream",
     "text": [
      "<class 'pandas.core.frame.DataFrame'>\n",
      "RangeIndex: 156 entries, 0 to 155\n",
      "Data columns (total 9 columns):\n",
      " #   Column                        Non-Null Count  Dtype  \n",
      "---  ------                        --------------  -----  \n",
      " 0   Overall rank                  156 non-null    int64  \n",
      " 1   Country or region             156 non-null    object \n",
      " 2   Score                         156 non-null    float64\n",
      " 3   GDP per capita                156 non-null    float64\n",
      " 4   Social support                156 non-null    float64\n",
      " 5   Healthy life expectancy       156 non-null    float64\n",
      " 6   Freedom to make life choices  156 non-null    float64\n",
      " 7   Generosity                    156 non-null    float64\n",
      " 8   Perceptions of corruption     156 non-null    float64\n",
      "dtypes: float64(7), int64(1), object(1)\n",
      "memory usage: 11.1+ KB\n"
     ]
    }
   ],
   "source": [
    "df_2019.info()"
   ]
  },
  {
   "cell_type": "code",
   "execution_count": 12,
   "id": "14e9a1a3",
   "metadata": {},
   "outputs": [],
   "source": [
    "\n",
    "def dataframe_briefing(data):    \n",
    "    summary_list = []\n",
    "\n",
    "    for year, df in data.items():\n",
    "        num_rows = df.shape[0]\n",
    "        num_columns = df.shape[1]\n",
    "        num_nulls = df.isnull().sum().sum()\n",
    "        num_duplicates = df.duplicated().sum()\n",
    "        \n",
    "        summary_list.append({\n",
    "            \"Year\": year,\n",
    "            \"Number of rows\": num_rows,\n",
    "            \"Number of columns\": num_columns,\n",
    "            \"Number of null values\": num_nulls,\n",
    "            \"Number of duplicated values\": num_duplicates\n",
    "        })\n",
    "    \n",
    "    briefing = pd.DataFrame(summary_list)\n",
    "    \n",
    "    return briefing\n"
   ]
  },
  {
   "cell_type": "markdown",
   "id": "f6fc08bf",
   "metadata": {},
   "source": [
    "Esta funcion nos muestra el numero de filas, columnas, valores nulos, y cantidad de duplicados en los data frames con los que estamos trabajando"
   ]
  },
  {
   "cell_type": "code",
   "execution_count": 13,
   "id": "573a9ae4",
   "metadata": {},
   "outputs": [],
   "source": [
    "\n",
    "def comparing_names(data):    \n",
    "    all_columns = set()\n",
    "    for df in data.values():\n",
    "        all_columns.update(df.columns)\n",
    "    \n",
    "    comparison_dict = {col: {year: (\"✔\" if col in df.columns else \"✘\") for year, df in data.items()} for col in all_columns}\n",
    "    \n",
    "    comparison_df = pd.DataFrame(comparison_dict).T\n",
    "    comparison_df.index.name = \"Column Name\"\n",
    "    \n",
    "    return comparison_df"
   ]
  },
  {
   "cell_type": "markdown",
   "id": "df63979a",
   "metadata": {},
   "source": [
    "Ahora vamos a revisar la informacion presente en el conjunto de datos que cargamos en pandas"
   ]
  },
  {
   "cell_type": "code",
   "execution_count": 14,
   "id": "7520f300",
   "metadata": {},
   "outputs": [],
   "source": [
    "happiness_dataframes = {\n",
    "    \"2015\": df_2015,\n",
    "    \"2016\": df_2016,\n",
    "    \"2017\": df_2017,\n",
    "    \"2018\": df_2018,\n",
    "    \"2019\": df_2019\n",
    "}"
   ]
  },
  {
   "cell_type": "code",
   "execution_count": 15,
   "id": "10cc1a74",
   "metadata": {},
   "outputs": [
    {
     "data": {
      "text/html": [
       "<div>\n",
       "<style scoped>\n",
       "    .dataframe tbody tr th:only-of-type {\n",
       "        vertical-align: middle;\n",
       "    }\n",
       "\n",
       "    .dataframe tbody tr th {\n",
       "        vertical-align: top;\n",
       "    }\n",
       "\n",
       "    .dataframe thead th {\n",
       "        text-align: right;\n",
       "    }\n",
       "</style>\n",
       "<table border=\"1\" class=\"dataframe\">\n",
       "  <thead>\n",
       "    <tr style=\"text-align: right;\">\n",
       "      <th></th>\n",
       "      <th>Year</th>\n",
       "      <th>Number of rows</th>\n",
       "      <th>Number of columns</th>\n",
       "      <th>Number of null values</th>\n",
       "      <th>Number of duplicated values</th>\n",
       "    </tr>\n",
       "  </thead>\n",
       "  <tbody>\n",
       "    <tr>\n",
       "      <th>0</th>\n",
       "      <td>2015</td>\n",
       "      <td>158</td>\n",
       "      <td>12</td>\n",
       "      <td>0</td>\n",
       "      <td>0</td>\n",
       "    </tr>\n",
       "    <tr>\n",
       "      <th>1</th>\n",
       "      <td>2016</td>\n",
       "      <td>157</td>\n",
       "      <td>13</td>\n",
       "      <td>0</td>\n",
       "      <td>0</td>\n",
       "    </tr>\n",
       "    <tr>\n",
       "      <th>2</th>\n",
       "      <td>2017</td>\n",
       "      <td>155</td>\n",
       "      <td>12</td>\n",
       "      <td>0</td>\n",
       "      <td>0</td>\n",
       "    </tr>\n",
       "    <tr>\n",
       "      <th>3</th>\n",
       "      <td>2018</td>\n",
       "      <td>156</td>\n",
       "      <td>9</td>\n",
       "      <td>1</td>\n",
       "      <td>0</td>\n",
       "    </tr>\n",
       "    <tr>\n",
       "      <th>4</th>\n",
       "      <td>2019</td>\n",
       "      <td>156</td>\n",
       "      <td>9</td>\n",
       "      <td>0</td>\n",
       "      <td>0</td>\n",
       "    </tr>\n",
       "  </tbody>\n",
       "</table>\n",
       "</div>"
      ],
      "text/plain": [
       "   Year  Number of rows  Number of columns  Number of null values  \\\n",
       "0  2015             158                 12                      0   \n",
       "1  2016             157                 13                      0   \n",
       "2  2017             155                 12                      0   \n",
       "3  2018             156                  9                      1   \n",
       "4  2019             156                  9                      0   \n",
       "\n",
       "   Number of duplicated values  \n",
       "0                            0  \n",
       "1                            0  \n",
       "2                            0  \n",
       "3                            0  \n",
       "4                            0  "
      ]
     },
     "execution_count": 15,
     "metadata": {},
     "output_type": "execute_result"
    }
   ],
   "source": [
    "briefing = dataframe_briefing(happiness_dataframes)\n",
    "briefing"
   ]
  },
  {
   "cell_type": "code",
   "execution_count": 16,
   "id": "0a7e3dfd",
   "metadata": {},
   "outputs": [
    {
     "name": "stdout",
     "output_type": "stream",
     "text": [
      "                              2015 2016 2017 2018 2019\n",
      "Column Name                                           \n",
      "GDP per capita                   ✘    ✘    ✘    ✔    ✔\n",
      "Family                           ✔    ✔    ✔    ✘    ✘\n",
      "Whisker.high                     ✘    ✘    ✔    ✘    ✘\n",
      "Whisker.low                      ✘    ✘    ✔    ✘    ✘\n",
      "Healthy life expectancy          ✘    ✘    ✘    ✔    ✔\n",
      "Happiness.Score                  ✘    ✘    ✔    ✘    ✘\n",
      "Social support                   ✘    ✘    ✘    ✔    ✔\n",
      "Generosity                       ✔    ✔    ✔    ✔    ✔\n",
      "Country or region                ✘    ✘    ✘    ✔    ✔\n",
      "Dystopia.Residual                ✘    ✘    ✔    ✘    ✘\n",
      "Upper Confidence Interval        ✘    ✔    ✘    ✘    ✘\n",
      "Happiness Score                  ✔    ✔    ✘    ✘    ✘\n",
      "Freedom                          ✔    ✔    ✔    ✘    ✘\n",
      "Perceptions of corruption        ✘    ✘    ✘    ✔    ✔\n",
      "Region                           ✔    ✔    ✘    ✘    ✘\n",
      "Happiness Rank                   ✔    ✔    ✘    ✘    ✘\n",
      "Happiness.Rank                   ✘    ✘    ✔    ✘    ✘\n",
      "Economy..GDP.per.Capita.         ✘    ✘    ✔    ✘    ✘\n",
      "Standard Error                   ✔    ✘    ✘    ✘    ✘\n",
      "Health..Life.Expectancy.         ✘    ✘    ✔    ✘    ✘\n",
      "Overall rank                     ✘    ✘    ✘    ✔    ✔\n",
      "Trust (Government Corruption)    ✔    ✔    ✘    ✘    ✘\n",
      "Lower Confidence Interval        ✘    ✔    ✘    ✘    ✘\n",
      "Economy (GDP per Capita)         ✔    ✔    ✘    ✘    ✘\n",
      "Health (Life Expectancy)         ✔    ✔    ✘    ✘    ✘\n",
      "Score                            ✘    ✘    ✘    ✔    ✔\n",
      "Freedom to make life choices     ✘    ✘    ✘    ✔    ✔\n",
      "Country                          ✔    ✔    ✔    ✘    ✘\n",
      "Dystopia Residual                ✔    ✔    ✘    ✘    ✘\n",
      "Trust..Government.Corruption.    ✘    ✘    ✔    ✘    ✘\n"
     ]
    }
   ],
   "source": [
    "comparison_df = comparing_names(happiness_dataframes)\n",
    "print(comparison_df)"
   ]
  },
  {
   "cell_type": "markdown",
   "id": "88c348fa",
   "metadata": {},
   "source": [
    "## Preparación de datos\n",
    "Normalización de los nombres de las columnas\n",
    "A partir de la tabla anterior, comenzaremos a normalizar y unificar los nombres de las columnas en categorías más amplias. Las categorías que utilizaremos ahora son:\n",
    "\n",
    "Happiness Score\n",
    "\n",
    "Happiness Rank\n",
    "\n",
    "Economy (GDP per Capita)\n",
    "\n",
    "Health (Life Expectancy)\n",
    "\n",
    "Social Support\n",
    "\n",
    "Freedom\n",
    "\n",
    "Perceptions of Corruption\n",
    "\n",
    "Dystopia Residual"
   ]
  },
  {
   "cell_type": "code",
   "execution_count": 17,
   "id": "36c48d6a",
   "metadata": {},
   "outputs": [],
   "source": [
    "column_mapping = {    \n",
    "    # Country\n",
    "    'Country': 'country',\n",
    "    'Country or region': 'country',\n",
    "    \n",
    "    # Happiness Score\n",
    "    'Happiness Score': 'happiness_score',\n",
    "    'Happiness.Score': 'happiness_score',\n",
    "    'Score': 'happiness_score',\n",
    "    \n",
    "    # Happiness Rank\n",
    "    'Happiness Rank': 'happiness_rank',\n",
    "    'Happiness.Rank': 'happiness_rank',\n",
    "    'Overall rank': 'happiness_rank',\n",
    "    \n",
    "    # Economy (GDP per Capita)\n",
    "    'Economy (GDP per Capita)': 'economy',\n",
    "    'Economy..GDP.per.Capita.': 'economy',\n",
    "    'GDP per capita': 'economy',\n",
    "    \n",
    "    # Health (Life Expectancy)\n",
    "    'Health (Life Expectancy)': 'health',\n",
    "    'Health..Life.Expectancy.': 'health',\n",
    "    'Healthy life expectancy': 'health',\n",
    "    \n",
    "    # Social Support\n",
    "    'Family': 'social_support',\n",
    "    'Social support': 'social_support',\n",
    "    \n",
    "    # Freedom\n",
    "    'Freedom': 'freedom',\n",
    "    'Freedom to make life choices': 'freedom',\n",
    "    \n",
    "    # Perceptions of Corruption\n",
    "    'Trust (Government Corruption)': 'corruption_perception',\n",
    "    'Trust..Government.Corruption.': 'corruption_perception',\n",
    "    'Perceptions of corruption': 'corruption_perception',\n",
    "    \n",
    "    # Generosity\n",
    "    'Generosity': 'generosity',\n",
    "    \n",
    "    # Dystopia Residual\n",
    "    'Dystopia Residual': 'dystopia_residual',\n",
    "    'Dystopia.Residual': 'dystopia_residual',\n",
    "}"
   ]
  },
  {
   "cell_type": "code",
   "execution_count": 18,
   "id": "91776812",
   "metadata": {},
   "outputs": [],
   "source": [
    "normalized_dataframes = {}\n",
    "\n",
    "for year, df in happiness_dataframes.items():\n",
    "    df = df.rename(columns=column_mapping)\n",
    "    normalized_dataframes[year] = df"
   ]
  },
  {
   "cell_type": "code",
   "execution_count": 19,
   "id": "6c87a16f",
   "metadata": {},
   "outputs": [
    {
     "data": {
      "text/html": [
       "<div>\n",
       "<style scoped>\n",
       "    .dataframe tbody tr th:only-of-type {\n",
       "        vertical-align: middle;\n",
       "    }\n",
       "\n",
       "    .dataframe tbody tr th {\n",
       "        vertical-align: top;\n",
       "    }\n",
       "\n",
       "    .dataframe thead th {\n",
       "        text-align: right;\n",
       "    }\n",
       "</style>\n",
       "<table border=\"1\" class=\"dataframe\">\n",
       "  <thead>\n",
       "    <tr style=\"text-align: right;\">\n",
       "      <th></th>\n",
       "      <th>country</th>\n",
       "      <th>Region</th>\n",
       "      <th>happiness_rank</th>\n",
       "      <th>happiness_score</th>\n",
       "      <th>Standard Error</th>\n",
       "      <th>economy</th>\n",
       "      <th>social_support</th>\n",
       "      <th>health</th>\n",
       "      <th>freedom</th>\n",
       "      <th>corruption_perception</th>\n",
       "      <th>generosity</th>\n",
       "      <th>dystopia_residual</th>\n",
       "    </tr>\n",
       "  </thead>\n",
       "  <tbody>\n",
       "    <tr>\n",
       "      <th>0</th>\n",
       "      <td>Switzerland</td>\n",
       "      <td>Western Europe</td>\n",
       "      <td>1</td>\n",
       "      <td>7.587</td>\n",
       "      <td>0.03411</td>\n",
       "      <td>1.39651</td>\n",
       "      <td>1.34951</td>\n",
       "      <td>0.94143</td>\n",
       "      <td>0.66557</td>\n",
       "      <td>0.41978</td>\n",
       "      <td>0.29678</td>\n",
       "      <td>2.51738</td>\n",
       "    </tr>\n",
       "    <tr>\n",
       "      <th>1</th>\n",
       "      <td>Iceland</td>\n",
       "      <td>Western Europe</td>\n",
       "      <td>2</td>\n",
       "      <td>7.561</td>\n",
       "      <td>0.04884</td>\n",
       "      <td>1.30232</td>\n",
       "      <td>1.40223</td>\n",
       "      <td>0.94784</td>\n",
       "      <td>0.62877</td>\n",
       "      <td>0.14145</td>\n",
       "      <td>0.43630</td>\n",
       "      <td>2.70201</td>\n",
       "    </tr>\n",
       "    <tr>\n",
       "      <th>2</th>\n",
       "      <td>Denmark</td>\n",
       "      <td>Western Europe</td>\n",
       "      <td>3</td>\n",
       "      <td>7.527</td>\n",
       "      <td>0.03328</td>\n",
       "      <td>1.32548</td>\n",
       "      <td>1.36058</td>\n",
       "      <td>0.87464</td>\n",
       "      <td>0.64938</td>\n",
       "      <td>0.48357</td>\n",
       "      <td>0.34139</td>\n",
       "      <td>2.49204</td>\n",
       "    </tr>\n",
       "  </tbody>\n",
       "</table>\n",
       "</div>"
      ],
      "text/plain": [
       "       country          Region  happiness_rank  happiness_score  \\\n",
       "0  Switzerland  Western Europe               1            7.587   \n",
       "1      Iceland  Western Europe               2            7.561   \n",
       "2      Denmark  Western Europe               3            7.527   \n",
       "\n",
       "   Standard Error  economy  social_support   health  freedom  \\\n",
       "0         0.03411  1.39651         1.34951  0.94143  0.66557   \n",
       "1         0.04884  1.30232         1.40223  0.94784  0.62877   \n",
       "2         0.03328  1.32548         1.36058  0.87464  0.64938   \n",
       "\n",
       "   corruption_perception  generosity  dystopia_residual  \n",
       "0                0.41978     0.29678            2.51738  \n",
       "1                0.14145     0.43630            2.70201  \n",
       "2                0.48357     0.34139            2.49204  "
      ]
     },
     "execution_count": 19,
     "metadata": {},
     "output_type": "execute_result"
    }
   ],
   "source": [
    "normalized_dataframes[\"2015\"].head(3)\n"
   ]
  },
  {
   "cell_type": "code",
   "execution_count": 20,
   "id": "9f57f5f4",
   "metadata": {},
   "outputs": [
    {
     "data": {
      "text/html": [
       "<div>\n",
       "<style scoped>\n",
       "    .dataframe tbody tr th:only-of-type {\n",
       "        vertical-align: middle;\n",
       "    }\n",
       "\n",
       "    .dataframe tbody tr th {\n",
       "        vertical-align: top;\n",
       "    }\n",
       "\n",
       "    .dataframe thead th {\n",
       "        text-align: right;\n",
       "    }\n",
       "</style>\n",
       "<table border=\"1\" class=\"dataframe\">\n",
       "  <thead>\n",
       "    <tr style=\"text-align: right;\">\n",
       "      <th></th>\n",
       "      <th>happiness_rank</th>\n",
       "      <th>country</th>\n",
       "      <th>happiness_score</th>\n",
       "      <th>economy</th>\n",
       "      <th>social_support</th>\n",
       "      <th>health</th>\n",
       "      <th>freedom</th>\n",
       "      <th>generosity</th>\n",
       "      <th>corruption_perception</th>\n",
       "    </tr>\n",
       "  </thead>\n",
       "  <tbody>\n",
       "    <tr>\n",
       "      <th>0</th>\n",
       "      <td>1</td>\n",
       "      <td>Finland</td>\n",
       "      <td>7.632</td>\n",
       "      <td>1.305</td>\n",
       "      <td>1.592</td>\n",
       "      <td>0.874</td>\n",
       "      <td>0.681</td>\n",
       "      <td>0.202</td>\n",
       "      <td>0.393</td>\n",
       "    </tr>\n",
       "    <tr>\n",
       "      <th>1</th>\n",
       "      <td>2</td>\n",
       "      <td>Norway</td>\n",
       "      <td>7.594</td>\n",
       "      <td>1.456</td>\n",
       "      <td>1.582</td>\n",
       "      <td>0.861</td>\n",
       "      <td>0.686</td>\n",
       "      <td>0.286</td>\n",
       "      <td>0.340</td>\n",
       "    </tr>\n",
       "    <tr>\n",
       "      <th>2</th>\n",
       "      <td>3</td>\n",
       "      <td>Denmark</td>\n",
       "      <td>7.555</td>\n",
       "      <td>1.351</td>\n",
       "      <td>1.590</td>\n",
       "      <td>0.868</td>\n",
       "      <td>0.683</td>\n",
       "      <td>0.284</td>\n",
       "      <td>0.408</td>\n",
       "    </tr>\n",
       "  </tbody>\n",
       "</table>\n",
       "</div>"
      ],
      "text/plain": [
       "   happiness_rank  country  happiness_score  economy  social_support  health  \\\n",
       "0               1  Finland            7.632    1.305           1.592   0.874   \n",
       "1               2   Norway            7.594    1.456           1.582   0.861   \n",
       "2               3  Denmark            7.555    1.351           1.590   0.868   \n",
       "\n",
       "   freedom  generosity  corruption_perception  \n",
       "0    0.681       0.202                  0.393  \n",
       "1    0.686       0.286                  0.340  \n",
       "2    0.683       0.284                  0.408  "
      ]
     },
     "execution_count": 20,
     "metadata": {},
     "output_type": "execute_result"
    }
   ],
   "source": [
    "normalized_dataframes[\"2018\"].head(3)"
   ]
  },
  {
   "cell_type": "code",
   "execution_count": 21,
   "id": "8eeea340",
   "metadata": {},
   "outputs": [],
   "source": [
    "yearly_happiness_dataframes = {}\n",
    "\n",
    "for year, df in normalized_dataframes.items():\n",
    "    df[\"year\"] = year\n",
    "    yearly_happiness_dataframes[year] = df"
   ]
  },
  {
   "cell_type": "code",
   "execution_count": 22,
   "id": "3d09e029",
   "metadata": {},
   "outputs": [
    {
     "data": {
      "text/html": [
       "<div>\n",
       "<style scoped>\n",
       "    .dataframe tbody tr th:only-of-type {\n",
       "        vertical-align: middle;\n",
       "    }\n",
       "\n",
       "    .dataframe tbody tr th {\n",
       "        vertical-align: top;\n",
       "    }\n",
       "\n",
       "    .dataframe thead th {\n",
       "        text-align: right;\n",
       "    }\n",
       "</style>\n",
       "<table border=\"1\" class=\"dataframe\">\n",
       "  <thead>\n",
       "    <tr style=\"text-align: right;\">\n",
       "      <th></th>\n",
       "      <th>country</th>\n",
       "      <th>Region</th>\n",
       "      <th>happiness_rank</th>\n",
       "      <th>happiness_score</th>\n",
       "      <th>Standard Error</th>\n",
       "      <th>economy</th>\n",
       "      <th>social_support</th>\n",
       "      <th>health</th>\n",
       "      <th>freedom</th>\n",
       "      <th>corruption_perception</th>\n",
       "      <th>generosity</th>\n",
       "      <th>dystopia_residual</th>\n",
       "      <th>year</th>\n",
       "    </tr>\n",
       "  </thead>\n",
       "  <tbody>\n",
       "    <tr>\n",
       "      <th>0</th>\n",
       "      <td>Switzerland</td>\n",
       "      <td>Western Europe</td>\n",
       "      <td>1</td>\n",
       "      <td>7.587</td>\n",
       "      <td>0.03411</td>\n",
       "      <td>1.39651</td>\n",
       "      <td>1.34951</td>\n",
       "      <td>0.94143</td>\n",
       "      <td>0.66557</td>\n",
       "      <td>0.41978</td>\n",
       "      <td>0.29678</td>\n",
       "      <td>2.51738</td>\n",
       "      <td>2015</td>\n",
       "    </tr>\n",
       "    <tr>\n",
       "      <th>1</th>\n",
       "      <td>Iceland</td>\n",
       "      <td>Western Europe</td>\n",
       "      <td>2</td>\n",
       "      <td>7.561</td>\n",
       "      <td>0.04884</td>\n",
       "      <td>1.30232</td>\n",
       "      <td>1.40223</td>\n",
       "      <td>0.94784</td>\n",
       "      <td>0.62877</td>\n",
       "      <td>0.14145</td>\n",
       "      <td>0.43630</td>\n",
       "      <td>2.70201</td>\n",
       "      <td>2015</td>\n",
       "    </tr>\n",
       "    <tr>\n",
       "      <th>2</th>\n",
       "      <td>Denmark</td>\n",
       "      <td>Western Europe</td>\n",
       "      <td>3</td>\n",
       "      <td>7.527</td>\n",
       "      <td>0.03328</td>\n",
       "      <td>1.32548</td>\n",
       "      <td>1.36058</td>\n",
       "      <td>0.87464</td>\n",
       "      <td>0.64938</td>\n",
       "      <td>0.48357</td>\n",
       "      <td>0.34139</td>\n",
       "      <td>2.49204</td>\n",
       "      <td>2015</td>\n",
       "    </tr>\n",
       "  </tbody>\n",
       "</table>\n",
       "</div>"
      ],
      "text/plain": [
       "       country          Region  happiness_rank  happiness_score  \\\n",
       "0  Switzerland  Western Europe               1            7.587   \n",
       "1      Iceland  Western Europe               2            7.561   \n",
       "2      Denmark  Western Europe               3            7.527   \n",
       "\n",
       "   Standard Error  economy  social_support   health  freedom  \\\n",
       "0         0.03411  1.39651         1.34951  0.94143  0.66557   \n",
       "1         0.04884  1.30232         1.40223  0.94784  0.62877   \n",
       "2         0.03328  1.32548         1.36058  0.87464  0.64938   \n",
       "\n",
       "   corruption_perception  generosity  dystopia_residual  year  \n",
       "0                0.41978     0.29678            2.51738  2015  \n",
       "1                0.14145     0.43630            2.70201  2015  \n",
       "2                0.48357     0.34139            2.49204  2015  "
      ]
     },
     "execution_count": 22,
     "metadata": {},
     "output_type": "execute_result"
    }
   ],
   "source": [
    "yearly_happiness_dataframes[\"2015\"].head(3)"
   ]
  },
  {
   "cell_type": "markdown",
   "id": "710a2d5f",
   "metadata": {},
   "source": [
    "## Concatenando todos los dataframes, \n",
    "conservando únicamente las columnas en común\n",
    "Realizamos la concatenación de los cinco dataframes contenidos en yearly_happiness_dataframes, reteniendo únicamente las columnas que están presentes en todos ellos.\n",
    "Revisemos también cuáles son esas columnas. En este caso, las columnas que vamos a eliminar son:\n",
    "\n",
    "Standard Error\n",
    "\n",
    "Lower Confidence Interval\n",
    "\n",
    "dystopia_residual\n",
    "\n",
    "Region\n",
    "\n",
    "Upper Confidence Interval\n",
    "\n",
    "Whisker.low\n",
    "\n",
    "Whisker.high"
   ]
  },
  {
   "cell_type": "code",
   "execution_count": 23,
   "id": "1c258653",
   "metadata": {},
   "outputs": [
    {
     "name": "stdout",
     "output_type": "stream",
     "text": [
      "                          2015 2016 2017 2018 2019\n",
      "Column Name                                       \n",
      "social_support               ✔    ✔    ✔    ✔    ✔\n",
      "Upper Confidence Interval    ✘    ✔    ✘    ✘    ✘\n",
      "Whisker.high                 ✘    ✘    ✔    ✘    ✘\n",
      "generosity                   ✔    ✔    ✔    ✔    ✔\n",
      "country                      ✔    ✔    ✔    ✔    ✔\n",
      "happiness_rank               ✔    ✔    ✔    ✔    ✔\n",
      "happiness_score              ✔    ✔    ✔    ✔    ✔\n",
      "health                       ✔    ✔    ✔    ✔    ✔\n",
      "freedom                      ✔    ✔    ✔    ✔    ✔\n",
      "corruption_perception        ✔    ✔    ✔    ✔    ✔\n",
      "economy                      ✔    ✔    ✔    ✔    ✔\n",
      "Standard Error               ✔    ✘    ✘    ✘    ✘\n",
      "year                         ✔    ✔    ✔    ✔    ✔\n",
      "Region                       ✔    ✔    ✘    ✘    ✘\n",
      "dystopia_residual            ✔    ✔    ✔    ✘    ✘\n",
      "Whisker.low                  ✘    ✘    ✔    ✘    ✘\n",
      "Lower Confidence Interval    ✘    ✔    ✘    ✘    ✘\n"
     ]
    }
   ],
   "source": [
    "comparison_yearly_df = comparing_names(yearly_happiness_dataframes)\n",
    "print(comparison_yearly_df)"
   ]
  },
  {
   "cell_type": "code",
   "execution_count": 24,
   "id": "dfe04a95",
   "metadata": {},
   "outputs": [
    {
     "data": {
      "text/html": [
       "<div>\n",
       "<style scoped>\n",
       "    .dataframe tbody tr th:only-of-type {\n",
       "        vertical-align: middle;\n",
       "    }\n",
       "\n",
       "    .dataframe tbody tr th {\n",
       "        vertical-align: top;\n",
       "    }\n",
       "\n",
       "    .dataframe thead th {\n",
       "        text-align: right;\n",
       "    }\n",
       "</style>\n",
       "<table border=\"1\" class=\"dataframe\">\n",
       "  <thead>\n",
       "    <tr style=\"text-align: right;\">\n",
       "      <th></th>\n",
       "      <th>social_support</th>\n",
       "      <th>generosity</th>\n",
       "      <th>country</th>\n",
       "      <th>happiness_rank</th>\n",
       "      <th>happiness_score</th>\n",
       "      <th>health</th>\n",
       "      <th>freedom</th>\n",
       "      <th>corruption_perception</th>\n",
       "      <th>economy</th>\n",
       "      <th>year</th>\n",
       "    </tr>\n",
       "  </thead>\n",
       "  <tbody>\n",
       "    <tr>\n",
       "      <th>0</th>\n",
       "      <td>1.34951</td>\n",
       "      <td>0.29678</td>\n",
       "      <td>Switzerland</td>\n",
       "      <td>1</td>\n",
       "      <td>7.587</td>\n",
       "      <td>0.94143</td>\n",
       "      <td>0.66557</td>\n",
       "      <td>0.41978</td>\n",
       "      <td>1.39651</td>\n",
       "      <td>2015</td>\n",
       "    </tr>\n",
       "    <tr>\n",
       "      <th>1</th>\n",
       "      <td>1.40223</td>\n",
       "      <td>0.43630</td>\n",
       "      <td>Iceland</td>\n",
       "      <td>2</td>\n",
       "      <td>7.561</td>\n",
       "      <td>0.94784</td>\n",
       "      <td>0.62877</td>\n",
       "      <td>0.14145</td>\n",
       "      <td>1.30232</td>\n",
       "      <td>2015</td>\n",
       "    </tr>\n",
       "    <tr>\n",
       "      <th>2</th>\n",
       "      <td>1.36058</td>\n",
       "      <td>0.34139</td>\n",
       "      <td>Denmark</td>\n",
       "      <td>3</td>\n",
       "      <td>7.527</td>\n",
       "      <td>0.87464</td>\n",
       "      <td>0.64938</td>\n",
       "      <td>0.48357</td>\n",
       "      <td>1.32548</td>\n",
       "      <td>2015</td>\n",
       "    </tr>\n",
       "    <tr>\n",
       "      <th>3</th>\n",
       "      <td>1.33095</td>\n",
       "      <td>0.34699</td>\n",
       "      <td>Norway</td>\n",
       "      <td>4</td>\n",
       "      <td>7.522</td>\n",
       "      <td>0.88521</td>\n",
       "      <td>0.66973</td>\n",
       "      <td>0.36503</td>\n",
       "      <td>1.45900</td>\n",
       "      <td>2015</td>\n",
       "    </tr>\n",
       "    <tr>\n",
       "      <th>4</th>\n",
       "      <td>1.32261</td>\n",
       "      <td>0.45811</td>\n",
       "      <td>Canada</td>\n",
       "      <td>5</td>\n",
       "      <td>7.427</td>\n",
       "      <td>0.90563</td>\n",
       "      <td>0.63297</td>\n",
       "      <td>0.32957</td>\n",
       "      <td>1.32629</td>\n",
       "      <td>2015</td>\n",
       "    </tr>\n",
       "  </tbody>\n",
       "</table>\n",
       "</div>"
      ],
      "text/plain": [
       "   social_support  generosity      country  happiness_rank  happiness_score  \\\n",
       "0         1.34951     0.29678  Switzerland               1            7.587   \n",
       "1         1.40223     0.43630      Iceland               2            7.561   \n",
       "2         1.36058     0.34139      Denmark               3            7.527   \n",
       "3         1.33095     0.34699       Norway               4            7.522   \n",
       "4         1.32261     0.45811       Canada               5            7.427   \n",
       "\n",
       "    health  freedom  corruption_perception  economy  year  \n",
       "0  0.94143  0.66557                0.41978  1.39651  2015  \n",
       "1  0.94784  0.62877                0.14145  1.30232  2015  \n",
       "2  0.87464  0.64938                0.48357  1.32548  2015  \n",
       "3  0.88521  0.66973                0.36503  1.45900  2015  \n",
       "4  0.90563  0.63297                0.32957  1.32629  2015  "
      ]
     },
     "execution_count": 24,
     "metadata": {},
     "output_type": "execute_result"
    }
   ],
   "source": [
    "common_columns = list(set.intersection(*(set(df.columns) for df in yearly_happiness_dataframes.values())))\n",
    "\n",
    "filtered_dataframes = [df[common_columns] for df in yearly_happiness_dataframes.values()]\n",
    "\n",
    "df = pd.concat(filtered_dataframes, ignore_index=True)\n",
    "\n",
    "df.head()"
   ]
  },
  {
   "cell_type": "code",
   "execution_count": 25,
   "id": "f217c1f6",
   "metadata": {},
   "outputs": [
    {
     "name": "stdout",
     "output_type": "stream",
     "text": [
      "<class 'pandas.core.frame.DataFrame'>\n",
      "RangeIndex: 782 entries, 0 to 781\n",
      "Data columns (total 10 columns):\n",
      " #   Column                 Non-Null Count  Dtype  \n",
      "---  ------                 --------------  -----  \n",
      " 0   social_support         782 non-null    float64\n",
      " 1   generosity             782 non-null    float64\n",
      " 2   country                782 non-null    object \n",
      " 3   happiness_rank         782 non-null    int64  \n",
      " 4   happiness_score        782 non-null    float64\n",
      " 5   health                 782 non-null    float64\n",
      " 6   freedom                782 non-null    float64\n",
      " 7   corruption_perception  781 non-null    float64\n",
      " 8   economy                782 non-null    float64\n",
      " 9   year                   782 non-null    object \n",
      "dtypes: float64(7), int64(1), object(2)\n",
      "memory usage: 61.2+ KB\n"
     ]
    }
   ],
   "source": [
    "df.info()"
   ]
  },
  {
   "cell_type": "markdown",
   "id": "74dd2e24",
   "metadata": {},
   "source": [
    "el dataset final contiene 782 filas y nueve colunmanas diferentes al año, auque observamos que corruption_perception tiene un valor nulo asi que vamos a revisar eso"
   ]
  },
  {
   "cell_type": "code",
   "execution_count": 26,
   "id": "9d59c7ec",
   "metadata": {},
   "outputs": [
    {
     "data": {
      "text/html": [
       "<div>\n",
       "<style scoped>\n",
       "    .dataframe tbody tr th:only-of-type {\n",
       "        vertical-align: middle;\n",
       "    }\n",
       "\n",
       "    .dataframe tbody tr th {\n",
       "        vertical-align: top;\n",
       "    }\n",
       "\n",
       "    .dataframe thead th {\n",
       "        text-align: right;\n",
       "    }\n",
       "</style>\n",
       "<table border=\"1\" class=\"dataframe\">\n",
       "  <thead>\n",
       "    <tr style=\"text-align: right;\">\n",
       "      <th></th>\n",
       "      <th>social_support</th>\n",
       "      <th>generosity</th>\n",
       "      <th>country</th>\n",
       "      <th>happiness_rank</th>\n",
       "      <th>happiness_score</th>\n",
       "      <th>health</th>\n",
       "      <th>freedom</th>\n",
       "      <th>corruption_perception</th>\n",
       "      <th>economy</th>\n",
       "      <th>year</th>\n",
       "    </tr>\n",
       "  </thead>\n",
       "  <tbody>\n",
       "    <tr>\n",
       "      <th>489</th>\n",
       "      <td>0.776</td>\n",
       "      <td>0.186</td>\n",
       "      <td>United Arab Emirates</td>\n",
       "      <td>20</td>\n",
       "      <td>6.774</td>\n",
       "      <td>0.67</td>\n",
       "      <td>0.284</td>\n",
       "      <td>NaN</td>\n",
       "      <td>2.096</td>\n",
       "      <td>2018</td>\n",
       "    </tr>\n",
       "  </tbody>\n",
       "</table>\n",
       "</div>"
      ],
      "text/plain": [
       "     social_support  generosity               country  happiness_rank  \\\n",
       "489           0.776       0.186  United Arab Emirates              20   \n",
       "\n",
       "     happiness_score  health  freedom  corruption_perception  economy  year  \n",
       "489            6.774    0.67    0.284                    NaN    2.096  2018  "
      ]
     },
     "execution_count": 26,
     "metadata": {},
     "output_type": "execute_result"
    }
   ],
   "source": [
    "df[df['corruption_perception'].isna()]\n"
   ]
  },
  {
   "cell_type": "markdown",
   "id": "fa55562a",
   "metadata": {},
   "source": [
    "viendo esto, pienso que lo mejor seria acomodar el dato con la media ya que al ser solo uno no va a cambiar la distribucion de la mayoria de los datos aunque primero necesito saber la media"
   ]
  },
  {
   "cell_type": "code",
   "execution_count": 27,
   "id": "00b8e905",
   "metadata": {},
   "outputs": [
    {
     "data": {
      "text/html": [
       "<div>\n",
       "<style scoped>\n",
       "    .dataframe tbody tr th:only-of-type {\n",
       "        vertical-align: middle;\n",
       "    }\n",
       "\n",
       "    .dataframe tbody tr th {\n",
       "        vertical-align: top;\n",
       "    }\n",
       "\n",
       "    .dataframe thead th {\n",
       "        text-align: right;\n",
       "    }\n",
       "</style>\n",
       "<table border=\"1\" class=\"dataframe\">\n",
       "  <thead>\n",
       "    <tr style=\"text-align: right;\">\n",
       "      <th></th>\n",
       "      <th>social_support</th>\n",
       "      <th>generosity</th>\n",
       "      <th>happiness_rank</th>\n",
       "      <th>happiness_score</th>\n",
       "      <th>health</th>\n",
       "      <th>freedom</th>\n",
       "      <th>corruption_perception</th>\n",
       "      <th>economy</th>\n",
       "    </tr>\n",
       "  </thead>\n",
       "  <tbody>\n",
       "    <tr>\n",
       "      <th>count</th>\n",
       "      <td>782.000000</td>\n",
       "      <td>782.000000</td>\n",
       "      <td>782.000000</td>\n",
       "      <td>782.000000</td>\n",
       "      <td>782.000000</td>\n",
       "      <td>782.000000</td>\n",
       "      <td>781.000000</td>\n",
       "      <td>782.000000</td>\n",
       "    </tr>\n",
       "    <tr>\n",
       "      <th>mean</th>\n",
       "      <td>1.078392</td>\n",
       "      <td>0.218576</td>\n",
       "      <td>78.698210</td>\n",
       "      <td>5.379018</td>\n",
       "      <td>0.612416</td>\n",
       "      <td>0.411091</td>\n",
       "      <td>0.125436</td>\n",
       "      <td>0.916047</td>\n",
       "    </tr>\n",
       "    <tr>\n",
       "      <th>std</th>\n",
       "      <td>0.329548</td>\n",
       "      <td>0.122321</td>\n",
       "      <td>45.182384</td>\n",
       "      <td>1.127456</td>\n",
       "      <td>0.248309</td>\n",
       "      <td>0.152880</td>\n",
       "      <td>0.105816</td>\n",
       "      <td>0.407340</td>\n",
       "    </tr>\n",
       "    <tr>\n",
       "      <th>min</th>\n",
       "      <td>0.000000</td>\n",
       "      <td>0.000000</td>\n",
       "      <td>1.000000</td>\n",
       "      <td>2.693000</td>\n",
       "      <td>0.000000</td>\n",
       "      <td>0.000000</td>\n",
       "      <td>0.000000</td>\n",
       "      <td>0.000000</td>\n",
       "    </tr>\n",
       "    <tr>\n",
       "      <th>25%</th>\n",
       "      <td>0.869363</td>\n",
       "      <td>0.130000</td>\n",
       "      <td>40.000000</td>\n",
       "      <td>4.509750</td>\n",
       "      <td>0.440183</td>\n",
       "      <td>0.309768</td>\n",
       "      <td>0.054000</td>\n",
       "      <td>0.606500</td>\n",
       "    </tr>\n",
       "    <tr>\n",
       "      <th>50%</th>\n",
       "      <td>1.124735</td>\n",
       "      <td>0.201982</td>\n",
       "      <td>79.000000</td>\n",
       "      <td>5.322000</td>\n",
       "      <td>0.647310</td>\n",
       "      <td>0.431000</td>\n",
       "      <td>0.091000</td>\n",
       "      <td>0.982205</td>\n",
       "    </tr>\n",
       "    <tr>\n",
       "      <th>75%</th>\n",
       "      <td>1.327250</td>\n",
       "      <td>0.278832</td>\n",
       "      <td>118.000000</td>\n",
       "      <td>6.189500</td>\n",
       "      <td>0.808000</td>\n",
       "      <td>0.531000</td>\n",
       "      <td>0.156030</td>\n",
       "      <td>1.236187</td>\n",
       "    </tr>\n",
       "    <tr>\n",
       "      <th>max</th>\n",
       "      <td>1.644000</td>\n",
       "      <td>0.838075</td>\n",
       "      <td>158.000000</td>\n",
       "      <td>7.769000</td>\n",
       "      <td>1.141000</td>\n",
       "      <td>0.724000</td>\n",
       "      <td>0.551910</td>\n",
       "      <td>2.096000</td>\n",
       "    </tr>\n",
       "  </tbody>\n",
       "</table>\n",
       "</div>"
      ],
      "text/plain": [
       "       social_support  generosity  happiness_rank  happiness_score  \\\n",
       "count      782.000000  782.000000      782.000000       782.000000   \n",
       "mean         1.078392    0.218576       78.698210         5.379018   \n",
       "std          0.329548    0.122321       45.182384         1.127456   \n",
       "min          0.000000    0.000000        1.000000         2.693000   \n",
       "25%          0.869363    0.130000       40.000000         4.509750   \n",
       "50%          1.124735    0.201982       79.000000         5.322000   \n",
       "75%          1.327250    0.278832      118.000000         6.189500   \n",
       "max          1.644000    0.838075      158.000000         7.769000   \n",
       "\n",
       "           health     freedom  corruption_perception     economy  \n",
       "count  782.000000  782.000000             781.000000  782.000000  \n",
       "mean     0.612416    0.411091               0.125436    0.916047  \n",
       "std      0.248309    0.152880               0.105816    0.407340  \n",
       "min      0.000000    0.000000               0.000000    0.000000  \n",
       "25%      0.440183    0.309768               0.054000    0.606500  \n",
       "50%      0.647310    0.431000               0.091000    0.982205  \n",
       "75%      0.808000    0.531000               0.156030    1.236187  \n",
       "max      1.141000    0.724000               0.551910    2.096000  "
      ]
     },
     "execution_count": 27,
     "metadata": {},
     "output_type": "execute_result"
    }
   ],
   "source": [
    "df.describe()"
   ]
  },
  {
   "cell_type": "markdown",
   "id": "90d369b0",
   "metadata": {},
   "source": [
    "como vemos la media es 0.125436 asi que vamos a usar eso"
   ]
  },
  {
   "cell_type": "code",
   "execution_count": 28,
   "id": "aab98e2b",
   "metadata": {},
   "outputs": [],
   "source": [
    "df[\"corruption_perception\"] = (\n",
    "                                df[\"corruption_perception\"]\n",
    "                                .fillna(df[\"corruption_perception\"].mean())\n",
    "                            )"
   ]
  },
  {
   "cell_type": "code",
   "execution_count": 29,
   "id": "de4607a3",
   "metadata": {},
   "outputs": [
    {
     "data": {
      "text/html": [
       "<div>\n",
       "<style scoped>\n",
       "    .dataframe tbody tr th:only-of-type {\n",
       "        vertical-align: middle;\n",
       "    }\n",
       "\n",
       "    .dataframe tbody tr th {\n",
       "        vertical-align: top;\n",
       "    }\n",
       "\n",
       "    .dataframe thead th {\n",
       "        text-align: right;\n",
       "    }\n",
       "</style>\n",
       "<table border=\"1\" class=\"dataframe\">\n",
       "  <thead>\n",
       "    <tr style=\"text-align: right;\">\n",
       "      <th></th>\n",
       "      <th>social_support</th>\n",
       "      <th>generosity</th>\n",
       "      <th>country</th>\n",
       "      <th>happiness_rank</th>\n",
       "      <th>happiness_score</th>\n",
       "      <th>health</th>\n",
       "      <th>freedom</th>\n",
       "      <th>corruption_perception</th>\n",
       "      <th>economy</th>\n",
       "      <th>year</th>\n",
       "    </tr>\n",
       "  </thead>\n",
       "  <tbody>\n",
       "    <tr>\n",
       "      <th>489</th>\n",
       "      <td>0.776</td>\n",
       "      <td>0.186</td>\n",
       "      <td>United Arab Emirates</td>\n",
       "      <td>20</td>\n",
       "      <td>6.774</td>\n",
       "      <td>0.67</td>\n",
       "      <td>0.284</td>\n",
       "      <td>0.125436</td>\n",
       "      <td>2.096</td>\n",
       "      <td>2018</td>\n",
       "    </tr>\n",
       "  </tbody>\n",
       "</table>\n",
       "</div>"
      ],
      "text/plain": [
       "     social_support  generosity               country  happiness_rank  \\\n",
       "489           0.776       0.186  United Arab Emirates              20   \n",
       "\n",
       "     happiness_score  health  freedom  corruption_perception  economy  year  \n",
       "489            6.774    0.67    0.284               0.125436    2.096  2018  "
      ]
     },
     "execution_count": 29,
     "metadata": {},
     "output_type": "execute_result"
    }
   ],
   "source": [
    "df.query(\"country == 'United Arab Emirates' & year == '2018'\")\n"
   ]
  },
  {
   "cell_type": "markdown",
   "id": "205b6428",
   "metadata": {},
   "source": [
    "como vemos funciono "
   ]
  },
  {
   "cell_type": "markdown",
   "id": "d4b9ac48",
   "metadata": {},
   "source": [
    "## Revisión del dataframe final\n",
    "\n",
    "valores mínimos de 0\n",
    "\n",
    "Al examinar algunos valores, pudimos determinar que ciertas cifras tienen sentido dentro de su contexto (por ejemplo, Somalia, cuya economía aparece listada como 0). Por lo tanto, transformar estos valores requeriría una investigación más profunda de las fuentes de las que provienen estos datos."
   ]
  },
  {
   "cell_type": "code",
   "execution_count": 30,
   "id": "af0c286d",
   "metadata": {},
   "outputs": [
    {
     "data": {
      "text/html": [
       "<div>\n",
       "<style scoped>\n",
       "    .dataframe tbody tr th:only-of-type {\n",
       "        vertical-align: middle;\n",
       "    }\n",
       "\n",
       "    .dataframe tbody tr th {\n",
       "        vertical-align: top;\n",
       "    }\n",
       "\n",
       "    .dataframe thead th {\n",
       "        text-align: right;\n",
       "    }\n",
       "</style>\n",
       "<table border=\"1\" class=\"dataframe\">\n",
       "  <thead>\n",
       "    <tr style=\"text-align: right;\">\n",
       "      <th></th>\n",
       "      <th>social_support</th>\n",
       "      <th>generosity</th>\n",
       "      <th>country</th>\n",
       "      <th>happiness_rank</th>\n",
       "      <th>happiness_score</th>\n",
       "      <th>health</th>\n",
       "      <th>freedom</th>\n",
       "      <th>corruption_perception</th>\n",
       "      <th>economy</th>\n",
       "      <th>year</th>\n",
       "    </tr>\n",
       "  </thead>\n",
       "  <tbody>\n",
       "    <tr>\n",
       "      <th>73</th>\n",
       "      <td>1.08708</td>\n",
       "      <td>0.51535</td>\n",
       "      <td>Indonesia</td>\n",
       "      <td>74</td>\n",
       "      <td>5.399</td>\n",
       "      <td>0.63793</td>\n",
       "      <td>0.46611</td>\n",
       "      <td>0.00000</td>\n",
       "      <td>0.82827</td>\n",
       "      <td>2015</td>\n",
       "    </tr>\n",
       "    <tr>\n",
       "      <th>101</th>\n",
       "      <td>0.92933</td>\n",
       "      <td>0.00000</td>\n",
       "      <td>Greece</td>\n",
       "      <td>102</td>\n",
       "      <td>4.857</td>\n",
       "      <td>0.88213</td>\n",
       "      <td>0.07699</td>\n",
       "      <td>0.01397</td>\n",
       "      <td>1.15406</td>\n",
       "      <td>2015</td>\n",
       "    </tr>\n",
       "    <tr>\n",
       "      <th>111</th>\n",
       "      <td>0.81889</td>\n",
       "      <td>0.17922</td>\n",
       "      <td>Iraq</td>\n",
       "      <td>112</td>\n",
       "      <td>4.677</td>\n",
       "      <td>0.60237</td>\n",
       "      <td>0.00000</td>\n",
       "      <td>0.13788</td>\n",
       "      <td>0.98549</td>\n",
       "      <td>2015</td>\n",
       "    </tr>\n",
       "    <tr>\n",
       "      <th>119</th>\n",
       "      <td>1.00120</td>\n",
       "      <td>0.24834</td>\n",
       "      <td>Congo (Kinshasa)</td>\n",
       "      <td>120</td>\n",
       "      <td>4.517</td>\n",
       "      <td>0.09806</td>\n",
       "      <td>0.22605</td>\n",
       "      <td>0.07625</td>\n",
       "      <td>0.00000</td>\n",
       "      <td>2015</td>\n",
       "    </tr>\n",
       "    <tr>\n",
       "      <th>122</th>\n",
       "      <td>0.95571</td>\n",
       "      <td>0.21488</td>\n",
       "      <td>Sierra Leone</td>\n",
       "      <td>123</td>\n",
       "      <td>4.507</td>\n",
       "      <td>0.00000</td>\n",
       "      <td>0.40840</td>\n",
       "      <td>0.08786</td>\n",
       "      <td>0.33024</td>\n",
       "      <td>2015</td>\n",
       "    </tr>\n",
       "    <tr>\n",
       "      <th>147</th>\n",
       "      <td>0.00000</td>\n",
       "      <td>0.23835</td>\n",
       "      <td>Central African Republic</td>\n",
       "      <td>148</td>\n",
       "      <td>3.678</td>\n",
       "      <td>0.06699</td>\n",
       "      <td>0.48879</td>\n",
       "      <td>0.08289</td>\n",
       "      <td>0.07850</td>\n",
       "      <td>2015</td>\n",
       "    </tr>\n",
       "    <tr>\n",
       "      <th>233</th>\n",
       "      <td>0.33613</td>\n",
       "      <td>0.27225</td>\n",
       "      <td>Somalia</td>\n",
       "      <td>76</td>\n",
       "      <td>5.440</td>\n",
       "      <td>0.11466</td>\n",
       "      <td>0.56778</td>\n",
       "      <td>0.31180</td>\n",
       "      <td>0.00000</td>\n",
       "      <td>2016</td>\n",
       "    </tr>\n",
       "    <tr>\n",
       "      <th>244</th>\n",
       "      <td>0.64367</td>\n",
       "      <td>0.29889</td>\n",
       "      <td>Bosnia and Herzegovina</td>\n",
       "      <td>87</td>\n",
       "      <td>5.163</td>\n",
       "      <td>0.70766</td>\n",
       "      <td>0.09511</td>\n",
       "      <td>0.00000</td>\n",
       "      <td>0.93383</td>\n",
       "      <td>2016</td>\n",
       "    </tr>\n",
       "    <tr>\n",
       "      <th>256</th>\n",
       "      <td>0.75473</td>\n",
       "      <td>0.00000</td>\n",
       "      <td>Greece</td>\n",
       "      <td>99</td>\n",
       "      <td>5.033</td>\n",
       "      <td>0.80029</td>\n",
       "      <td>0.05822</td>\n",
       "      <td>0.04127</td>\n",
       "      <td>1.24886</td>\n",
       "      <td>2016</td>\n",
       "    </tr>\n",
       "    <tr>\n",
       "      <th>268</th>\n",
       "      <td>0.62800</td>\n",
       "      <td>0.23897</td>\n",
       "      <td>Sierra Leone</td>\n",
       "      <td>111</td>\n",
       "      <td>4.635</td>\n",
       "      <td>0.00000</td>\n",
       "      <td>0.30685</td>\n",
       "      <td>0.08196</td>\n",
       "      <td>0.36485</td>\n",
       "      <td>2016</td>\n",
       "    </tr>\n",
       "  </tbody>\n",
       "</table>\n",
       "</div>"
      ],
      "text/plain": [
       "     social_support  generosity                   country  happiness_rank  \\\n",
       "73          1.08708     0.51535                 Indonesia              74   \n",
       "101         0.92933     0.00000                    Greece             102   \n",
       "111         0.81889     0.17922                      Iraq             112   \n",
       "119         1.00120     0.24834          Congo (Kinshasa)             120   \n",
       "122         0.95571     0.21488              Sierra Leone             123   \n",
       "147         0.00000     0.23835  Central African Republic             148   \n",
       "233         0.33613     0.27225                   Somalia              76   \n",
       "244         0.64367     0.29889    Bosnia and Herzegovina              87   \n",
       "256         0.75473     0.00000                    Greece              99   \n",
       "268         0.62800     0.23897              Sierra Leone             111   \n",
       "\n",
       "     happiness_score   health  freedom  corruption_perception  economy  year  \n",
       "73             5.399  0.63793  0.46611                0.00000  0.82827  2015  \n",
       "101            4.857  0.88213  0.07699                0.01397  1.15406  2015  \n",
       "111            4.677  0.60237  0.00000                0.13788  0.98549  2015  \n",
       "119            4.517  0.09806  0.22605                0.07625  0.00000  2015  \n",
       "122            4.507  0.00000  0.40840                0.08786  0.33024  2015  \n",
       "147            3.678  0.06699  0.48879                0.08289  0.07850  2015  \n",
       "233            5.440  0.11466  0.56778                0.31180  0.00000  2016  \n",
       "244            5.163  0.70766  0.09511                0.00000  0.93383  2016  \n",
       "256            5.033  0.80029  0.05822                0.04127  1.24886  2016  \n",
       "268            4.635  0.00000  0.30685                0.08196  0.36485  2016  "
      ]
     },
     "execution_count": 30,
     "metadata": {},
     "output_type": "execute_result"
    }
   ],
   "source": [
    "df[df.eq(0).any(axis=1)].head(10)\n"
   ]
  },
  {
   "cell_type": "markdown",
   "id": "e1b426b4",
   "metadata": {},
   "source": [
    "## Revisión del dataframe final\n",
    "\n",
    "agregando columna de continente\n",
    "\n",
    "Se añadirá una columna que indique el continente de cada país utilizando country_converter para realizar un análisis geográfico más detallado."
   ]
  },
  {
   "cell_type": "code",
   "execution_count": 31,
   "id": "7a536f3b",
   "metadata": {},
   "outputs": [
    {
     "data": {
      "text/html": [
       "<div>\n",
       "<style scoped>\n",
       "    .dataframe tbody tr th:only-of-type {\n",
       "        vertical-align: middle;\n",
       "    }\n",
       "\n",
       "    .dataframe tbody tr th {\n",
       "        vertical-align: top;\n",
       "    }\n",
       "\n",
       "    .dataframe thead th {\n",
       "        text-align: right;\n",
       "    }\n",
       "</style>\n",
       "<table border=\"1\" class=\"dataframe\">\n",
       "  <thead>\n",
       "    <tr style=\"text-align: right;\">\n",
       "      <th></th>\n",
       "      <th>continent</th>\n",
       "      <th>country</th>\n",
       "    </tr>\n",
       "  </thead>\n",
       "  <tbody>\n",
       "    <tr>\n",
       "      <th>0</th>\n",
       "      <td>Europe</td>\n",
       "      <td>Switzerland</td>\n",
       "    </tr>\n",
       "    <tr>\n",
       "      <th>1</th>\n",
       "      <td>Europe</td>\n",
       "      <td>Iceland</td>\n",
       "    </tr>\n",
       "    <tr>\n",
       "      <th>2</th>\n",
       "      <td>Europe</td>\n",
       "      <td>Denmark</td>\n",
       "    </tr>\n",
       "    <tr>\n",
       "      <th>3</th>\n",
       "      <td>Europe</td>\n",
       "      <td>Norway</td>\n",
       "    </tr>\n",
       "    <tr>\n",
       "      <th>4</th>\n",
       "      <td>America</td>\n",
       "      <td>Canada</td>\n",
       "    </tr>\n",
       "    <tr>\n",
       "      <th>5</th>\n",
       "      <td>Europe</td>\n",
       "      <td>Finland</td>\n",
       "    </tr>\n",
       "    <tr>\n",
       "      <th>6</th>\n",
       "      <td>Europe</td>\n",
       "      <td>Netherlands</td>\n",
       "    </tr>\n",
       "    <tr>\n",
       "      <th>7</th>\n",
       "      <td>Europe</td>\n",
       "      <td>Sweden</td>\n",
       "    </tr>\n",
       "    <tr>\n",
       "      <th>8</th>\n",
       "      <td>Oceania</td>\n",
       "      <td>New Zealand</td>\n",
       "    </tr>\n",
       "    <tr>\n",
       "      <th>9</th>\n",
       "      <td>Oceania</td>\n",
       "      <td>Australia</td>\n",
       "    </tr>\n",
       "  </tbody>\n",
       "</table>\n",
       "</div>"
      ],
      "text/plain": [
       "  continent      country\n",
       "0    Europe  Switzerland\n",
       "1    Europe      Iceland\n",
       "2    Europe      Denmark\n",
       "3    Europe       Norway\n",
       "4   America       Canada\n",
       "5    Europe      Finland\n",
       "6    Europe  Netherlands\n",
       "7    Europe       Sweden\n",
       "8   Oceania  New Zealand\n",
       "9   Oceania    Australia"
      ]
     },
     "execution_count": 31,
     "metadata": {},
     "output_type": "execute_result"
    }
   ],
   "source": [
    "cc = coco.CountryConverter()\n",
    "\n",
    "df[\"continent\"] = cc.convert(names=df[\"country\"].tolist(), to=\"continent\")\n",
    "df[[\"continent\", \"country\"]].head(10)"
   ]
  },
  {
   "cell_type": "markdown",
   "id": "096c9645",
   "metadata": {},
   "source": [
    "Para este caso, prefiero separar América en América del Norte, América Central y América del Sur.\n",
    "Revisemos los valores únicos y establezcamos el mapeo de los continentes."
   ]
  },
  {
   "cell_type": "code",
   "execution_count": 32,
   "id": "e47ea35a",
   "metadata": {},
   "outputs": [
    {
     "data": {
      "text/plain": [
       "continent\n",
       "Africa     50\n",
       "Asia       50\n",
       "Europe     41\n",
       "America    27\n",
       "Oceania     2\n",
       "Name: count, dtype: int64"
      ]
     },
     "execution_count": 32,
     "metadata": {},
     "output_type": "execute_result"
    }
   ],
   "source": [
    "unique_countries = df.drop_duplicates(subset=['country'])\n",
    "unique_countries['continent'].value_counts()"
   ]
  },
  {
   "cell_type": "code",
   "execution_count": 33,
   "id": "7231f561",
   "metadata": {},
   "outputs": [
    {
     "data": {
      "text/plain": [
       "array(['Canada', 'Costa Rica', 'Mexico', 'United States', 'Brazil',\n",
       "       'Venezuela', 'Panama', 'Chile', 'Argentina', 'Uruguay', 'Colombia',\n",
       "       'Suriname', 'Trinidad and Tobago', 'El Salvador', 'Guatemala',\n",
       "       'Ecuador', 'Bolivia', 'Paraguay', 'Nicaragua', 'Peru', 'Jamaica',\n",
       "       'Dominican Republic', 'Honduras', 'Haiti', 'Puerto Rico', 'Belize',\n",
       "       'Trinidad & Tobago'], dtype=object)"
      ]
     },
     "execution_count": 33,
     "metadata": {},
     "output_type": "execute_result"
    }
   ],
   "source": [
    "unique_countries.query(\"continent == 'America'\")[\"country\"].unique()\n"
   ]
  },
  {
   "cell_type": "code",
   "execution_count": 34,
   "id": "a7551f7a",
   "metadata": {},
   "outputs": [],
   "source": [
    "continent_mapping = {\n",
    "    \"Canada\": \"North America\",\n",
    "    \"Costa Rica\": \"Central America\",\n",
    "    \"Mexico\": \"North America\",\n",
    "    \"United States\": \"North America\",\n",
    "    \"Brazil\": \"South America\",\n",
    "    \"Venezuela\": \"South America\",\n",
    "    \"Panama\": \"Central America\",\n",
    "    \"Chile\": \"South America\",\n",
    "    \"Argentina\": \"South America\",\n",
    "    \"Uruguay\": \"South America\",\n",
    "    \"Colombia\": \"South America\",\n",
    "    \"Suriname\": \"South America\",\n",
    "    \"Trinidad and Tobago\": \"South America\",\n",
    "    \"El Salvador\": \"Central America\",\n",
    "    \"Guatemala\": \"Central America\",\n",
    "    \"Ecuador\": \"South America\",\n",
    "    \"Bolivia\": \"South America\",\n",
    "    \"Paraguay\": \"South America\",\n",
    "    \"Nicaragua\": \"Central America\",\n",
    "    \"Peru\": \"South America\",\n",
    "    \"Jamaica\": \"Central America\",\n",
    "    \"Dominican Republic\": \"Central America\",\n",
    "    \"Honduras\": \"Central America\",\n",
    "    \"Haiti\": \"Central America\",\n",
    "    \"Puerto Rico\": \"Central America\",\n",
    "    \"Belize\": \"Central America\",\n",
    "    \"Trinidad & Tobago\": \"South America\"\n",
    "}"
   ]
  },
  {
   "cell_type": "code",
   "execution_count": 35,
   "id": "e3506342",
   "metadata": {},
   "outputs": [
    {
     "data": {
      "text/html": [
       "<div>\n",
       "<style scoped>\n",
       "    .dataframe tbody tr th:only-of-type {\n",
       "        vertical-align: middle;\n",
       "    }\n",
       "\n",
       "    .dataframe tbody tr th {\n",
       "        vertical-align: top;\n",
       "    }\n",
       "\n",
       "    .dataframe thead th {\n",
       "        text-align: right;\n",
       "    }\n",
       "</style>\n",
       "<table border=\"1\" class=\"dataframe\">\n",
       "  <thead>\n",
       "    <tr style=\"text-align: right;\">\n",
       "      <th></th>\n",
       "      <th>continent</th>\n",
       "      <th>country</th>\n",
       "    </tr>\n",
       "  </thead>\n",
       "  <tbody>\n",
       "    <tr>\n",
       "      <th>0</th>\n",
       "      <td>Europe</td>\n",
       "      <td>Switzerland</td>\n",
       "    </tr>\n",
       "    <tr>\n",
       "      <th>1</th>\n",
       "      <td>Europe</td>\n",
       "      <td>Iceland</td>\n",
       "    </tr>\n",
       "    <tr>\n",
       "      <th>2</th>\n",
       "      <td>Europe</td>\n",
       "      <td>Denmark</td>\n",
       "    </tr>\n",
       "    <tr>\n",
       "      <th>3</th>\n",
       "      <td>Europe</td>\n",
       "      <td>Norway</td>\n",
       "    </tr>\n",
       "    <tr>\n",
       "      <th>4</th>\n",
       "      <td>North America</td>\n",
       "      <td>Canada</td>\n",
       "    </tr>\n",
       "    <tr>\n",
       "      <th>5</th>\n",
       "      <td>Europe</td>\n",
       "      <td>Finland</td>\n",
       "    </tr>\n",
       "    <tr>\n",
       "      <th>6</th>\n",
       "      <td>Europe</td>\n",
       "      <td>Netherlands</td>\n",
       "    </tr>\n",
       "    <tr>\n",
       "      <th>7</th>\n",
       "      <td>Europe</td>\n",
       "      <td>Sweden</td>\n",
       "    </tr>\n",
       "    <tr>\n",
       "      <th>8</th>\n",
       "      <td>Oceania</td>\n",
       "      <td>New Zealand</td>\n",
       "    </tr>\n",
       "    <tr>\n",
       "      <th>9</th>\n",
       "      <td>Oceania</td>\n",
       "      <td>Australia</td>\n",
       "    </tr>\n",
       "  </tbody>\n",
       "</table>\n",
       "</div>"
      ],
      "text/plain": [
       "       continent      country\n",
       "0         Europe  Switzerland\n",
       "1         Europe      Iceland\n",
       "2         Europe      Denmark\n",
       "3         Europe       Norway\n",
       "4  North America       Canada\n",
       "5         Europe      Finland\n",
       "6         Europe  Netherlands\n",
       "7         Europe       Sweden\n",
       "8        Oceania  New Zealand\n",
       "9        Oceania    Australia"
      ]
     },
     "execution_count": 35,
     "metadata": {},
     "output_type": "execute_result"
    }
   ],
   "source": [
    "df[\"continent\"] = df[\"country\"].map(continent_mapping).fillna(df[\"continent\"])\n",
    "df[[\"continent\", \"country\"]].head(10)"
   ]
  },
  {
   "cell_type": "markdown",
   "id": "6d315203",
   "metadata": {},
   "source": [
    "## Revisión del dataframe final\n",
    "reordenando las columnas\n",
    "\n",
    "Para que el dataframe sea más fácil de leer, reordenaremos las columnas."
   ]
  },
  {
   "cell_type": "code",
   "execution_count": 36,
   "id": "11b96387",
   "metadata": {},
   "outputs": [
    {
     "data": {
      "text/html": [
       "<div>\n",
       "<style scoped>\n",
       "    .dataframe tbody tr th:only-of-type {\n",
       "        vertical-align: middle;\n",
       "    }\n",
       "\n",
       "    .dataframe tbody tr th {\n",
       "        vertical-align: top;\n",
       "    }\n",
       "\n",
       "    .dataframe thead th {\n",
       "        text-align: right;\n",
       "    }\n",
       "</style>\n",
       "<table border=\"1\" class=\"dataframe\">\n",
       "  <thead>\n",
       "    <tr style=\"text-align: right;\">\n",
       "      <th></th>\n",
       "      <th>country</th>\n",
       "      <th>continent</th>\n",
       "      <th>year</th>\n",
       "      <th>economy</th>\n",
       "      <th>health</th>\n",
       "      <th>social_support</th>\n",
       "      <th>freedom</th>\n",
       "      <th>corruption_perception</th>\n",
       "      <th>generosity</th>\n",
       "      <th>happiness_rank</th>\n",
       "      <th>happiness_score</th>\n",
       "    </tr>\n",
       "  </thead>\n",
       "  <tbody>\n",
       "    <tr>\n",
       "      <th>0</th>\n",
       "      <td>Switzerland</td>\n",
       "      <td>Europe</td>\n",
       "      <td>2015</td>\n",
       "      <td>1.39651</td>\n",
       "      <td>0.94143</td>\n",
       "      <td>1.34951</td>\n",
       "      <td>0.66557</td>\n",
       "      <td>0.41978</td>\n",
       "      <td>0.29678</td>\n",
       "      <td>1</td>\n",
       "      <td>7.587</td>\n",
       "    </tr>\n",
       "    <tr>\n",
       "      <th>1</th>\n",
       "      <td>Iceland</td>\n",
       "      <td>Europe</td>\n",
       "      <td>2015</td>\n",
       "      <td>1.30232</td>\n",
       "      <td>0.94784</td>\n",
       "      <td>1.40223</td>\n",
       "      <td>0.62877</td>\n",
       "      <td>0.14145</td>\n",
       "      <td>0.43630</td>\n",
       "      <td>2</td>\n",
       "      <td>7.561</td>\n",
       "    </tr>\n",
       "    <tr>\n",
       "      <th>2</th>\n",
       "      <td>Denmark</td>\n",
       "      <td>Europe</td>\n",
       "      <td>2015</td>\n",
       "      <td>1.32548</td>\n",
       "      <td>0.87464</td>\n",
       "      <td>1.36058</td>\n",
       "      <td>0.64938</td>\n",
       "      <td>0.48357</td>\n",
       "      <td>0.34139</td>\n",
       "      <td>3</td>\n",
       "      <td>7.527</td>\n",
       "    </tr>\n",
       "    <tr>\n",
       "      <th>3</th>\n",
       "      <td>Norway</td>\n",
       "      <td>Europe</td>\n",
       "      <td>2015</td>\n",
       "      <td>1.45900</td>\n",
       "      <td>0.88521</td>\n",
       "      <td>1.33095</td>\n",
       "      <td>0.66973</td>\n",
       "      <td>0.36503</td>\n",
       "      <td>0.34699</td>\n",
       "      <td>4</td>\n",
       "      <td>7.522</td>\n",
       "    </tr>\n",
       "    <tr>\n",
       "      <th>4</th>\n",
       "      <td>Canada</td>\n",
       "      <td>North America</td>\n",
       "      <td>2015</td>\n",
       "      <td>1.32629</td>\n",
       "      <td>0.90563</td>\n",
       "      <td>1.32261</td>\n",
       "      <td>0.63297</td>\n",
       "      <td>0.32957</td>\n",
       "      <td>0.45811</td>\n",
       "      <td>5</td>\n",
       "      <td>7.427</td>\n",
       "    </tr>\n",
       "  </tbody>\n",
       "</table>\n",
       "</div>"
      ],
      "text/plain": [
       "       country      continent  year  economy   health  social_support  \\\n",
       "0  Switzerland         Europe  2015  1.39651  0.94143         1.34951   \n",
       "1      Iceland         Europe  2015  1.30232  0.94784         1.40223   \n",
       "2      Denmark         Europe  2015  1.32548  0.87464         1.36058   \n",
       "3       Norway         Europe  2015  1.45900  0.88521         1.33095   \n",
       "4       Canada  North America  2015  1.32629  0.90563         1.32261   \n",
       "\n",
       "   freedom  corruption_perception  generosity  happiness_rank  happiness_score  \n",
       "0  0.66557                0.41978     0.29678               1            7.587  \n",
       "1  0.62877                0.14145     0.43630               2            7.561  \n",
       "2  0.64938                0.48357     0.34139               3            7.527  \n",
       "3  0.66973                0.36503     0.34699               4            7.522  \n",
       "4  0.63297                0.32957     0.45811               5            7.427  "
      ]
     },
     "execution_count": 36,
     "metadata": {},
     "output_type": "execute_result"
    }
   ],
   "source": [
    "new_order = [\n",
    "    'country',\n",
    "    'continent',\n",
    "    'year',\n",
    "    'economy',\n",
    "    'health',\n",
    "    'social_support',\n",
    "    'freedom',\n",
    "    'corruption_perception',\n",
    "    'generosity',\n",
    "    'happiness_rank',\n",
    "    'happiness_score'\n",
    "]\n",
    "\n",
    "df = df[new_order]\n",
    "df.head()"
   ]
  },
  {
   "cell_type": "markdown",
   "id": "2db751a8",
   "metadata": {},
   "source": [
    "## Comprensión de datos\n",
    "Entre la miseria y la felicidad\n",
    "\n",
    "Puntuaciones promedio\n",
    "\n",
    "Usando un diagrama de radar, detallamos los valores promedio de los indicadores que conforman el happiness_score y, por lo tanto, determinamos la clasificación de felicidad.\n",
    "\n",
    "Encontramos que la percepción promedio de Economy (GDP per Capita) se encuentra entre los índices más altos, con un valor de 0.92, lo que indica que en la mayoría de los países la gente percibe su situación económica al menos estable.\n",
    "\n",
    "Entre los índices más bajos, encontramos Perceptions of Corruption, que tiene un valor promedio de 0.12, lo que sugiere un bajo nivel de confianza pública en las entidades gubernamentales."
   ]
  },
  {
   "cell_type": "code",
   "execution_count": 37,
   "id": "515c7bd8",
   "metadata": {},
   "outputs": [
    {
     "data": {
      "application/vnd.plotly.v1+json": {
       "config": {
        "plotlyServerURL": "https://plot.ly"
       },
       "data": [
        {
         "fill": "toself",
         "hovertemplate": "Average Score=%{r}<br>Category=%{theta}<extra></extra>",
         "legendgroup": "",
         "line": {
          "color": "#636efa",
          "dash": "solid"
         },
         "marker": {
          "symbol": "circle"
         },
         "mode": "lines",
         "name": "",
         "r": {
          "bdata": "sR5bz0JQ7T8Jz2iN6JjjP2bqyXkYQfE/Gusl5U9P2j8msAYxRg7AP1GHmQ1L+ss/sR5bz0JQ7T8=",
          "dtype": "f8"
         },
         "showlegend": false,
         "subplot": "polar",
         "theta": [
          "economy",
          "health",
          "social_support",
          "freedom",
          "corruption_perception",
          "generosity",
          "economy"
         ],
         "type": "scatterpolar"
        }
       ],
       "layout": {
        "legend": {
         "tracegroupgap": 0
        },
        "margin": {
         "t": 60
        },
        "polar": {
         "angularaxis": {
          "direction": "clockwise",
          "rotation": 90
         },
         "domain": {
          "x": [
           0,
           1
          ],
          "y": [
           0,
           1
          ]
         }
        },
        "template": {
         "data": {
          "bar": [
           {
            "error_x": {
             "color": "#2a3f5f"
            },
            "error_y": {
             "color": "#2a3f5f"
            },
            "marker": {
             "line": {
              "color": "#E5ECF6",
              "width": 0.5
             },
             "pattern": {
              "fillmode": "overlay",
              "size": 10,
              "solidity": 0.2
             }
            },
            "type": "bar"
           }
          ],
          "barpolar": [
           {
            "marker": {
             "line": {
              "color": "#E5ECF6",
              "width": 0.5
             },
             "pattern": {
              "fillmode": "overlay",
              "size": 10,
              "solidity": 0.2
             }
            },
            "type": "barpolar"
           }
          ],
          "carpet": [
           {
            "aaxis": {
             "endlinecolor": "#2a3f5f",
             "gridcolor": "white",
             "linecolor": "white",
             "minorgridcolor": "white",
             "startlinecolor": "#2a3f5f"
            },
            "baxis": {
             "endlinecolor": "#2a3f5f",
             "gridcolor": "white",
             "linecolor": "white",
             "minorgridcolor": "white",
             "startlinecolor": "#2a3f5f"
            },
            "type": "carpet"
           }
          ],
          "choropleth": [
           {
            "colorbar": {
             "outlinewidth": 0,
             "ticks": ""
            },
            "type": "choropleth"
           }
          ],
          "contour": [
           {
            "colorbar": {
             "outlinewidth": 0,
             "ticks": ""
            },
            "colorscale": [
             [
              0,
              "#0d0887"
             ],
             [
              0.1111111111111111,
              "#46039f"
             ],
             [
              0.2222222222222222,
              "#7201a8"
             ],
             [
              0.3333333333333333,
              "#9c179e"
             ],
             [
              0.4444444444444444,
              "#bd3786"
             ],
             [
              0.5555555555555556,
              "#d8576b"
             ],
             [
              0.6666666666666666,
              "#ed7953"
             ],
             [
              0.7777777777777778,
              "#fb9f3a"
             ],
             [
              0.8888888888888888,
              "#fdca26"
             ],
             [
              1,
              "#f0f921"
             ]
            ],
            "type": "contour"
           }
          ],
          "contourcarpet": [
           {
            "colorbar": {
             "outlinewidth": 0,
             "ticks": ""
            },
            "type": "contourcarpet"
           }
          ],
          "heatmap": [
           {
            "colorbar": {
             "outlinewidth": 0,
             "ticks": ""
            },
            "colorscale": [
             [
              0,
              "#0d0887"
             ],
             [
              0.1111111111111111,
              "#46039f"
             ],
             [
              0.2222222222222222,
              "#7201a8"
             ],
             [
              0.3333333333333333,
              "#9c179e"
             ],
             [
              0.4444444444444444,
              "#bd3786"
             ],
             [
              0.5555555555555556,
              "#d8576b"
             ],
             [
              0.6666666666666666,
              "#ed7953"
             ],
             [
              0.7777777777777778,
              "#fb9f3a"
             ],
             [
              0.8888888888888888,
              "#fdca26"
             ],
             [
              1,
              "#f0f921"
             ]
            ],
            "type": "heatmap"
           }
          ],
          "histogram": [
           {
            "marker": {
             "pattern": {
              "fillmode": "overlay",
              "size": 10,
              "solidity": 0.2
             }
            },
            "type": "histogram"
           }
          ],
          "histogram2d": [
           {
            "colorbar": {
             "outlinewidth": 0,
             "ticks": ""
            },
            "colorscale": [
             [
              0,
              "#0d0887"
             ],
             [
              0.1111111111111111,
              "#46039f"
             ],
             [
              0.2222222222222222,
              "#7201a8"
             ],
             [
              0.3333333333333333,
              "#9c179e"
             ],
             [
              0.4444444444444444,
              "#bd3786"
             ],
             [
              0.5555555555555556,
              "#d8576b"
             ],
             [
              0.6666666666666666,
              "#ed7953"
             ],
             [
              0.7777777777777778,
              "#fb9f3a"
             ],
             [
              0.8888888888888888,
              "#fdca26"
             ],
             [
              1,
              "#f0f921"
             ]
            ],
            "type": "histogram2d"
           }
          ],
          "histogram2dcontour": [
           {
            "colorbar": {
             "outlinewidth": 0,
             "ticks": ""
            },
            "colorscale": [
             [
              0,
              "#0d0887"
             ],
             [
              0.1111111111111111,
              "#46039f"
             ],
             [
              0.2222222222222222,
              "#7201a8"
             ],
             [
              0.3333333333333333,
              "#9c179e"
             ],
             [
              0.4444444444444444,
              "#bd3786"
             ],
             [
              0.5555555555555556,
              "#d8576b"
             ],
             [
              0.6666666666666666,
              "#ed7953"
             ],
             [
              0.7777777777777778,
              "#fb9f3a"
             ],
             [
              0.8888888888888888,
              "#fdca26"
             ],
             [
              1,
              "#f0f921"
             ]
            ],
            "type": "histogram2dcontour"
           }
          ],
          "mesh3d": [
           {
            "colorbar": {
             "outlinewidth": 0,
             "ticks": ""
            },
            "type": "mesh3d"
           }
          ],
          "parcoords": [
           {
            "line": {
             "colorbar": {
              "outlinewidth": 0,
              "ticks": ""
             }
            },
            "type": "parcoords"
           }
          ],
          "pie": [
           {
            "automargin": true,
            "type": "pie"
           }
          ],
          "scatter": [
           {
            "fillpattern": {
             "fillmode": "overlay",
             "size": 10,
             "solidity": 0.2
            },
            "type": "scatter"
           }
          ],
          "scatter3d": [
           {
            "line": {
             "colorbar": {
              "outlinewidth": 0,
              "ticks": ""
             }
            },
            "marker": {
             "colorbar": {
              "outlinewidth": 0,
              "ticks": ""
             }
            },
            "type": "scatter3d"
           }
          ],
          "scattercarpet": [
           {
            "marker": {
             "colorbar": {
              "outlinewidth": 0,
              "ticks": ""
             }
            },
            "type": "scattercarpet"
           }
          ],
          "scattergeo": [
           {
            "marker": {
             "colorbar": {
              "outlinewidth": 0,
              "ticks": ""
             }
            },
            "type": "scattergeo"
           }
          ],
          "scattergl": [
           {
            "marker": {
             "colorbar": {
              "outlinewidth": 0,
              "ticks": ""
             }
            },
            "type": "scattergl"
           }
          ],
          "scattermap": [
           {
            "marker": {
             "colorbar": {
              "outlinewidth": 0,
              "ticks": ""
             }
            },
            "type": "scattermap"
           }
          ],
          "scattermapbox": [
           {
            "marker": {
             "colorbar": {
              "outlinewidth": 0,
              "ticks": ""
             }
            },
            "type": "scattermapbox"
           }
          ],
          "scatterpolar": [
           {
            "marker": {
             "colorbar": {
              "outlinewidth": 0,
              "ticks": ""
             }
            },
            "type": "scatterpolar"
           }
          ],
          "scatterpolargl": [
           {
            "marker": {
             "colorbar": {
              "outlinewidth": 0,
              "ticks": ""
             }
            },
            "type": "scatterpolargl"
           }
          ],
          "scatterternary": [
           {
            "marker": {
             "colorbar": {
              "outlinewidth": 0,
              "ticks": ""
             }
            },
            "type": "scatterternary"
           }
          ],
          "surface": [
           {
            "colorbar": {
             "outlinewidth": 0,
             "ticks": ""
            },
            "colorscale": [
             [
              0,
              "#0d0887"
             ],
             [
              0.1111111111111111,
              "#46039f"
             ],
             [
              0.2222222222222222,
              "#7201a8"
             ],
             [
              0.3333333333333333,
              "#9c179e"
             ],
             [
              0.4444444444444444,
              "#bd3786"
             ],
             [
              0.5555555555555556,
              "#d8576b"
             ],
             [
              0.6666666666666666,
              "#ed7953"
             ],
             [
              0.7777777777777778,
              "#fb9f3a"
             ],
             [
              0.8888888888888888,
              "#fdca26"
             ],
             [
              1,
              "#f0f921"
             ]
            ],
            "type": "surface"
           }
          ],
          "table": [
           {
            "cells": {
             "fill": {
              "color": "#EBF0F8"
             },
             "line": {
              "color": "white"
             }
            },
            "header": {
             "fill": {
              "color": "#C8D4E3"
             },
             "line": {
              "color": "white"
             }
            },
            "type": "table"
           }
          ]
         },
         "layout": {
          "annotationdefaults": {
           "arrowcolor": "#2a3f5f",
           "arrowhead": 0,
           "arrowwidth": 1
          },
          "autotypenumbers": "strict",
          "coloraxis": {
           "colorbar": {
            "outlinewidth": 0,
            "ticks": ""
           }
          },
          "colorscale": {
           "diverging": [
            [
             0,
             "#8e0152"
            ],
            [
             0.1,
             "#c51b7d"
            ],
            [
             0.2,
             "#de77ae"
            ],
            [
             0.3,
             "#f1b6da"
            ],
            [
             0.4,
             "#fde0ef"
            ],
            [
             0.5,
             "#f7f7f7"
            ],
            [
             0.6,
             "#e6f5d0"
            ],
            [
             0.7,
             "#b8e186"
            ],
            [
             0.8,
             "#7fbc41"
            ],
            [
             0.9,
             "#4d9221"
            ],
            [
             1,
             "#276419"
            ]
           ],
           "sequential": [
            [
             0,
             "#0d0887"
            ],
            [
             0.1111111111111111,
             "#46039f"
            ],
            [
             0.2222222222222222,
             "#7201a8"
            ],
            [
             0.3333333333333333,
             "#9c179e"
            ],
            [
             0.4444444444444444,
             "#bd3786"
            ],
            [
             0.5555555555555556,
             "#d8576b"
            ],
            [
             0.6666666666666666,
             "#ed7953"
            ],
            [
             0.7777777777777778,
             "#fb9f3a"
            ],
            [
             0.8888888888888888,
             "#fdca26"
            ],
            [
             1,
             "#f0f921"
            ]
           ],
           "sequentialminus": [
            [
             0,
             "#0d0887"
            ],
            [
             0.1111111111111111,
             "#46039f"
            ],
            [
             0.2222222222222222,
             "#7201a8"
            ],
            [
             0.3333333333333333,
             "#9c179e"
            ],
            [
             0.4444444444444444,
             "#bd3786"
            ],
            [
             0.5555555555555556,
             "#d8576b"
            ],
            [
             0.6666666666666666,
             "#ed7953"
            ],
            [
             0.7777777777777778,
             "#fb9f3a"
            ],
            [
             0.8888888888888888,
             "#fdca26"
            ],
            [
             1,
             "#f0f921"
            ]
           ]
          },
          "colorway": [
           "#636efa",
           "#EF553B",
           "#00cc96",
           "#ab63fa",
           "#FFA15A",
           "#19d3f3",
           "#FF6692",
           "#B6E880",
           "#FF97FF",
           "#FECB52"
          ],
          "font": {
           "color": "#2a3f5f"
          },
          "geo": {
           "bgcolor": "white",
           "lakecolor": "white",
           "landcolor": "#E5ECF6",
           "showlakes": true,
           "showland": true,
           "subunitcolor": "white"
          },
          "hoverlabel": {
           "align": "left"
          },
          "hovermode": "closest",
          "mapbox": {
           "style": "light"
          },
          "paper_bgcolor": "white",
          "plot_bgcolor": "#E5ECF6",
          "polar": {
           "angularaxis": {
            "gridcolor": "white",
            "linecolor": "white",
            "ticks": ""
           },
           "bgcolor": "#E5ECF6",
           "radialaxis": {
            "gridcolor": "white",
            "linecolor": "white",
            "ticks": ""
           }
          },
          "scene": {
           "xaxis": {
            "backgroundcolor": "#E5ECF6",
            "gridcolor": "white",
            "gridwidth": 2,
            "linecolor": "white",
            "showbackground": true,
            "ticks": "",
            "zerolinecolor": "white"
           },
           "yaxis": {
            "backgroundcolor": "#E5ECF6",
            "gridcolor": "white",
            "gridwidth": 2,
            "linecolor": "white",
            "showbackground": true,
            "ticks": "",
            "zerolinecolor": "white"
           },
           "zaxis": {
            "backgroundcolor": "#E5ECF6",
            "gridcolor": "white",
            "gridwidth": 2,
            "linecolor": "white",
            "showbackground": true,
            "ticks": "",
            "zerolinecolor": "white"
           }
          },
          "shapedefaults": {
           "line": {
            "color": "#2a3f5f"
           }
          },
          "ternary": {
           "aaxis": {
            "gridcolor": "white",
            "linecolor": "white",
            "ticks": ""
           },
           "baxis": {
            "gridcolor": "white",
            "linecolor": "white",
            "ticks": ""
           },
           "bgcolor": "#E5ECF6",
           "caxis": {
            "gridcolor": "white",
            "linecolor": "white",
            "ticks": ""
           }
          },
          "title": {
           "x": 0.05
          },
          "xaxis": {
           "automargin": true,
           "gridcolor": "white",
           "linecolor": "white",
           "ticks": "",
           "title": {
            "standoff": 15
           },
           "zerolinecolor": "white",
           "zerolinewidth": 2
          },
          "yaxis": {
           "automargin": true,
           "gridcolor": "white",
           "linecolor": "white",
           "ticks": "",
           "title": {
            "standoff": 15
           },
           "zerolinecolor": "white",
           "zerolinewidth": 2
          }
         }
        },
        "title": {
         "text": "Average Scores"
        }
       }
      }
     },
     "metadata": {},
     "output_type": "display_data"
    }
   ],
   "source": [
    "categories = [\"economy\", \"health\", \"social_support\", \"freedom\", \"corruption_perception\", \"generosity\"]\n",
    "df_scores = df[categories]\n",
    "\n",
    "average_values = df_scores.mean()\n",
    "\n",
    "data = pd.DataFrame({\n",
    "    \"Category\": categories,\n",
    "    \"Average Score\": [average_values[category] for category in categories]\n",
    "})\n",
    "\n",
    "fig = px.line_polar(data, r=\"Average Score\", theta=\"Category\", line_close=True)\n",
    "\n",
    "fig.update_traces(fill=\"toself\")\n",
    "fig.update_layout(title=\"Average Scores\")\n",
    "\n",
    "fig.show()"
   ]
  },
  {
   "cell_type": "markdown",
   "id": "d7f51021",
   "metadata": {},
   "source": [
    "## Puntuación de Felicidad por País\n",
    "\n",
    "En esta sección, visualizaremos la distribución geográfica de las puntuaciones de felicidad en los distintos países. Utilizando un mapa coroplético, podemos observar cómo varían las puntuaciones de felicidad a nivel mundial.\n",
    "\n",
    "Por ejemplo, podemos observar que la región de África presenta las puntuaciones de felicidad más bajas del mundo, mientras que las Américas y Europa mantienen puntuaciones de nivel medio a alto."
   ]
  },
  {
   "cell_type": "code",
   "execution_count": 38,
   "id": "a50c3018",
   "metadata": {},
   "outputs": [
    {
     "data": {
      "application/vnd.plotly.v1+json": {
       "config": {
        "plotlyServerURL": "https://plot.ly"
       },
       "data": [
        {
         "coloraxis": "coloraxis",
         "geo": "geo",
         "hovertemplate": "<b>%{hovertext}</b><br><br>country=%{location}<br>happiness_score=%{z}<extra></extra>",
         "hovertext": [
          "Switzerland",
          "Iceland",
          "Denmark",
          "Norway",
          "Canada",
          "Finland",
          "Netherlands",
          "Sweden",
          "New Zealand",
          "Australia",
          "Israel",
          "Costa Rica",
          "Austria",
          "Mexico",
          "United States",
          "Brazil",
          "Luxembourg",
          "Ireland",
          "Belgium",
          "United Arab Emirates",
          "United Kingdom",
          "Oman",
          "Venezuela",
          "Singapore",
          "Panama",
          "Germany",
          "Chile",
          "Qatar",
          "France",
          "Argentina",
          "Czech Republic",
          "Uruguay",
          "Colombia",
          "Thailand",
          "Saudi Arabia",
          "Spain",
          "Malta",
          "Taiwan",
          "Kuwait",
          "Suriname",
          "Trinidad and Tobago",
          "El Salvador",
          "Guatemala",
          "Uzbekistan",
          "Slovakia",
          "Japan",
          "South Korea",
          "Ecuador",
          "Bahrain",
          "Italy",
          "Bolivia",
          "Moldova",
          "Paraguay",
          "Kazakhstan",
          "Slovenia",
          "Lithuania",
          "Nicaragua",
          "Peru",
          "Belarus",
          "Poland",
          "Malaysia",
          "Croatia",
          "Libya",
          "Russia",
          "Jamaica",
          "North Cyprus",
          "Cyprus",
          "Algeria",
          "Kosovo",
          "Turkmenistan",
          "Mauritius",
          "Hong Kong",
          "Estonia",
          "Indonesia",
          "Vietnam",
          "Turkey",
          "Kyrgyzstan",
          "Nigeria",
          "Bhutan",
          "Azerbaijan",
          "Pakistan",
          "Jordan",
          "Montenegro",
          "China",
          "Zambia",
          "Romania",
          "Serbia",
          "Portugal",
          "Latvia",
          "Philippines",
          "Somaliland region",
          "Morocco",
          "Macedonia",
          "Mozambique",
          "Albania",
          "Bosnia and Herzegovina",
          "Lesotho",
          "Dominican Republic",
          "Laos",
          "Mongolia",
          "Swaziland",
          "Greece",
          "Lebanon",
          "Hungary",
          "Honduras",
          "Tajikistan",
          "Tunisia",
          "Palestinian Territories",
          "Bangladesh",
          "Iran",
          "Ukraine",
          "Iraq",
          "South Africa",
          "Ghana",
          "Zimbabwe",
          "Liberia",
          "India",
          "Sudan",
          "Haiti",
          "Congo (Kinshasa)",
          "Nepal",
          "Ethiopia",
          "Sierra Leone",
          "Mauritania",
          "Kenya",
          "Djibouti",
          "Armenia",
          "Botswana",
          "Myanmar",
          "Georgia",
          "Malawi",
          "Sri Lanka",
          "Cameroon",
          "Bulgaria",
          "Egypt",
          "Yemen",
          "Angola",
          "Mali",
          "Congo (Brazzaville)",
          "Comoros",
          "Uganda",
          "Senegal",
          "Gabon",
          "Niger",
          "Cambodia",
          "Tanzania",
          "Madagascar",
          "Central African Republic",
          "Chad",
          "Guinea",
          "Ivory Coast",
          "Burkina Faso",
          "Afghanistan",
          "Rwanda",
          "Benin",
          "Syria",
          "Burundi",
          "Togo",
          "Denmark",
          "Switzerland",
          "Iceland",
          "Norway",
          "Finland",
          "Canada",
          "Netherlands",
          "New Zealand",
          "Australia",
          "Sweden",
          "Israel",
          "Austria",
          "United States",
          "Costa Rica",
          "Puerto Rico",
          "Germany",
          "Brazil",
          "Belgium",
          "Ireland",
          "Luxembourg",
          "Mexico",
          "Singapore",
          "United Kingdom",
          "Chile",
          "Panama",
          "Argentina",
          "Czech Republic",
          "United Arab Emirates",
          "Uruguay",
          "Malta",
          "Colombia",
          "France",
          "Thailand",
          "Saudi Arabia",
          "Taiwan",
          "Qatar",
          "Spain",
          "Algeria",
          "Guatemala",
          "Suriname",
          "Kuwait",
          "Bahrain",
          "Trinidad and Tobago",
          "Venezuela",
          "Slovakia",
          "El Salvador",
          "Malaysia",
          "Nicaragua",
          "Uzbekistan",
          "Italy",
          "Ecuador",
          "Belize",
          "Japan",
          "Kazakhstan",
          "Moldova",
          "Russia",
          "Poland",
          "South Korea",
          "Bolivia",
          "Lithuania",
          "Belarus",
          "North Cyprus",
          "Slovenia",
          "Peru",
          "Turkmenistan",
          "Mauritius",
          "Libya",
          "Latvia",
          "Cyprus",
          "Paraguay",
          "Romania",
          "Estonia",
          "Jamaica",
          "Croatia",
          "Hong Kong",
          "Somalia",
          "Kosovo",
          "Turkey",
          "Indonesia",
          "Jordan",
          "Azerbaijan",
          "Philippines",
          "China",
          "Bhutan",
          "Kyrgyzstan",
          "Serbia",
          "Bosnia and Herzegovina",
          "Montenegro",
          "Dominican Republic",
          "Morocco",
          "Hungary",
          "Pakistan",
          "Lebanon",
          "Portugal",
          "Macedonia",
          "Vietnam",
          "Somaliland Region",
          "Tunisia",
          "Greece",
          "Tajikistan",
          "Mongolia",
          "Laos",
          "Nigeria",
          "Honduras",
          "Iran",
          "Zambia",
          "Nepal",
          "Palestinian Territories",
          "Albania",
          "Bangladesh",
          "Sierra Leone",
          "Iraq",
          "Namibia",
          "Cameroon",
          "Ethiopia",
          "South Africa",
          "Sri Lanka",
          "India",
          "Myanmar",
          "Egypt",
          "Armenia",
          "Kenya",
          "Ukraine",
          "Ghana",
          "Congo (Kinshasa)",
          "Georgia",
          "Congo (Brazzaville)",
          "Senegal",
          "Bulgaria",
          "Mauritania",
          "Zimbabwe",
          "Malawi",
          "Sudan",
          "Gabon",
          "Mali",
          "Haiti",
          "Botswana",
          "Comoros",
          "Ivory Coast",
          "Cambodia",
          "Angola",
          "Niger",
          "South Sudan",
          "Chad",
          "Burkina Faso",
          "Uganda",
          "Yemen",
          "Madagascar",
          "Tanzania",
          "Liberia",
          "Guinea",
          "Rwanda",
          "Benin",
          "Afghanistan",
          "Togo",
          "Syria",
          "Burundi",
          "Norway",
          "Denmark",
          "Iceland",
          "Switzerland",
          "Finland",
          "Netherlands",
          "Canada",
          "New Zealand",
          "Sweden",
          "Australia",
          "Israel",
          "Costa Rica",
          "Austria",
          "United States",
          "Ireland",
          "Germany",
          "Belgium",
          "Luxembourg",
          "United Kingdom",
          "Chile",
          "United Arab Emirates",
          "Brazil",
          "Czech Republic",
          "Argentina",
          "Mexico",
          "Singapore",
          "Malta",
          "Uruguay",
          "Guatemala",
          "Panama",
          "France",
          "Thailand",
          "Taiwan Province of China",
          "Spain",
          "Qatar",
          "Colombia",
          "Saudi Arabia",
          "Trinidad and Tobago",
          "Kuwait",
          "Slovakia",
          "Bahrain",
          "Malaysia",
          "Nicaragua",
          "Ecuador",
          "El Salvador",
          "Poland",
          "Uzbekistan",
          "Italy",
          "Russia",
          "Belize",
          "Japan",
          "Lithuania",
          "Algeria",
          "Latvia",
          "South Korea",
          "Moldova",
          "Romania",
          "Bolivia",
          "Turkmenistan",
          "Kazakhstan",
          "North Cyprus",
          "Slovenia",
          "Peru",
          "Mauritius",
          "Cyprus",
          "Estonia",
          "Belarus",
          "Libya",
          "Turkey",
          "Paraguay",
          "Hong Kong S.A.R., China",
          "Philippines",
          "Serbia",
          "Jordan",
          "Hungary",
          "Jamaica",
          "Croatia",
          "Kosovo",
          "China",
          "Pakistan",
          "Indonesia",
          "Venezuela",
          "Montenegro",
          "Morocco",
          "Azerbaijan",
          "Dominican Republic",
          "Greece",
          "Lebanon",
          "Portugal",
          "Bosnia and Herzegovina",
          "Honduras",
          "Macedonia",
          "Somalia",
          "Vietnam",
          "Nigeria",
          "Tajikistan",
          "Bhutan",
          "Kyrgyzstan",
          "Nepal",
          "Mongolia",
          "South Africa",
          "Tunisia",
          "Palestinian Territories",
          "Egypt",
          "Bulgaria",
          "Sierra Leone",
          "Cameroon",
          "Iran",
          "Albania",
          "Bangladesh",
          "Namibia",
          "Kenya",
          "Mozambique",
          "Myanmar",
          "Senegal",
          "Zambia",
          "Iraq",
          "Gabon",
          "Ethiopia",
          "Sri Lanka",
          "Armenia",
          "India",
          "Mauritania",
          "Congo (Brazzaville)",
          "Georgia",
          "Congo (Kinshasa)",
          "Mali",
          "Ivory Coast",
          "Cambodia",
          "Sudan",
          "Ghana",
          "Ukraine",
          "Uganda",
          "Burkina Faso",
          "Niger",
          "Malawi",
          "Chad",
          "Zimbabwe",
          "Lesotho",
          "Angola",
          "Afghanistan",
          "Botswana",
          "Benin",
          "Madagascar",
          "Haiti",
          "Yemen",
          "South Sudan",
          "Liberia",
          "Guinea",
          "Togo",
          "Rwanda",
          "Syria",
          "Tanzania",
          "Burundi",
          "Central African Republic",
          "Finland",
          "Norway",
          "Denmark",
          "Iceland",
          "Switzerland",
          "Netherlands",
          "Canada",
          "New Zealand",
          "Sweden",
          "Australia",
          "United Kingdom",
          "Austria",
          "Costa Rica",
          "Ireland",
          "Germany",
          "Belgium",
          "Luxembourg",
          "United States",
          "Israel",
          "United Arab Emirates",
          "Czech Republic",
          "Malta",
          "France",
          "Mexico",
          "Chile",
          "Taiwan",
          "Panama",
          "Brazil",
          "Argentina",
          "Guatemala",
          "Uruguay",
          "Qatar",
          "Saudi Arabia",
          "Singapore",
          "Malaysia",
          "Spain",
          "Colombia",
          "Trinidad & Tobago",
          "Slovakia",
          "El Salvador",
          "Nicaragua",
          "Poland",
          "Bahrain",
          "Uzbekistan",
          "Kuwait",
          "Thailand",
          "Italy",
          "Ecuador",
          "Belize",
          "Lithuania",
          "Slovenia",
          "Romania",
          "Latvia",
          "Japan",
          "Mauritius",
          "Jamaica",
          "South Korea",
          "Northern Cyprus",
          "Russia",
          "Kazakhstan",
          "Cyprus",
          "Bolivia",
          "Estonia",
          "Paraguay",
          "Peru",
          "Kosovo",
          "Moldova",
          "Turkmenistan",
          "Hungary",
          "Libya",
          "Philippines",
          "Honduras",
          "Belarus",
          "Turkey",
          "Pakistan",
          "Hong Kong",
          "Portugal",
          "Serbia",
          "Greece",
          "Lebanon",
          "Montenegro",
          "Croatia",
          "Dominican Republic",
          "Algeria",
          "Morocco",
          "China",
          "Azerbaijan",
          "Tajikistan",
          "Macedonia",
          "Jordan",
          "Nigeria",
          "Kyrgyzstan",
          "Bosnia and Herzegovina",
          "Mongolia",
          "Vietnam",
          "Indonesia",
          "Bhutan",
          "Somalia",
          "Cameroon",
          "Bulgaria",
          "Nepal",
          "Venezuela",
          "Gabon",
          "Palestinian Territories",
          "South Africa",
          "Iran",
          "Ivory Coast",
          "Ghana",
          "Senegal",
          "Laos",
          "Tunisia",
          "Albania",
          "Sierra Leone",
          "Congo (Brazzaville)",
          "Bangladesh",
          "Sri Lanka",
          "Iraq",
          "Mali",
          "Namibia",
          "Cambodia",
          "Burkina Faso",
          "Egypt",
          "Mozambique",
          "Kenya",
          "Zambia",
          "Mauritania",
          "Ethiopia",
          "Georgia",
          "Armenia",
          "Myanmar",
          "Chad",
          "Congo (Kinshasa)",
          "India",
          "Niger",
          "Uganda",
          "Benin",
          "Sudan",
          "Ukraine",
          "Togo",
          "Guinea",
          "Lesotho",
          "Angola",
          "Madagascar",
          "Zimbabwe",
          "Afghanistan",
          "Botswana",
          "Malawi",
          "Haiti",
          "Liberia",
          "Syria",
          "Rwanda",
          "Yemen",
          "Tanzania",
          "South Sudan",
          "Central African Republic",
          "Burundi",
          "Finland",
          "Denmark",
          "Norway",
          "Iceland",
          "Netherlands",
          "Switzerland",
          "Sweden",
          "New Zealand",
          "Canada",
          "Austria",
          "Australia",
          "Costa Rica",
          "Israel",
          "Luxembourg",
          "United Kingdom",
          "Ireland",
          "Germany",
          "Belgium",
          "United States",
          "Czech Republic",
          "United Arab Emirates",
          "Malta",
          "Mexico",
          "France",
          "Taiwan",
          "Chile",
          "Guatemala",
          "Saudi Arabia",
          "Qatar",
          "Spain",
          "Panama",
          "Brazil",
          "Uruguay",
          "Singapore",
          "El Salvador",
          "Italy",
          "Bahrain",
          "Slovakia",
          "Trinidad & Tobago",
          "Poland",
          "Uzbekistan",
          "Lithuania",
          "Colombia",
          "Slovenia",
          "Nicaragua",
          "Kosovo",
          "Argentina",
          "Romania",
          "Cyprus",
          "Ecuador",
          "Kuwait",
          "Thailand",
          "Latvia",
          "South Korea",
          "Estonia",
          "Jamaica",
          "Mauritius",
          "Japan",
          "Honduras",
          "Kazakhstan",
          "Bolivia",
          "Hungary",
          "Paraguay",
          "Northern Cyprus",
          "Peru",
          "Portugal",
          "Pakistan",
          "Russia",
          "Philippines",
          "Serbia",
          "Moldova",
          "Libya",
          "Montenegro",
          "Tajikistan",
          "Croatia",
          "Hong Kong",
          "Dominican Republic",
          "Bosnia and Herzegovina",
          "Turkey",
          "Malaysia",
          "Belarus",
          "Greece",
          "Mongolia",
          "North Macedonia",
          "Nigeria",
          "Kyrgyzstan",
          "Turkmenistan",
          "Algeria",
          "Morocco",
          "Azerbaijan",
          "Lebanon",
          "Indonesia",
          "China",
          "Vietnam",
          "Bhutan",
          "Cameroon",
          "Bulgaria",
          "Ghana",
          "Ivory Coast",
          "Nepal",
          "Jordan",
          "Benin",
          "Congo (Brazzaville)",
          "Gabon",
          "Laos",
          "South Africa",
          "Albania",
          "Venezuela",
          "Cambodia",
          "Palestinian Territories",
          "Senegal",
          "Somalia",
          "Namibia",
          "Niger",
          "Burkina Faso",
          "Armenia",
          "Iran",
          "Guinea",
          "Georgia",
          "Gambia",
          "Kenya",
          "Mauritania",
          "Mozambique",
          "Tunisia",
          "Bangladesh",
          "Iraq",
          "Congo (Kinshasa)",
          "Mali",
          "Sierra Leone",
          "Sri Lanka",
          "Myanmar",
          "Chad",
          "Ukraine",
          "Ethiopia",
          "Swaziland",
          "Uganda",
          "Egypt",
          "Zambia",
          "Togo",
          "India",
          "Liberia",
          "Comoros",
          "Madagascar",
          "Lesotho",
          "Burundi",
          "Zimbabwe",
          "Haiti",
          "Botswana",
          "Syria",
          "Malawi",
          "Yemen",
          "Rwanda",
          "Tanzania",
          "Afghanistan",
          "Central African Republic",
          "South Sudan"
         ],
         "locationmode": "country names",
         "locations": [
          "Switzerland",
          "Iceland",
          "Denmark",
          "Norway",
          "Canada",
          "Finland",
          "Netherlands",
          "Sweden",
          "New Zealand",
          "Australia",
          "Israel",
          "Costa Rica",
          "Austria",
          "Mexico",
          "United States",
          "Brazil",
          "Luxembourg",
          "Ireland",
          "Belgium",
          "United Arab Emirates",
          "United Kingdom",
          "Oman",
          "Venezuela",
          "Singapore",
          "Panama",
          "Germany",
          "Chile",
          "Qatar",
          "France",
          "Argentina",
          "Czech Republic",
          "Uruguay",
          "Colombia",
          "Thailand",
          "Saudi Arabia",
          "Spain",
          "Malta",
          "Taiwan",
          "Kuwait",
          "Suriname",
          "Trinidad and Tobago",
          "El Salvador",
          "Guatemala",
          "Uzbekistan",
          "Slovakia",
          "Japan",
          "South Korea",
          "Ecuador",
          "Bahrain",
          "Italy",
          "Bolivia",
          "Moldova",
          "Paraguay",
          "Kazakhstan",
          "Slovenia",
          "Lithuania",
          "Nicaragua",
          "Peru",
          "Belarus",
          "Poland",
          "Malaysia",
          "Croatia",
          "Libya",
          "Russia",
          "Jamaica",
          "North Cyprus",
          "Cyprus",
          "Algeria",
          "Kosovo",
          "Turkmenistan",
          "Mauritius",
          "Hong Kong",
          "Estonia",
          "Indonesia",
          "Vietnam",
          "Turkey",
          "Kyrgyzstan",
          "Nigeria",
          "Bhutan",
          "Azerbaijan",
          "Pakistan",
          "Jordan",
          "Montenegro",
          "China",
          "Zambia",
          "Romania",
          "Serbia",
          "Portugal",
          "Latvia",
          "Philippines",
          "Somaliland region",
          "Morocco",
          "Macedonia",
          "Mozambique",
          "Albania",
          "Bosnia and Herzegovina",
          "Lesotho",
          "Dominican Republic",
          "Laos",
          "Mongolia",
          "Swaziland",
          "Greece",
          "Lebanon",
          "Hungary",
          "Honduras",
          "Tajikistan",
          "Tunisia",
          "Palestinian Territories",
          "Bangladesh",
          "Iran",
          "Ukraine",
          "Iraq",
          "South Africa",
          "Ghana",
          "Zimbabwe",
          "Liberia",
          "India",
          "Sudan",
          "Haiti",
          "Congo (Kinshasa)",
          "Nepal",
          "Ethiopia",
          "Sierra Leone",
          "Mauritania",
          "Kenya",
          "Djibouti",
          "Armenia",
          "Botswana",
          "Myanmar",
          "Georgia",
          "Malawi",
          "Sri Lanka",
          "Cameroon",
          "Bulgaria",
          "Egypt",
          "Yemen",
          "Angola",
          "Mali",
          "Congo (Brazzaville)",
          "Comoros",
          "Uganda",
          "Senegal",
          "Gabon",
          "Niger",
          "Cambodia",
          "Tanzania",
          "Madagascar",
          "Central African Republic",
          "Chad",
          "Guinea",
          "Ivory Coast",
          "Burkina Faso",
          "Afghanistan",
          "Rwanda",
          "Benin",
          "Syria",
          "Burundi",
          "Togo",
          "Denmark",
          "Switzerland",
          "Iceland",
          "Norway",
          "Finland",
          "Canada",
          "Netherlands",
          "New Zealand",
          "Australia",
          "Sweden",
          "Israel",
          "Austria",
          "United States",
          "Costa Rica",
          "Puerto Rico",
          "Germany",
          "Brazil",
          "Belgium",
          "Ireland",
          "Luxembourg",
          "Mexico",
          "Singapore",
          "United Kingdom",
          "Chile",
          "Panama",
          "Argentina",
          "Czech Republic",
          "United Arab Emirates",
          "Uruguay",
          "Malta",
          "Colombia",
          "France",
          "Thailand",
          "Saudi Arabia",
          "Taiwan",
          "Qatar",
          "Spain",
          "Algeria",
          "Guatemala",
          "Suriname",
          "Kuwait",
          "Bahrain",
          "Trinidad and Tobago",
          "Venezuela",
          "Slovakia",
          "El Salvador",
          "Malaysia",
          "Nicaragua",
          "Uzbekistan",
          "Italy",
          "Ecuador",
          "Belize",
          "Japan",
          "Kazakhstan",
          "Moldova",
          "Russia",
          "Poland",
          "South Korea",
          "Bolivia",
          "Lithuania",
          "Belarus",
          "North Cyprus",
          "Slovenia",
          "Peru",
          "Turkmenistan",
          "Mauritius",
          "Libya",
          "Latvia",
          "Cyprus",
          "Paraguay",
          "Romania",
          "Estonia",
          "Jamaica",
          "Croatia",
          "Hong Kong",
          "Somalia",
          "Kosovo",
          "Turkey",
          "Indonesia",
          "Jordan",
          "Azerbaijan",
          "Philippines",
          "China",
          "Bhutan",
          "Kyrgyzstan",
          "Serbia",
          "Bosnia and Herzegovina",
          "Montenegro",
          "Dominican Republic",
          "Morocco",
          "Hungary",
          "Pakistan",
          "Lebanon",
          "Portugal",
          "Macedonia",
          "Vietnam",
          "Somaliland Region",
          "Tunisia",
          "Greece",
          "Tajikistan",
          "Mongolia",
          "Laos",
          "Nigeria",
          "Honduras",
          "Iran",
          "Zambia",
          "Nepal",
          "Palestinian Territories",
          "Albania",
          "Bangladesh",
          "Sierra Leone",
          "Iraq",
          "Namibia",
          "Cameroon",
          "Ethiopia",
          "South Africa",
          "Sri Lanka",
          "India",
          "Myanmar",
          "Egypt",
          "Armenia",
          "Kenya",
          "Ukraine",
          "Ghana",
          "Congo (Kinshasa)",
          "Georgia",
          "Congo (Brazzaville)",
          "Senegal",
          "Bulgaria",
          "Mauritania",
          "Zimbabwe",
          "Malawi",
          "Sudan",
          "Gabon",
          "Mali",
          "Haiti",
          "Botswana",
          "Comoros",
          "Ivory Coast",
          "Cambodia",
          "Angola",
          "Niger",
          "South Sudan",
          "Chad",
          "Burkina Faso",
          "Uganda",
          "Yemen",
          "Madagascar",
          "Tanzania",
          "Liberia",
          "Guinea",
          "Rwanda",
          "Benin",
          "Afghanistan",
          "Togo",
          "Syria",
          "Burundi",
          "Norway",
          "Denmark",
          "Iceland",
          "Switzerland",
          "Finland",
          "Netherlands",
          "Canada",
          "New Zealand",
          "Sweden",
          "Australia",
          "Israel",
          "Costa Rica",
          "Austria",
          "United States",
          "Ireland",
          "Germany",
          "Belgium",
          "Luxembourg",
          "United Kingdom",
          "Chile",
          "United Arab Emirates",
          "Brazil",
          "Czech Republic",
          "Argentina",
          "Mexico",
          "Singapore",
          "Malta",
          "Uruguay",
          "Guatemala",
          "Panama",
          "France",
          "Thailand",
          "Taiwan Province of China",
          "Spain",
          "Qatar",
          "Colombia",
          "Saudi Arabia",
          "Trinidad and Tobago",
          "Kuwait",
          "Slovakia",
          "Bahrain",
          "Malaysia",
          "Nicaragua",
          "Ecuador",
          "El Salvador",
          "Poland",
          "Uzbekistan",
          "Italy",
          "Russia",
          "Belize",
          "Japan",
          "Lithuania",
          "Algeria",
          "Latvia",
          "South Korea",
          "Moldova",
          "Romania",
          "Bolivia",
          "Turkmenistan",
          "Kazakhstan",
          "North Cyprus",
          "Slovenia",
          "Peru",
          "Mauritius",
          "Cyprus",
          "Estonia",
          "Belarus",
          "Libya",
          "Turkey",
          "Paraguay",
          "Hong Kong S.A.R., China",
          "Philippines",
          "Serbia",
          "Jordan",
          "Hungary",
          "Jamaica",
          "Croatia",
          "Kosovo",
          "China",
          "Pakistan",
          "Indonesia",
          "Venezuela",
          "Montenegro",
          "Morocco",
          "Azerbaijan",
          "Dominican Republic",
          "Greece",
          "Lebanon",
          "Portugal",
          "Bosnia and Herzegovina",
          "Honduras",
          "Macedonia",
          "Somalia",
          "Vietnam",
          "Nigeria",
          "Tajikistan",
          "Bhutan",
          "Kyrgyzstan",
          "Nepal",
          "Mongolia",
          "South Africa",
          "Tunisia",
          "Palestinian Territories",
          "Egypt",
          "Bulgaria",
          "Sierra Leone",
          "Cameroon",
          "Iran",
          "Albania",
          "Bangladesh",
          "Namibia",
          "Kenya",
          "Mozambique",
          "Myanmar",
          "Senegal",
          "Zambia",
          "Iraq",
          "Gabon",
          "Ethiopia",
          "Sri Lanka",
          "Armenia",
          "India",
          "Mauritania",
          "Congo (Brazzaville)",
          "Georgia",
          "Congo (Kinshasa)",
          "Mali",
          "Ivory Coast",
          "Cambodia",
          "Sudan",
          "Ghana",
          "Ukraine",
          "Uganda",
          "Burkina Faso",
          "Niger",
          "Malawi",
          "Chad",
          "Zimbabwe",
          "Lesotho",
          "Angola",
          "Afghanistan",
          "Botswana",
          "Benin",
          "Madagascar",
          "Haiti",
          "Yemen",
          "South Sudan",
          "Liberia",
          "Guinea",
          "Togo",
          "Rwanda",
          "Syria",
          "Tanzania",
          "Burundi",
          "Central African Republic",
          "Finland",
          "Norway",
          "Denmark",
          "Iceland",
          "Switzerland",
          "Netherlands",
          "Canada",
          "New Zealand",
          "Sweden",
          "Australia",
          "United Kingdom",
          "Austria",
          "Costa Rica",
          "Ireland",
          "Germany",
          "Belgium",
          "Luxembourg",
          "United States",
          "Israel",
          "United Arab Emirates",
          "Czech Republic",
          "Malta",
          "France",
          "Mexico",
          "Chile",
          "Taiwan",
          "Panama",
          "Brazil",
          "Argentina",
          "Guatemala",
          "Uruguay",
          "Qatar",
          "Saudi Arabia",
          "Singapore",
          "Malaysia",
          "Spain",
          "Colombia",
          "Trinidad & Tobago",
          "Slovakia",
          "El Salvador",
          "Nicaragua",
          "Poland",
          "Bahrain",
          "Uzbekistan",
          "Kuwait",
          "Thailand",
          "Italy",
          "Ecuador",
          "Belize",
          "Lithuania",
          "Slovenia",
          "Romania",
          "Latvia",
          "Japan",
          "Mauritius",
          "Jamaica",
          "South Korea",
          "Northern Cyprus",
          "Russia",
          "Kazakhstan",
          "Cyprus",
          "Bolivia",
          "Estonia",
          "Paraguay",
          "Peru",
          "Kosovo",
          "Moldova",
          "Turkmenistan",
          "Hungary",
          "Libya",
          "Philippines",
          "Honduras",
          "Belarus",
          "Turkey",
          "Pakistan",
          "Hong Kong",
          "Portugal",
          "Serbia",
          "Greece",
          "Lebanon",
          "Montenegro",
          "Croatia",
          "Dominican Republic",
          "Algeria",
          "Morocco",
          "China",
          "Azerbaijan",
          "Tajikistan",
          "Macedonia",
          "Jordan",
          "Nigeria",
          "Kyrgyzstan",
          "Bosnia and Herzegovina",
          "Mongolia",
          "Vietnam",
          "Indonesia",
          "Bhutan",
          "Somalia",
          "Cameroon",
          "Bulgaria",
          "Nepal",
          "Venezuela",
          "Gabon",
          "Palestinian Territories",
          "South Africa",
          "Iran",
          "Ivory Coast",
          "Ghana",
          "Senegal",
          "Laos",
          "Tunisia",
          "Albania",
          "Sierra Leone",
          "Congo (Brazzaville)",
          "Bangladesh",
          "Sri Lanka",
          "Iraq",
          "Mali",
          "Namibia",
          "Cambodia",
          "Burkina Faso",
          "Egypt",
          "Mozambique",
          "Kenya",
          "Zambia",
          "Mauritania",
          "Ethiopia",
          "Georgia",
          "Armenia",
          "Myanmar",
          "Chad",
          "Congo (Kinshasa)",
          "India",
          "Niger",
          "Uganda",
          "Benin",
          "Sudan",
          "Ukraine",
          "Togo",
          "Guinea",
          "Lesotho",
          "Angola",
          "Madagascar",
          "Zimbabwe",
          "Afghanistan",
          "Botswana",
          "Malawi",
          "Haiti",
          "Liberia",
          "Syria",
          "Rwanda",
          "Yemen",
          "Tanzania",
          "South Sudan",
          "Central African Republic",
          "Burundi",
          "Finland",
          "Denmark",
          "Norway",
          "Iceland",
          "Netherlands",
          "Switzerland",
          "Sweden",
          "New Zealand",
          "Canada",
          "Austria",
          "Australia",
          "Costa Rica",
          "Israel",
          "Luxembourg",
          "United Kingdom",
          "Ireland",
          "Germany",
          "Belgium",
          "United States",
          "Czech Republic",
          "United Arab Emirates",
          "Malta",
          "Mexico",
          "France",
          "Taiwan",
          "Chile",
          "Guatemala",
          "Saudi Arabia",
          "Qatar",
          "Spain",
          "Panama",
          "Brazil",
          "Uruguay",
          "Singapore",
          "El Salvador",
          "Italy",
          "Bahrain",
          "Slovakia",
          "Trinidad & Tobago",
          "Poland",
          "Uzbekistan",
          "Lithuania",
          "Colombia",
          "Slovenia",
          "Nicaragua",
          "Kosovo",
          "Argentina",
          "Romania",
          "Cyprus",
          "Ecuador",
          "Kuwait",
          "Thailand",
          "Latvia",
          "South Korea",
          "Estonia",
          "Jamaica",
          "Mauritius",
          "Japan",
          "Honduras",
          "Kazakhstan",
          "Bolivia",
          "Hungary",
          "Paraguay",
          "Northern Cyprus",
          "Peru",
          "Portugal",
          "Pakistan",
          "Russia",
          "Philippines",
          "Serbia",
          "Moldova",
          "Libya",
          "Montenegro",
          "Tajikistan",
          "Croatia",
          "Hong Kong",
          "Dominican Republic",
          "Bosnia and Herzegovina",
          "Turkey",
          "Malaysia",
          "Belarus",
          "Greece",
          "Mongolia",
          "North Macedonia",
          "Nigeria",
          "Kyrgyzstan",
          "Turkmenistan",
          "Algeria",
          "Morocco",
          "Azerbaijan",
          "Lebanon",
          "Indonesia",
          "China",
          "Vietnam",
          "Bhutan",
          "Cameroon",
          "Bulgaria",
          "Ghana",
          "Ivory Coast",
          "Nepal",
          "Jordan",
          "Benin",
          "Congo (Brazzaville)",
          "Gabon",
          "Laos",
          "South Africa",
          "Albania",
          "Venezuela",
          "Cambodia",
          "Palestinian Territories",
          "Senegal",
          "Somalia",
          "Namibia",
          "Niger",
          "Burkina Faso",
          "Armenia",
          "Iran",
          "Guinea",
          "Georgia",
          "Gambia",
          "Kenya",
          "Mauritania",
          "Mozambique",
          "Tunisia",
          "Bangladesh",
          "Iraq",
          "Congo (Kinshasa)",
          "Mali",
          "Sierra Leone",
          "Sri Lanka",
          "Myanmar",
          "Chad",
          "Ukraine",
          "Ethiopia",
          "Swaziland",
          "Uganda",
          "Egypt",
          "Zambia",
          "Togo",
          "India",
          "Liberia",
          "Comoros",
          "Madagascar",
          "Lesotho",
          "Burundi",
          "Zimbabwe",
          "Haiti",
          "Botswana",
          "Syria",
          "Malawi",
          "Yemen",
          "Rwanda",
          "Tanzania",
          "Afghanistan",
          "Central African Republic",
          "South Sudan"
         ],
         "name": "",
         "type": "choropleth",
         "z": {
          "bdata": "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",
          "dtype": "f8"
         }
        }
       ],
       "layout": {
        "coloraxis": {
         "colorbar": {
          "title": {
           "text": "happiness_score"
          }
         },
         "colorscale": [
          [
           0,
           "rgb(255,255,217)"
          ],
          [
           0.125,
           "rgb(237,248,177)"
          ],
          [
           0.25,
           "rgb(199,233,180)"
          ],
          [
           0.375,
           "rgb(127,205,187)"
          ],
          [
           0.5,
           "rgb(65,182,196)"
          ],
          [
           0.625,
           "rgb(29,145,192)"
          ],
          [
           0.75,
           "rgb(34,94,168)"
          ],
          [
           0.875,
           "rgb(37,52,148)"
          ],
          [
           1,
           "rgb(8,29,88)"
          ]
         ]
        },
        "geo": {
         "center": {},
         "domain": {
          "x": [
           0,
           1
          ],
          "y": [
           0,
           1
          ]
         }
        },
        "legend": {
         "tracegroupgap": 0
        },
        "template": {
         "data": {
          "bar": [
           {
            "error_x": {
             "color": "#2a3f5f"
            },
            "error_y": {
             "color": "#2a3f5f"
            },
            "marker": {
             "line": {
              "color": "#E5ECF6",
              "width": 0.5
             },
             "pattern": {
              "fillmode": "overlay",
              "size": 10,
              "solidity": 0.2
             }
            },
            "type": "bar"
           }
          ],
          "barpolar": [
           {
            "marker": {
             "line": {
              "color": "#E5ECF6",
              "width": 0.5
             },
             "pattern": {
              "fillmode": "overlay",
              "size": 10,
              "solidity": 0.2
             }
            },
            "type": "barpolar"
           }
          ],
          "carpet": [
           {
            "aaxis": {
             "endlinecolor": "#2a3f5f",
             "gridcolor": "white",
             "linecolor": "white",
             "minorgridcolor": "white",
             "startlinecolor": "#2a3f5f"
            },
            "baxis": {
             "endlinecolor": "#2a3f5f",
             "gridcolor": "white",
             "linecolor": "white",
             "minorgridcolor": "white",
             "startlinecolor": "#2a3f5f"
            },
            "type": "carpet"
           }
          ],
          "choropleth": [
           {
            "colorbar": {
             "outlinewidth": 0,
             "ticks": ""
            },
            "type": "choropleth"
           }
          ],
          "contour": [
           {
            "colorbar": {
             "outlinewidth": 0,
             "ticks": ""
            },
            "colorscale": [
             [
              0,
              "#0d0887"
             ],
             [
              0.1111111111111111,
              "#46039f"
             ],
             [
              0.2222222222222222,
              "#7201a8"
             ],
             [
              0.3333333333333333,
              "#9c179e"
             ],
             [
              0.4444444444444444,
              "#bd3786"
             ],
             [
              0.5555555555555556,
              "#d8576b"
             ],
             [
              0.6666666666666666,
              "#ed7953"
             ],
             [
              0.7777777777777778,
              "#fb9f3a"
             ],
             [
              0.8888888888888888,
              "#fdca26"
             ],
             [
              1,
              "#f0f921"
             ]
            ],
            "type": "contour"
           }
          ],
          "contourcarpet": [
           {
            "colorbar": {
             "outlinewidth": 0,
             "ticks": ""
            },
            "type": "contourcarpet"
           }
          ],
          "heatmap": [
           {
            "colorbar": {
             "outlinewidth": 0,
             "ticks": ""
            },
            "colorscale": [
             [
              0,
              "#0d0887"
             ],
             [
              0.1111111111111111,
              "#46039f"
             ],
             [
              0.2222222222222222,
              "#7201a8"
             ],
             [
              0.3333333333333333,
              "#9c179e"
             ],
             [
              0.4444444444444444,
              "#bd3786"
             ],
             [
              0.5555555555555556,
              "#d8576b"
             ],
             [
              0.6666666666666666,
              "#ed7953"
             ],
             [
              0.7777777777777778,
              "#fb9f3a"
             ],
             [
              0.8888888888888888,
              "#fdca26"
             ],
             [
              1,
              "#f0f921"
             ]
            ],
            "type": "heatmap"
           }
          ],
          "histogram": [
           {
            "marker": {
             "pattern": {
              "fillmode": "overlay",
              "size": 10,
              "solidity": 0.2
             }
            },
            "type": "histogram"
           }
          ],
          "histogram2d": [
           {
            "colorbar": {
             "outlinewidth": 0,
             "ticks": ""
            },
            "colorscale": [
             [
              0,
              "#0d0887"
             ],
             [
              0.1111111111111111,
              "#46039f"
             ],
             [
              0.2222222222222222,
              "#7201a8"
             ],
             [
              0.3333333333333333,
              "#9c179e"
             ],
             [
              0.4444444444444444,
              "#bd3786"
             ],
             [
              0.5555555555555556,
              "#d8576b"
             ],
             [
              0.6666666666666666,
              "#ed7953"
             ],
             [
              0.7777777777777778,
              "#fb9f3a"
             ],
             [
              0.8888888888888888,
              "#fdca26"
             ],
             [
              1,
              "#f0f921"
             ]
            ],
            "type": "histogram2d"
           }
          ],
          "histogram2dcontour": [
           {
            "colorbar": {
             "outlinewidth": 0,
             "ticks": ""
            },
            "colorscale": [
             [
              0,
              "#0d0887"
             ],
             [
              0.1111111111111111,
              "#46039f"
             ],
             [
              0.2222222222222222,
              "#7201a8"
             ],
             [
              0.3333333333333333,
              "#9c179e"
             ],
             [
              0.4444444444444444,
              "#bd3786"
             ],
             [
              0.5555555555555556,
              "#d8576b"
             ],
             [
              0.6666666666666666,
              "#ed7953"
             ],
             [
              0.7777777777777778,
              "#fb9f3a"
             ],
             [
              0.8888888888888888,
              "#fdca26"
             ],
             [
              1,
              "#f0f921"
             ]
            ],
            "type": "histogram2dcontour"
           }
          ],
          "mesh3d": [
           {
            "colorbar": {
             "outlinewidth": 0,
             "ticks": ""
            },
            "type": "mesh3d"
           }
          ],
          "parcoords": [
           {
            "line": {
             "colorbar": {
              "outlinewidth": 0,
              "ticks": ""
             }
            },
            "type": "parcoords"
           }
          ],
          "pie": [
           {
            "automargin": true,
            "type": "pie"
           }
          ],
          "scatter": [
           {
            "fillpattern": {
             "fillmode": "overlay",
             "size": 10,
             "solidity": 0.2
            },
            "type": "scatter"
           }
          ],
          "scatter3d": [
           {
            "line": {
             "colorbar": {
              "outlinewidth": 0,
              "ticks": ""
             }
            },
            "marker": {
             "colorbar": {
              "outlinewidth": 0,
              "ticks": ""
             }
            },
            "type": "scatter3d"
           }
          ],
          "scattercarpet": [
           {
            "marker": {
             "colorbar": {
              "outlinewidth": 0,
              "ticks": ""
             }
            },
            "type": "scattercarpet"
           }
          ],
          "scattergeo": [
           {
            "marker": {
             "colorbar": {
              "outlinewidth": 0,
              "ticks": ""
             }
            },
            "type": "scattergeo"
           }
          ],
          "scattergl": [
           {
            "marker": {
             "colorbar": {
              "outlinewidth": 0,
              "ticks": ""
             }
            },
            "type": "scattergl"
           }
          ],
          "scattermap": [
           {
            "marker": {
             "colorbar": {
              "outlinewidth": 0,
              "ticks": ""
             }
            },
            "type": "scattermap"
           }
          ],
          "scattermapbox": [
           {
            "marker": {
             "colorbar": {
              "outlinewidth": 0,
              "ticks": ""
             }
            },
            "type": "scattermapbox"
           }
          ],
          "scatterpolar": [
           {
            "marker": {
             "colorbar": {
              "outlinewidth": 0,
              "ticks": ""
             }
            },
            "type": "scatterpolar"
           }
          ],
          "scatterpolargl": [
           {
            "marker": {
             "colorbar": {
              "outlinewidth": 0,
              "ticks": ""
             }
            },
            "type": "scatterpolargl"
           }
          ],
          "scatterternary": [
           {
            "marker": {
             "colorbar": {
              "outlinewidth": 0,
              "ticks": ""
             }
            },
            "type": "scatterternary"
           }
          ],
          "surface": [
           {
            "colorbar": {
             "outlinewidth": 0,
             "ticks": ""
            },
            "colorscale": [
             [
              0,
              "#0d0887"
             ],
             [
              0.1111111111111111,
              "#46039f"
             ],
             [
              0.2222222222222222,
              "#7201a8"
             ],
             [
              0.3333333333333333,
              "#9c179e"
             ],
             [
              0.4444444444444444,
              "#bd3786"
             ],
             [
              0.5555555555555556,
              "#d8576b"
             ],
             [
              0.6666666666666666,
              "#ed7953"
             ],
             [
              0.7777777777777778,
              "#fb9f3a"
             ],
             [
              0.8888888888888888,
              "#fdca26"
             ],
             [
              1,
              "#f0f921"
             ]
            ],
            "type": "surface"
           }
          ],
          "table": [
           {
            "cells": {
             "fill": {
              "color": "#EBF0F8"
             },
             "line": {
              "color": "white"
             }
            },
            "header": {
             "fill": {
              "color": "#C8D4E3"
             },
             "line": {
              "color": "white"
             }
            },
            "type": "table"
           }
          ]
         },
         "layout": {
          "annotationdefaults": {
           "arrowcolor": "#2a3f5f",
           "arrowhead": 0,
           "arrowwidth": 1
          },
          "autotypenumbers": "strict",
          "coloraxis": {
           "colorbar": {
            "outlinewidth": 0,
            "ticks": ""
           }
          },
          "colorscale": {
           "diverging": [
            [
             0,
             "#8e0152"
            ],
            [
             0.1,
             "#c51b7d"
            ],
            [
             0.2,
             "#de77ae"
            ],
            [
             0.3,
             "#f1b6da"
            ],
            [
             0.4,
             "#fde0ef"
            ],
            [
             0.5,
             "#f7f7f7"
            ],
            [
             0.6,
             "#e6f5d0"
            ],
            [
             0.7,
             "#b8e186"
            ],
            [
             0.8,
             "#7fbc41"
            ],
            [
             0.9,
             "#4d9221"
            ],
            [
             1,
             "#276419"
            ]
           ],
           "sequential": [
            [
             0,
             "#0d0887"
            ],
            [
             0.1111111111111111,
             "#46039f"
            ],
            [
             0.2222222222222222,
             "#7201a8"
            ],
            [
             0.3333333333333333,
             "#9c179e"
            ],
            [
             0.4444444444444444,
             "#bd3786"
            ],
            [
             0.5555555555555556,
             "#d8576b"
            ],
            [
             0.6666666666666666,
             "#ed7953"
            ],
            [
             0.7777777777777778,
             "#fb9f3a"
            ],
            [
             0.8888888888888888,
             "#fdca26"
            ],
            [
             1,
             "#f0f921"
            ]
           ],
           "sequentialminus": [
            [
             0,
             "#0d0887"
            ],
            [
             0.1111111111111111,
             "#46039f"
            ],
            [
             0.2222222222222222,
             "#7201a8"
            ],
            [
             0.3333333333333333,
             "#9c179e"
            ],
            [
             0.4444444444444444,
             "#bd3786"
            ],
            [
             0.5555555555555556,
             "#d8576b"
            ],
            [
             0.6666666666666666,
             "#ed7953"
            ],
            [
             0.7777777777777778,
             "#fb9f3a"
            ],
            [
             0.8888888888888888,
             "#fdca26"
            ],
            [
             1,
             "#f0f921"
            ]
           ]
          },
          "colorway": [
           "#636efa",
           "#EF553B",
           "#00cc96",
           "#ab63fa",
           "#FFA15A",
           "#19d3f3",
           "#FF6692",
           "#B6E880",
           "#FF97FF",
           "#FECB52"
          ],
          "font": {
           "color": "#2a3f5f"
          },
          "geo": {
           "bgcolor": "white",
           "lakecolor": "white",
           "landcolor": "#E5ECF6",
           "showlakes": true,
           "showland": true,
           "subunitcolor": "white"
          },
          "hoverlabel": {
           "align": "left"
          },
          "hovermode": "closest",
          "mapbox": {
           "style": "light"
          },
          "paper_bgcolor": "white",
          "plot_bgcolor": "#E5ECF6",
          "polar": {
           "angularaxis": {
            "gridcolor": "white",
            "linecolor": "white",
            "ticks": ""
           },
           "bgcolor": "#E5ECF6",
           "radialaxis": {
            "gridcolor": "white",
            "linecolor": "white",
            "ticks": ""
           }
          },
          "scene": {
           "xaxis": {
            "backgroundcolor": "#E5ECF6",
            "gridcolor": "white",
            "gridwidth": 2,
            "linecolor": "white",
            "showbackground": true,
            "ticks": "",
            "zerolinecolor": "white"
           },
           "yaxis": {
            "backgroundcolor": "#E5ECF6",
            "gridcolor": "white",
            "gridwidth": 2,
            "linecolor": "white",
            "showbackground": true,
            "ticks": "",
            "zerolinecolor": "white"
           },
           "zaxis": {
            "backgroundcolor": "#E5ECF6",
            "gridcolor": "white",
            "gridwidth": 2,
            "linecolor": "white",
            "showbackground": true,
            "ticks": "",
            "zerolinecolor": "white"
           }
          },
          "shapedefaults": {
           "line": {
            "color": "#2a3f5f"
           }
          },
          "ternary": {
           "aaxis": {
            "gridcolor": "white",
            "linecolor": "white",
            "ticks": ""
           },
           "baxis": {
            "gridcolor": "white",
            "linecolor": "white",
            "ticks": ""
           },
           "bgcolor": "#E5ECF6",
           "caxis": {
            "gridcolor": "white",
            "linecolor": "white",
            "ticks": ""
           }
          },
          "title": {
           "x": 0.05
          },
          "xaxis": {
           "automargin": true,
           "gridcolor": "white",
           "linecolor": "white",
           "ticks": "",
           "title": {
            "standoff": 15
           },
           "zerolinecolor": "white",
           "zerolinewidth": 2
          },
          "yaxis": {
           "automargin": true,
           "gridcolor": "white",
           "linecolor": "white",
           "ticks": "",
           "title": {
            "standoff": 15
           },
           "zerolinecolor": "white",
           "zerolinewidth": 2
          }
         }
        },
        "title": {
         "text": "Happiness Score per Country"
        }
       }
      }
     },
     "metadata": {},
     "output_type": "display_data"
    }
   ],
   "source": [
    "fig = px.choropleth(df, \n",
    "                    locations=\"country\", \n",
    "                    locationmode=\"country names\", \n",
    "                    color=\"happiness_score\", \n",
    "                    hover_name=\"country\", \n",
    "                    color_continuous_scale=\"YlGnBu\", \n",
    "                    title=\"Happiness Score per Country\")\n",
    "\n",
    "fig.show()"
   ]
  },
  {
   "cell_type": "markdown",
   "id": "3285a02f",
   "metadata": {},
   "source": [
    "## Distribución de puntuaciones\n",
    "Este conjunto de gráficos muestra la distribución de diversas variables que influyen en el happiness_score. A continuación, algunas conclusiones clave:\n",
    "\n",
    "Economy (GDP per Capita): La mayoría de los países presenta valores alrededor de 1,0, llegando algunos hasta 2,0. Esto sugiere que en muchos lugares la población percibe su situación económica como relativamente buena.\n",
    "\n",
    "Health (Life Expectancy): La distribución se centra entre 0,7 y 1,0, lo que indica que la mayor parte de la gente disfruta de buena salud, aunque existe variación significativa entre países.\n",
    "\n",
    "Social Support: La mayoría de los valores se concentra entre 1,0 y 1,5, es decir, en general las personas sienten que cuentan con un buen nivel de apoyo social.\n",
    "\n",
    "Freedom: Aunque la mayoría de los valores está por debajo de 0,6, hay una variación considerable, lo que indica que las percepciones de libertad difieren ampliamente según el país.\n",
    "\n",
    "Perceptions of Corruption: Los valores son bajos, principalmente por debajo de 0,3, lo que refleja que en la mayoría de los países existe una percepción negativa sobre la corrupción.\n",
    "\n",
    "Generosity: Los valores de generosidad se sitúan mayoritariamente entre 0,2 y 0,3, lo que sugiere que, en promedio, la población no percibe un alto nivel de generosidad en la sociedad.\n",
    "\n",
    "Happiness Score: Las puntuaciones de felicidad se concentran entre 4 y 6, lo que implica que la mayoría de los países tiene un nivel medio de felicidad, con pocos casos en los extremos (muy bajos o muy altos)."
   ]
  },
  {
   "cell_type": "code",
   "execution_count": 39,
   "id": "4f7cb192",
   "metadata": {},
   "outputs": [
    {
     "data": {
      "image/png": "[encoded data removed]",
      "text/plain": [
       "<Figure size 1000x800 with 9 Axes>"
      ]
     },
     "metadata": {},
     "output_type": "display_data"
    }
   ],
   "source": [
    "hist_graph = df.drop(columns=[\"happiness_rank\", \"year\"]).copy()\n",
    "\n",
    "hist_graph.hist(figsize=(10, 8), bins=20)\n",
    "plt.show()"
   ]
  },
  {
   "cell_type": "markdown",
   "id": "52fb6d10",
   "metadata": {},
   "source": [
    "## Los países y continentes más felices\n",
    "\n",
    "Este conjunto de gráficos muestra los 10 principales países y los 10 principales continentes ordenados por su puntuación media de felicidad.\n",
    "\n",
    "Gráfico 1: Top 10 Países según la puntuación media de felicidad\n",
    "\n",
    "Los países con las puntuaciones de felicidad más altas son en su mayoría naciones europeas, lideradas por Dinamarca, Noruega, Finlandia y Suiza, todas con puntuaciones superiores a 7.\n",
    "\n",
    "Canadá, Nueva Zelanda y Australia también aparecen en la clasificación, lo que indica que estas naciones no europeas mantienen niveles de felicidad similares.\n",
    "\n",
    "La pequeña variación entre las puntuaciones sugiere que estos países comparten niveles de felicidad relativamente parecidos.\n",
    "\n",
    "Gráfico 2: Top 10 Continentes según la puntuación media de felicidad\n",
    "\n",
    "Oceanía encabeza la lista con la puntuación media de felicidad más alta, seguida de cerca por América del Norte y Europa.\n",
    "\n",
    "América del Sur y América Central también presentan puntuaciones relativamente elevadas, aunque ligeramente por debajo de los líderes.\n",
    "\n",
    "Asia muestra una puntuación media inferior, y África registra la más baja, confirmando que los países africanos, en promedio, presentan niveles de felicidad menores que el resto de regiones."
   ]
  },
  {
   "cell_type": "code",
   "execution_count": 40,
   "id": "bbae5e16",
   "metadata": {},
   "outputs": [
    {
     "data": {
      "image/png": "[encoded data removed]",
      "text/plain": [
       "<Figure size 1500x600 with 2 Axes>"
      ]
     },
     "metadata": {},
     "output_type": "display_data"
    }
   ],
   "source": [
    "avg_happiness_by_country = df.groupby(\"country\")[\"happiness_score\"].mean().sort_values(ascending=False).head(10)\n",
    "avg_happiness_by_continent = df.groupby(\"continent\")[\"happiness_score\"].mean().sort_values(ascending=False).head(10)\n",
    "\n",
    "fig, axes = plt.subplots(1, 2, figsize=(15, 6))\n",
    "\n",
    "avg_happiness_by_country.plot(kind=\"bar\", ax=axes[0], color=\"skyblue\")\n",
    "axes[0].set_title(\"Top 10 Countries by Average Happiness Score\")\n",
    "axes[0].set_xlabel(\"Country\")\n",
    "axes[0].set_ylabel(\"Average Happiness Score\")\n",
    "\n",
    "avg_happiness_by_continent.plot(kind=\"bar\", ax=axes[1], color=\"lightgreen\")\n",
    "axes[1].set_title(\"Top 10 Continents by Average Happiness Score\")\n",
    "axes[1].set_xlabel(\"Continent\")\n",
    "axes[1].set_ylabel(\"Average Happiness Score\")\n",
    "\n",
    "plt.tight_layout()\n",
    "plt.show()"
   ]
  },
  {
   "cell_type": "markdown",
   "id": "67d9e55a",
   "metadata": {},
   "source": [
    "## Matriz de correlación\n",
    "La matriz de correlación proporciona información valiosa sobre las relaciones entre las diversas características que contribuyen al happiness_score y su impacto en la clasificación de la felicidad. A continuación, los puntos clave relevantes para la construcción de un futuro modelo de machine learning:\n",
    "\n",
    "Economy (GDP per Capita) y happiness_score: Existe una fuerte correlación positiva (0.79) entre la economía y el happiness_score, lo que indica que mejores condiciones económicas están estrechamente ligadas a niveles más altos de felicidad. Esta característica probablemente sea importante para la predicción.\n",
    "\n",
    "Health y happiness_score: Health muestra una correlación positiva alta (0.74) con el happiness_score, sugiriendo que el estado de salud juega un papel crucial en la determinación de la felicidad general. Será también un predictor clave en el modelo.\n",
    "\n",
    "Social Support y happiness_score: Con una correlación positiva significativa (0.65), Social Support es otro factor importante, indicando que los países con mejores redes sociales tienden a tener mayores niveles de felicidad. Incluir esta característica debería mejorar la precisión del modelo.\n",
    "\n",
    "Freedom y happiness_score: Freedom presenta una correlación positiva moderada (0.55), lo que significa que una mayor percepción de libertad se asocia con una mayor felicidad. Aunque importante, esta característica podría tener menos peso en comparación con Economy y Health.\n",
    "\n",
    "Perceptions of Corruption y happiness_score: Aunque no tan fuerte como otras variables, Perceptions of Corruption muestra una correlación positiva (0.40) con la felicidad, sugiriendo que una menor percepción de corrupción está vinculada a una mayor felicidad. Esta característica puede tener cierto poder predictivo, pero probablemente con menor influencia.\n",
    "\n",
    "Generosity y happiness_score: Interesantemente, Generosity tiene una correlación muy baja (0.14) con la felicidad, lo que implica un impacto limitado en la predicción de los happiness_score. Esta característica podría ser menos relevante para el modelo.\n",
    "\n",
    "Happiness Rank y happiness_score: Como era de esperar, existe una fuerte correlación negativa (–0.99) entre el Happiness Rank y el happiness_score, reflejando la relación inversa: puntuaciones de felicidad más altas corresponden a mejores rangos.\n",
    "\n",
    "Dado estos insights, un modelo futuro podría priorizar los predictores más fuertes —Economy, Health y Social Support— mientras que variables como Generosity se releguen a un segundo plano. El modelo podría centrarse en predecir el happiness_score basándose en estas características clave, mejorando así su rendimiento predictivo global."
   ]
  },
  {
   "cell_type": "code",
   "execution_count": 2,
   "id": "e53ba7be",
   "metadata": {},
   "outputs": [
    {
     "ename": "NameError",
     "evalue": "name 'df' is not defined",
     "output_type": "error",
     "traceback": [
      "\u001b[31m---------------------------------------------------------------------------\u001b[39m",
      "\u001b[31mNameError\u001b[39m                                 Traceback (most recent call last)",
      "\u001b[36mCell\u001b[39m\u001b[36m \u001b[39m\u001b[32mIn[2]\u001b[39m\u001b[32m, line 1\u001b[39m\n\u001b[32m----> \u001b[39m\u001b[32m1\u001b[39m correlation_df = \u001b[43mdf\u001b[49m.drop([\u001b[33m\"\u001b[39m\u001b[33mcountry\u001b[39m\u001b[33m\"\u001b[39m, \u001b[33m\"\u001b[39m\u001b[33mcontinent\u001b[39m\u001b[33m\"\u001b[39m], axis=\u001b[32m1\u001b[39m)\n\u001b[32m      3\u001b[39m correlation_matrix = correlation_df.corr()\n\u001b[32m      5\u001b[39m plt.figure(figsize=(\u001b[32m10\u001b[39m, \u001b[32m8\u001b[39m))\n",
      "\u001b[31mNameError\u001b[39m: name 'df' is not defined"
     ]
    }
   ],
   "source": [
    "correlation_df = df.drop([\"country\", \"continent\"], axis=1)\n",
    "\n",
    "correlation_matrix = correlation_df.corr()\n",
    "\n",
    "plt.figure(figsize=(10, 8))\n",
    "sns.heatmap(correlation_matrix, annot=True, cmap=\"twilight_shifted\", fmt=\".2f\")\n",
    "plt.title(\"Correlation Matrix - Features\")\n",
    "plt.show()"
   ]
  },
  {
   "cell_type": "markdown",
   "id": "621f4a81",
   "metadata": {},
   "source": [
    "guardamos esta informacion en un arcivho csv llamado happiness_report.csv para perseverancia de la informacion"
   ]
  },
  {
   "cell_type": "code",
   "execution_count": null,
   "id": "5c4162cd",
   "metadata": {},
   "outputs": [],
   "source": [
    "df.to_csv(\"../Data/happiness_report.csv\", index=False)"
   ]
  },
  {
   "cell_type": "markdown",
   "id": "8619badd",
   "metadata": {},
   "source": [
    "ahora damos por finalizado el Eda y empezamos con el entrenamiento de modelos"
   ]
  },
  {
   "cell_type": "markdown",
   "id": "dff460c7",
   "metadata": {},
   "source": [
    "# Entrenamiento de modelos"
   ]
  },
  {
   "cell_type": "markdown",
   "id": "92010d96",
   "metadata": {},
   "source": [
    "lo primero es ahora cargar las libreias que vamos a usar para este apartado ya que esto es un apartado diferente al eda y no es necesario cargar todas las librerias que usamos para el eda a excepcion de pandas que la volvemos a cargar ya que para este apartado es necesario"
   ]
  },
  {
   "cell_type": "code",
   "execution_count": 27,
   "id": "774faae6",
   "metadata": {},
   "outputs": [],
   "source": [
    "from sklearn.model_selection import train_test_split\n",
    "from sklearn.linear_model import LinearRegression\n",
    "from sklearn.ensemble import RandomForestRegressor, GradientBoostingRegressor\n",
    "\n",
    "from sklearn.metrics import mean_squared_error, r2_score\n",
    "import joblib\n",
    "import pandas as pd\n",
    "\n",
    "import os\n",
    "from dotenv import load_dotenv\n",
    "from sqlalchemy import create_engine\n",
    "from sqlalchemy_utils import database_exists, create_database"
   ]
  },
  {
   "cell_type": "markdown",
   "id": "aff3d21f",
   "metadata": {},
   "source": [
    "Para darle un uso al archivo creado con anterioridad vamos a cargarlo y tomar los datos desde ahi"
   ]
  },
  {
   "cell_type": "code",
   "execution_count": 7,
   "id": "ed0c40c9",
   "metadata": {},
   "outputs": [
    {
     "data": {
      "text/html": [
       "<div>\n",
       "<style scoped>\n",
       "    .dataframe tbody tr th:only-of-type {\n",
       "        vertical-align: middle;\n",
       "    }\n",
       "\n",
       "    .dataframe tbody tr th {\n",
       "        vertical-align: top;\n",
       "    }\n",
       "\n",
       "    .dataframe thead th {\n",
       "        text-align: right;\n",
       "    }\n",
       "</style>\n",
       "<table border=\"1\" class=\"dataframe\">\n",
       "  <thead>\n",
       "    <tr style=\"text-align: right;\">\n",
       "      <th></th>\n",
       "      <th>country</th>\n",
       "      <th>continent</th>\n",
       "      <th>year</th>\n",
       "      <th>economy</th>\n",
       "      <th>health</th>\n",
       "      <th>social_support</th>\n",
       "      <th>freedom</th>\n",
       "      <th>corruption_perception</th>\n",
       "      <th>generosity</th>\n",
       "      <th>happiness_rank</th>\n",
       "      <th>happiness_score</th>\n",
       "    </tr>\n",
       "  </thead>\n",
       "  <tbody>\n",
       "    <tr>\n",
       "      <th>0</th>\n",
       "      <td>Switzerland</td>\n",
       "      <td>Europe</td>\n",
       "      <td>2015</td>\n",
       "      <td>1.39651</td>\n",
       "      <td>0.94143</td>\n",
       "      <td>1.34951</td>\n",
       "      <td>0.66557</td>\n",
       "      <td>0.41978</td>\n",
       "      <td>0.29678</td>\n",
       "      <td>1</td>\n",
       "      <td>7.587</td>\n",
       "    </tr>\n",
       "    <tr>\n",
       "      <th>1</th>\n",
       "      <td>Iceland</td>\n",
       "      <td>Europe</td>\n",
       "      <td>2015</td>\n",
       "      <td>1.30232</td>\n",
       "      <td>0.94784</td>\n",
       "      <td>1.40223</td>\n",
       "      <td>0.62877</td>\n",
       "      <td>0.14145</td>\n",
       "      <td>0.43630</td>\n",
       "      <td>2</td>\n",
       "      <td>7.561</td>\n",
       "    </tr>\n",
       "    <tr>\n",
       "      <th>2</th>\n",
       "      <td>Denmark</td>\n",
       "      <td>Europe</td>\n",
       "      <td>2015</td>\n",
       "      <td>1.32548</td>\n",
       "      <td>0.87464</td>\n",
       "      <td>1.36058</td>\n",
       "      <td>0.64938</td>\n",
       "      <td>0.48357</td>\n",
       "      <td>0.34139</td>\n",
       "      <td>3</td>\n",
       "      <td>7.527</td>\n",
       "    </tr>\n",
       "    <tr>\n",
       "      <th>3</th>\n",
       "      <td>Norway</td>\n",
       "      <td>Europe</td>\n",
       "      <td>2015</td>\n",
       "      <td>1.45900</td>\n",
       "      <td>0.88521</td>\n",
       "      <td>1.33095</td>\n",
       "      <td>0.66973</td>\n",
       "      <td>0.36503</td>\n",
       "      <td>0.34699</td>\n",
       "      <td>4</td>\n",
       "      <td>7.522</td>\n",
       "    </tr>\n",
       "    <tr>\n",
       "      <th>4</th>\n",
       "      <td>Canada</td>\n",
       "      <td>North America</td>\n",
       "      <td>2015</td>\n",
       "      <td>1.32629</td>\n",
       "      <td>0.90563</td>\n",
       "      <td>1.32261</td>\n",
       "      <td>0.63297</td>\n",
       "      <td>0.32957</td>\n",
       "      <td>0.45811</td>\n",
       "      <td>5</td>\n",
       "      <td>7.427</td>\n",
       "    </tr>\n",
       "  </tbody>\n",
       "</table>\n",
       "</div>"
      ],
      "text/plain": [
       "       country      continent  year  economy   health  social_support  \\\n",
       "0  Switzerland         Europe  2015  1.39651  0.94143         1.34951   \n",
       "1      Iceland         Europe  2015  1.30232  0.94784         1.40223   \n",
       "2      Denmark         Europe  2015  1.32548  0.87464         1.36058   \n",
       "3       Norway         Europe  2015  1.45900  0.88521         1.33095   \n",
       "4       Canada  North America  2015  1.32629  0.90563         1.32261   \n",
       "\n",
       "   freedom  corruption_perception  generosity  happiness_rank  happiness_score  \n",
       "0  0.66557                0.41978     0.29678               1            7.587  \n",
       "1  0.62877                0.14145     0.43630               2            7.561  \n",
       "2  0.64938                0.48357     0.34139               3            7.527  \n",
       "3  0.66973                0.36503     0.34699               4            7.522  \n",
       "4  0.63297                0.32957     0.45811               5            7.427  "
      ]
     },
     "execution_count": 7,
     "metadata": {},
     "output_type": "execute_result"
    }
   ],
   "source": [
    "df = pd.read_csv(\"../Data/happiness_report.csv\")\n",
    "df.head()"
   ]
  },
  {
   "cell_type": "markdown",
   "id": "0d784568",
   "metadata": {},
   "source": [
    "## Preprocesamiento de datos y división\n",
    "En esta sección, realizamos el preprocesamiento de los datos y dividimos el conjunto en conjuntos de entrenamiento y prueba utilizando las funciones creating_dummy_variables y train_test_split."
   ]
  },
  {
   "cell_type": "markdown",
   "id": "a8bf1981",
   "metadata": {},
   "source": [
    "Obteniendo valores dummy para columnas categóricas\n",
    "Primero, convertimos la columna continent en variables dummy. Este proceso es muy necesario, ya que el modelo no podría observar las tendencias de esta variable si fuera una columna compuesta de texto (categorías); es necesario traducir esta categorización a un formato numérico."
   ]
  },
  {
   "cell_type": "code",
   "execution_count": 8,
   "id": "43ddda20",
   "metadata": {},
   "outputs": [],
   "source": [
    "def creating_dummy_variables(df):\n",
    "    df = pd.get_dummies(df, columns=[\"continent\"])\n",
    "    \n",
    "    columns_rename = {\n",
    "        \"continent_North America\": \"continent_North_America\",\n",
    "        \"continent_Central America\": \"continent_Central_America\",\n",
    "        \"continent_South America\": \"continent_South_America\"\n",
    "    }\n",
    "\n",
    "    df = df.rename(columns=columns_rename)\n",
    "    \n",
    "    return df"
   ]
  },
  {
   "cell_type": "code",
   "execution_count": 9,
   "id": "df7cc55d",
   "metadata": {},
   "outputs": [],
   "source": [
    "df = creating_dummy_variables(df)\n"
   ]
  },
  {
   "cell_type": "markdown",
   "id": "072c3c8e",
   "metadata": {},
   "source": [
    "## División de datos\n",
    "Ahora, dividimos los datos en conjuntos de entrenamiento y prueba utilizando la función train_test_split de sklearn. Primero, necesitamos eliminar ciertas columnas que no beneficiarían a nuestro modelo, las cuales son:\n",
    "\n",
    "happiness_score ➜ Esta es la variable objetivo.\n",
    "\n",
    "happiness_rank ➜ Tiene una correlación inversa con la variable objetivo; incluirla solo confundiría al modelo.\n",
    "\n",
    "country ➜ La gran cantidad de datos categóricos que contiene haría que el proceso de entrenamiento fuera demasiado pesado."
   ]
  },
  {
   "cell_type": "code",
   "execution_count": 10,
   "id": "cbf217eb",
   "metadata": {},
   "outputs": [],
   "source": [
    "X = df.drop([\"happiness_score\", \"happiness_rank\", \"country\"], axis = 1)\n",
    "y = df[\"happiness_score\"]"
   ]
  },
  {
   "cell_type": "code",
   "execution_count": 11,
   "id": "9966d618",
   "metadata": {},
   "outputs": [],
   "source": [
    "X_train, X_test, y_train, y_test = train_test_split(X, y, test_size=0.3, random_state=200)"
   ]
  },
  {
   "cell_type": "code",
   "execution_count": 12,
   "id": "bd6a4148",
   "metadata": {},
   "outputs": [
    {
     "name": "stdout",
     "output_type": "stream",
     "text": [
      "Train data shape:  (547, 14)\n",
      "Test data shape:  (235, 14)\n"
     ]
    }
   ],
   "source": [
    "print(\"Train data shape: \", X_train.shape)\n",
    "print(\"Test data shape: \", X_test.shape)"
   ]
  },
  {
   "cell_type": "code",
   "execution_count": 13,
   "id": "4a61d46d",
   "metadata": {},
   "outputs": [
    {
     "data": {
      "text/plain": [
       "Index(['year', 'economy', 'health', 'social_support', 'freedom',\n",
       "       'corruption_perception', 'generosity', 'continent_Africa',\n",
       "       'continent_Asia', 'continent_Central_America', 'continent_Europe',\n",
       "       'continent_North_America', 'continent_Oceania',\n",
       "       'continent_South_America'],\n",
       "      dtype='object')"
      ]
     },
     "execution_count": 13,
     "metadata": {},
     "output_type": "execute_result"
    }
   ],
   "source": [
    "X_test.columns"
   ]
  },
  {
   "cell_type": "markdown",
   "id": "b5e80b29",
   "metadata": {},
   "source": [
    "Ahora vamos a guardar la informacion de x_test y x_train en una base de datos en postgres para despues usarlo"
   ]
  },
  {
   "cell_type": "code",
   "execution_count": 28,
   "id": "67a1b13b",
   "metadata": {},
   "outputs": [],
   "source": [
    "load_dotenv()  \n",
    "PG_HOST     = os.getenv(\"PG_HOST\")\n",
    "PG_PORT     = os.getenv(\"PG_PORT\")\n",
    "PG_USER     = os.getenv(\"PG_USER\")\n",
    "PG_PASSWORD = os.getenv(\"PG_PASSWORD\")\n",
    "PG_DATABASE = os.getenv(\"PG_DATABASE\")"
   ]
  },
  {
   "cell_type": "code",
   "execution_count": 29,
   "id": "cd7a8a63",
   "metadata": {},
   "outputs": [],
   "source": [
    "db_name = PG_DATABASE.lower()"
   ]
  },
  {
   "cell_type": "code",
   "execution_count": 30,
   "id": "1e6573dc",
   "metadata": {},
   "outputs": [],
   "source": [
    "url = (\n",
    "    f\"postgresql+psycopg2://\"\n",
    "    f\"{PG_USER}:{PG_PASSWORD}@{PG_HOST}:{PG_PORT}/{db_name}\"\n",
    ")"
   ]
  },
  {
   "cell_type": "code",
   "execution_count": 31,
   "id": "2468b3af",
   "metadata": {},
   "outputs": [],
   "source": [
    "if not database_exists(url):\n",
    "    create_database(url)\n",
    "    print(f\"> Base de datos '{db_name}' creada.\")"
   ]
  },
  {
   "cell_type": "code",
   "execution_count": 32,
   "id": "8562e7c8",
   "metadata": {},
   "outputs": [],
   "source": [
    "engine = create_engine(url)\n"
   ]
  },
  {
   "cell_type": "code",
   "execution_count": 33,
   "id": "9e8f9fa1",
   "metadata": {},
   "outputs": [],
   "source": [
    "train_df = pd.concat([\n",
    "    pd.DataFrame(X_train, columns=X.columns),\n",
    "    pd.DataFrame(y_train, columns=[\"happiness_score\"])\n",
    "], axis=1)\n",
    "\n",
    "test_df = pd.concat([\n",
    "    pd.DataFrame(X_test, columns=X.columns),\n",
    "    pd.DataFrame(y_test, columns=[\"happiness_score\"])\n",
    "], axis=1)"
   ]
  },
  {
   "cell_type": "code",
   "execution_count": 34,
   "id": "b69c98a6",
   "metadata": {},
   "outputs": [
    {
     "name": "stdout",
     "output_type": "stream",
     "text": [
      "> Tablas 'train_data' y 'test_data' creadas y pobladas.\n"
     ]
    }
   ],
   "source": [
    "train_df.to_sql(\n",
    "    \"train_data\",\n",
    "    con=engine,\n",
    "    if_exists=\"replace\",  # reemplaza si ya existía\n",
    "    index=False\n",
    ")\n",
    "test_df.to_sql(\n",
    "    \"test_data\",\n",
    "    con=engine,\n",
    "    if_exists=\"replace\",\n",
    "    index=False\n",
    ")\n",
    "\n",
    "print(\"> Tablas 'train_data' y 'test_data' creadas y pobladas.\")"
   ]
  },
  {
   "cell_type": "markdown",
   "id": "1cb54f03",
   "metadata": {},
   "source": [
    "# Selección y entrenamiento de modelos\n",
    "En esta sección, evaluamos tres modelos de regresión diferentes para predecir las puntuaciones de felicidad de los países a partir de las variables socioeconómicas y continentales disponibles. Cada modelo ofrece ventajas y enfoques distintos para abordar nuestro problema de predicción.\n",
    "\n",
    "#### Regresión Lineal\n",
    "Comenzamos con un modelo de regresión lineal simple, que asume una relación lineal entre las variables independientes y la variable objetivo.\n",
    "\n",
    "Resultados:\n",
    "\n",
    "Error cuadrático medio (MSE): 0.2109\n",
    "\n",
    "Coeficiente de determinación (R²): 0.8333\n",
    "\n",
    "El modelo de regresión lineal explica aproximadamente el 83 % de la varianza en las puntuaciones de felicidad, lo que indica un buen ajuste. Sin embargo, aún hay margen de mejora."
   ]
  },
  {
   "cell_type": "code",
   "execution_count": 11,
   "id": "023355e0",
   "metadata": {},
   "outputs": [
    {
     "name": "stdout",
     "output_type": "stream",
     "text": [
      "Mean Squared Error for Linear Regression:  0.2108739698079396\n",
      "R2 Score for Linear Regression:  0.8332893378421592\n"
     ]
    }
   ],
   "source": [
    "lr_model = LinearRegression()\n",
    "lr_model.fit(X_train, y_train)\n",
    "\n",
    "y_pred_lf = lr_model.predict(X_test)\n",
    "\n",
    "mse_lr = mean_squared_error(y_test, y_pred_lf)\n",
    "r2_lr = r2_score(y_test, y_pred_lf)\n",
    "\n",
    "print(\"Mean Squared Error for Linear Regression: \", mse_lr)\n",
    "print(\"R2 Score for Linear Regression: \", r2_lr)"
   ]
  },
  {
   "cell_type": "markdown",
   "id": "ee6820eb",
   "metadata": {},
   "source": [
    "### Random Forest Regressor\n",
    "A continuación, empleamos un Random Forest Regressor, que es un modelo en ensamblaje que construye múltiples árboles de decisión y los combina para obtener predicciones más precisas y estables.\n",
    "\n",
    "Resultados:\n",
    "\n",
    "Error cuadrático medio (MSE): 0.1700\n",
    "\n",
    "Coeficiente de determinación (R²): 0.8656\n",
    "\n",
    "El modelo Random Forest logra un MSE más bajo y un R² más alto en comparación con la regresión lineal, explicando aproximadamente el 86 % de la varianza. Esto indica que el modelo capta mejor las relaciones no lineales."
   ]
  },
  {
   "cell_type": "code",
   "execution_count": 12,
   "id": "701d52ef",
   "metadata": {},
   "outputs": [
    {
     "name": "stdout",
     "output_type": "stream",
     "text": [
      "Mean Squared Error for Random Forest:  0.17005002768093916\n",
      "R2 Score for Random Forest:  0.865563527160472\n"
     ]
    }
   ],
   "source": [
    "rf_model = RandomForestRegressor(n_estimators=50, random_state=200)\n",
    "rf_model.fit(X_train, y_train)\n",
    "\n",
    "y_pred_rf = rf_model.predict(X_test)\n",
    "\n",
    "mse_rf = mean_squared_error(y_test, y_pred_rf)\n",
    "r2_rf = r2_score(y_test, y_pred_rf)\n",
    "\n",
    "print(\"Mean Squared Error for Random Forest: \", mse_rf)\n",
    "print(\"R2 Score for Random Forest: \", r2_rf)"
   ]
  },
  {
   "cell_type": "markdown",
   "id": "ec07facc",
   "metadata": {},
   "source": [
    "### Gradient Boosting Regressor\n",
    "Finalmente, implementamos un Gradient Boosting Regressor, un modelo de ensamblaje que construye árboles de forma secuencial, donde cada nuevo árbol intenta corregir los errores del anterior.\n",
    "\n",
    "Resultados:\n",
    "\n",
    "Error cuadrático medio (MSE): 0.1702\n",
    "\n",
    "Coeficiente de determinación (R²): 0.8655\n",
    "\n",
    "El modelo de Gradient Boosting presenta un rendimiento similar al Random Forest, con un MSE ligeramente superior y un R² prácticamente igual. Esto sugiere que ambos métodos de ensamblaje resultan eficaces para modelar los datos."
   ]
  },
  {
   "cell_type": "code",
   "execution_count": 13,
   "id": "9defe1f4",
   "metadata": {},
   "outputs": [
    {
     "name": "stdout",
     "output_type": "stream",
     "text": [
      "Mean Squared Error for Gradient Boosting:  0.17370799473257262\n",
      "R2 Score for Gradient Boosting:  0.8626716476654125\n"
     ]
    }
   ],
   "source": [
    "gb_model = GradientBoostingRegressor()\n",
    "gb_model.fit(X_train, y_train)\n",
    "\n",
    "y_pred_gb = gb_model.predict(X_test)\n",
    "\n",
    "mse_gb = mean_squared_error(y_test, y_pred_gb)\n",
    "r2_gb = r2_score(y_test, y_pred_gb)\n",
    "\n",
    "print(\"Mean Squared Error for Gradient Boosting: \", mse_gb)\n",
    "print(\"R2 Score for Gradient Boosting: \", r2_gb)"
   ]
  },
  {
   "cell_type": "markdown",
   "id": "3c943042",
   "metadata": {},
   "source": [
    "### Conclusiones\n",
    "\n",
    "Ambos modelos de ensamblaje (Random Forest y Gradient Boosting) superan al modelo de regresión lineal, lo que indica la presencia de relaciones no lineales en los datos.\n",
    "\n",
    "En este caso, el Random Forest Regressor supera ligeramente al Gradient Boosting Regressor.\n",
    "\n",
    "El modelo Random Forest (RF) se guardará para futuras predicciones debido a su mejor rendimiento."
   ]
  },
  {
   "cell_type": "code",
   "execution_count": 15,
   "id": "cc77e544",
   "metadata": {},
   "outputs": [
    {
     "data": {
      "text/plain": [
       "['../Model/rf_model.pkl']"
      ]
     },
     "execution_count": 15,
     "metadata": {},
     "output_type": "execute_result"
    }
   ],
   "source": [
    "joblib.dump(rf_model, \"../Model/rf_model.pkl\")"
   ]
  },
  {
   "cell_type": "markdown",
   "id": "c18a06d4",
   "metadata": {},
   "source": [
    "## Metricas "
   ]
  },
  {
   "cell_type": "markdown",
   "id": "5f5003bb",
   "metadata": {},
   "source": [
    "Evaluación del rendimiento del modelo\n",
    "\n",
    "Evaluaremos el rendimiento del modelo de Machine Learning entrenado utilizando diversas métricas de evaluación.\n",
    "\n",
    "Esto incluye calcular métricas como el Error Cuadrático Medio (MSE) y el coeficiente de determinación (R²) para valorar la precisión y eficacia de las predicciones del modelo. Además, visualizaremos su desempeño comparando los valores predichos con los valores reales."
   ]
  },
  {
   "cell_type": "markdown",
   "id": "2e2c09b0",
   "metadata": {},
   "source": [
    "Al igual que en el apartado anterior de seleccion de modelos en este apartado se espera que se vuelvan a cargar las librerias necesaria apesar de que la mayoria se cargan previamente me parece adecuado separar las importaciones por secciones."
   ]
  },
  {
   "cell_type": "code",
   "execution_count": 47,
   "id": "b9db8081",
   "metadata": {},
   "outputs": [],
   "source": [
    "import pandas as pd\n",
    "import matplotlib.pyplot as plt\n",
    "import seaborn as sns\n",
    "from sklearn.metrics import mean_squared_error, mean_absolute_error, r2_score\n",
    "import joblib"
   ]
  },
  {
   "cell_type": "code",
   "execution_count": null,
   "id": "94256934",
   "metadata": {},
   "outputs": [],
   "source": [
    "before_predict_data = pd.read_csv(\"../Data/happiness_report.csv\")\n"
   ]
  },
  {
   "cell_type": "code",
   "execution_count": 37,
   "id": "4a1eba93",
   "metadata": {},
   "outputs": [
    {
     "data": {
      "text/html": [
       "<div>\n",
       "<style scoped>\n",
       "    .dataframe tbody tr th:only-of-type {\n",
       "        vertical-align: middle;\n",
       "    }\n",
       "\n",
       "    .dataframe tbody tr th {\n",
       "        vertical-align: top;\n",
       "    }\n",
       "\n",
       "    .dataframe thead th {\n",
       "        text-align: right;\n",
       "    }\n",
       "</style>\n",
       "<table border=\"1\" class=\"dataframe\">\n",
       "  <thead>\n",
       "    <tr style=\"text-align: right;\">\n",
       "      <th></th>\n",
       "      <th>country</th>\n",
       "      <th>continent</th>\n",
       "      <th>year</th>\n",
       "      <th>economy</th>\n",
       "      <th>health</th>\n",
       "      <th>social_support</th>\n",
       "      <th>freedom</th>\n",
       "      <th>corruption_perception</th>\n",
       "      <th>generosity</th>\n",
       "      <th>happiness_rank</th>\n",
       "      <th>happiness_score</th>\n",
       "    </tr>\n",
       "  </thead>\n",
       "  <tbody>\n",
       "    <tr>\n",
       "      <th>0</th>\n",
       "      <td>Switzerland</td>\n",
       "      <td>Europe</td>\n",
       "      <td>2015</td>\n",
       "      <td>1.39651</td>\n",
       "      <td>0.94143</td>\n",
       "      <td>1.34951</td>\n",
       "      <td>0.66557</td>\n",
       "      <td>0.41978</td>\n",
       "      <td>0.29678</td>\n",
       "      <td>1</td>\n",
       "      <td>7.587</td>\n",
       "    </tr>\n",
       "    <tr>\n",
       "      <th>1</th>\n",
       "      <td>Iceland</td>\n",
       "      <td>Europe</td>\n",
       "      <td>2015</td>\n",
       "      <td>1.30232</td>\n",
       "      <td>0.94784</td>\n",
       "      <td>1.40223</td>\n",
       "      <td>0.62877</td>\n",
       "      <td>0.14145</td>\n",
       "      <td>0.43630</td>\n",
       "      <td>2</td>\n",
       "      <td>7.561</td>\n",
       "    </tr>\n",
       "    <tr>\n",
       "      <th>2</th>\n",
       "      <td>Denmark</td>\n",
       "      <td>Europe</td>\n",
       "      <td>2015</td>\n",
       "      <td>1.32548</td>\n",
       "      <td>0.87464</td>\n",
       "      <td>1.36058</td>\n",
       "      <td>0.64938</td>\n",
       "      <td>0.48357</td>\n",
       "      <td>0.34139</td>\n",
       "      <td>3</td>\n",
       "      <td>7.527</td>\n",
       "    </tr>\n",
       "    <tr>\n",
       "      <th>3</th>\n",
       "      <td>Norway</td>\n",
       "      <td>Europe</td>\n",
       "      <td>2015</td>\n",
       "      <td>1.45900</td>\n",
       "      <td>0.88521</td>\n",
       "      <td>1.33095</td>\n",
       "      <td>0.66973</td>\n",
       "      <td>0.36503</td>\n",
       "      <td>0.34699</td>\n",
       "      <td>4</td>\n",
       "      <td>7.522</td>\n",
       "    </tr>\n",
       "    <tr>\n",
       "      <th>4</th>\n",
       "      <td>Canada</td>\n",
       "      <td>North America</td>\n",
       "      <td>2015</td>\n",
       "      <td>1.32629</td>\n",
       "      <td>0.90563</td>\n",
       "      <td>1.32261</td>\n",
       "      <td>0.63297</td>\n",
       "      <td>0.32957</td>\n",
       "      <td>0.45811</td>\n",
       "      <td>5</td>\n",
       "      <td>7.427</td>\n",
       "    </tr>\n",
       "  </tbody>\n",
       "</table>\n",
       "</div>"
      ],
      "text/plain": [
       "       country      continent  year  economy   health  social_support  \\\n",
       "0  Switzerland         Europe  2015  1.39651  0.94143         1.34951   \n",
       "1      Iceland         Europe  2015  1.30232  0.94784         1.40223   \n",
       "2      Denmark         Europe  2015  1.32548  0.87464         1.36058   \n",
       "3       Norway         Europe  2015  1.45900  0.88521         1.33095   \n",
       "4       Canada  North America  2015  1.32629  0.90563         1.32261   \n",
       "\n",
       "   freedom  corruption_perception  generosity  happiness_rank  happiness_score  \n",
       "0  0.66557                0.41978     0.29678               1            7.587  \n",
       "1  0.62877                0.14145     0.43630               2            7.561  \n",
       "2  0.64938                0.48357     0.34139               3            7.527  \n",
       "3  0.66973                0.36503     0.34699               4            7.522  \n",
       "4  0.63297                0.32957     0.45811               5            7.427  "
      ]
     },
     "execution_count": 37,
     "metadata": {},
     "output_type": "execute_result"
    }
   ],
   "source": [
    "before_predict_data.head()"
   ]
  },
  {
   "cell_type": "code",
   "execution_count": 39,
   "id": "0b0af6ea",
   "metadata": {},
   "outputs": [],
   "source": [
    "rf_model = joblib.load(\"../Model/rf_model.pkl\")"
   ]
  },
  {
   "cell_type": "markdown",
   "id": "0e05f1da",
   "metadata": {},
   "source": [
    "## Revisión del modelo Random Forest\n",
    "MSE, R² y Explained Variance Score\n",
    "\n",
    "Error Cuadrático Medio (MSE): Valores más bajos indican un mejor desempeño del modelo. El rango aceptable depende de la escala de la variable objetivo; es fundamental comparar el MSE entre modelos usando el mismo conjunto de datos.\n",
    "\n",
    "R² (Coeficiente de Determinación): Sus valores varían entre 0 y 1; valores más altos denotan un mejor ajuste. Un R² cercano a 1 sugiere que el modelo explica una porción significativa de la varianza de la variable objetivo.\n",
    "\n",
    "Explained Variance Score: Similar al R², valores cercanos a 1 indican que el modelo captura la mayor parte de la varianza de los datos. Un mayor explained variance score denota un modelo más eficaz."
   ]
  },
  {
   "cell_type": "code",
   "execution_count": 41,
   "id": "9266248e",
   "metadata": {},
   "outputs": [],
   "source": [
    "test_df = pd.read_sql_table(\"test_data\", con=engine)"
   ]
  },
  {
   "cell_type": "code",
   "execution_count": 42,
   "id": "f8d729df",
   "metadata": {},
   "outputs": [],
   "source": [
    "X_test = test_df.drop(\"happiness_score\", axis=1)\n",
    "y_test = test_df[\"happiness_score\"]"
   ]
  },
  {
   "cell_type": "code",
   "execution_count": 44,
   "id": "b415a57c",
   "metadata": {},
   "outputs": [],
   "source": [
    "\n",
    "rf = joblib.load(\"../Model/rf_model.pkl\")"
   ]
  },
  {
   "cell_type": "code",
   "execution_count": 45,
   "id": "b03ec004",
   "metadata": {},
   "outputs": [
    {
     "name": "stderr",
     "output_type": "stream",
     "text": [
      "c:\\Users\\Nicolas Cuaran\\Desktop\\ETL\\WorkShop#3\\HappinnesScore_Predicted\\venv\\Lib\\site-packages\\sklearn\\utils\\validation.py:2739: UserWarning: X does not have valid feature names, but RandomForestRegressor was fitted with feature names\n",
      "  warnings.warn(\n"
     ]
    }
   ],
   "source": [
    "y_pred = rf.predict(X_test)"
   ]
  },
  {
   "cell_type": "code",
   "execution_count": 48,
   "id": "2f942329",
   "metadata": {},
   "outputs": [
    {
     "name": "stdout",
     "output_type": "stream",
     "text": [
      "MSE:  0.1701\n",
      "MAE:  0.3255\n",
      "R²:   0.8656\n"
     ]
    }
   ],
   "source": [
    "mse = mean_squared_error(y_test, y_pred)\n",
    "mae = mean_absolute_error(y_test, y_pred)\n",
    "r2  = r2_score(y_test, y_pred)\n",
    "\n",
    "print(f\"MSE:  {mse:.4f}\")\n",
    "print(f\"MAE:  {mae:.4f}\")\n",
    "print(f\"R²:   {r2:.4f}\")"
   ]
  },
  {
   "cell_type": "code",
   "execution_count": 49,
   "id": "37af3206",
   "metadata": {},
   "outputs": [
    {
     "data": {
      "image/png": "[encoded data removed]",
      "text/plain": [
       "<Figure size 640x480 with 1 Axes>"
      ]
     },
     "metadata": {},
     "output_type": "display_data"
    }
   ],
   "source": [
    "plt.figure()\n",
    "plt.scatter(y_test, y_pred)\n",
    "plt.plot([y_test.min(), y_test.max()],\n",
    "         [y_test.min(), y_test.max()],\n",
    "         linestyle=\"--\")\n",
    "plt.xlabel(\"Happiness Score real\")\n",
    "plt.ylabel(\"Happiness Score predicho\")\n",
    "plt.title(\"Predicciones vs Valores Reales\")\n",
    "plt.grid(True)\n",
    "plt.show()"
   ]
  },
  {
   "cell_type": "code",
   "execution_count": 50,
   "id": "4613af41",
   "metadata": {},
   "outputs": [
    {
     "data": {
      "image/png": "[encoded data removed]",
      "text/plain": [
       "<Figure size 640x480 with 1 Axes>"
      ]
     },
     "metadata": {},
     "output_type": "display_data"
    }
   ],
   "source": [
    "residuals = y_test - y_pred\n",
    "plt.figure()\n",
    "plt.hist(residuals, bins=30)\n",
    "plt.xlabel(\"Residuo (real − predicho)\")\n",
    "plt.ylabel(\"Frecuencia\")\n",
    "plt.title(\"Histograma de Residuales\")\n",
    "plt.grid(True)\n",
    "plt.show()"
   ]
  },
  {
   "cell_type": "markdown",
   "id": "895de424",
   "metadata": {},
   "source": [
    "## Cálculo de métricas:\n",
    "\n",
    "MSE mide el error cuadrático medio.\n",
    "\n",
    "MAE mide el error absoluto medio.\n",
    "\n",
    "R² indica qué proporción de la varianza queda explicada.\n",
    "\n",
    "Scatter plot: compara punto a punto el valor predicho contra el real; la línea punteada es 𝑦=𝑥.\n",
    "\n",
    "Histograma de residuales: te muestra si hay sesgos (asimetrías) o errores sistemáticos.\n",
    " \n",
    "en conclusion este modelo se ajuta alrededor de un 85% de los datos y las predicciones se ven correctas"
   ]
  }
 ],
 "metadata": {
  "kernelspec": {
   "display_name": "venv",
   "language": "python",
   "name": "python3"
  },
  "language_info": {
   "codemirror_mode": {
    "name": "ipython",
    "version": 3
   },
   "file_extension": ".py",
   "mimetype": "text/x-python",
   "name": "python",
   "nbconvert_exporter": "python",
   "pygments_lexer": "ipython3",
   "version": "3.11.4"
  }
 },
 "nbformat": 4,
 "nbformat_minor": 5
}
