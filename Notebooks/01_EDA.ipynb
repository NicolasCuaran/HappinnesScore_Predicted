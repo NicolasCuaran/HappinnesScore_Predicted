{
 "cells": [
  {
   "cell_type": "markdown",
   "id": "f639bd12",
   "metadata": {},
   "source": [
    "## Work Shop #3"
   ]
  },
  {
   "cell_type": "markdown",
   "id": "db2f1119",
   "metadata": {},
   "source": [
    "This proyecto want to predict the happiness score based on the data of the World Happiness Reports in diferents years from 2015 to 2019. The data is from csv documents and the pipeline is the document Wokrshop 3 Machine learnind and data streaming into the Documents folder.\n",
    "\n"
   ]
  }
 ],
 "metadata": {
  "language_info": {
   "name": "python"
  }
 },
 "nbformat": 4,
 "nbformat_minor": 5
}
